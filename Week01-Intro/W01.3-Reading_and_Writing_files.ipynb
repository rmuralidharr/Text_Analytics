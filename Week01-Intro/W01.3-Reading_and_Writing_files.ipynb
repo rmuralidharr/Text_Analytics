{
 "cells": [
  {
   "cell_type": "markdown",
   "metadata": {},
   "source": [
    "# Reading and Writing Files in Python\n",
    "\n",
    "**Week01, Section 03**\n",
    "\n",
    "ISM6564 Fall 2023\n",
    "\n",
    "&copy; 2023 Dr. Tim Smith\n",
    "\n",
    "-----"
   ]
  },
  {
   "cell_type": "markdown",
   "metadata": {},
   "source": [
    "In this tutorial, we will learn the various ways in which we can read and write to a file.\n",
    "\n",
    "**Section Objectives:**\n",
    "\n",
    "* Open a file for reading as text\n",
    "* Open a file for writing as binary\n",
    "* Open a file for reading and writing as text\n",
    "* Open a file for reading and writing as binary\n",
    "* Seeking in a file\n",
    "* Reading a file line by line\n",
    "* Reading a file character by character\n",
    "* Reading a file all at once\n"
   ]
  },
  {
   "cell_type": "markdown",
   "metadata": {},
   "source": [
    "### Reading files (Sourcing & Loading Corpus)"
   ]
  },
  {
   "cell_type": "markdown",
   "metadata": {},
   "source": [
    "> _**NOTE: Install vscode plugin go-to-character position.**\n",
    "> You can use the shortcut ctrl-g (windows) or cmd-g (Mac) to jump to a line and row number.\n",
    "> Sometimes when you attempt to read a file, you can get an error message about the encoding. This \n",
    "> error message will indicate the position of the character that is causing the problem. Ctrl-G\n",
    "> will not work to move to a specific character position. Instead, you can install the vscode \n",
    "> exenston called \"go to character position.\" Once installed, you can use the shortcut \n",
    "> ctrl-k ctrl-g (one after the other) to move to a specific character position._"
   ]
  },
  {
   "cell_type": "code",
   "execution_count": 5,
   "metadata": {},
   "outputs": [],
   "source": [
    "# open ./data/MLK_I_Have_a_Dream.txt in read mode\n",
    "\n",
    "fp = open('./data/MLK.txt', 'r', encoding='windows-1252')"
   ]
  },
  {
   "cell_type": "code",
   "execution_count": 6,
   "metadata": {},
   "outputs": [
    {
     "name": "stdout",
     "output_type": "stream",
     "text": [
      "True\n"
     ]
    }
   ],
   "source": [
    "#Check to see if the file was read without error: Output will either be True of False\n",
    "\n",
    "print(fp.readable()) "
   ]
  },
  {
   "cell_type": "code",
   "execution_count": 7,
   "metadata": {},
   "outputs": [
    {
     "name": "stdout",
     "output_type": "stream",
     "text": [
      "208\n"
     ]
    }
   ],
   "source": [
    "# get the size of the file\n",
    "\n",
    "import sys                  # import the sys module (this is short for system; and it is a module that is part of the Python standard library)\n",
    "print(sys.getsizeof(fp))    # print the size of the file"
   ]
  },
  {
   "cell_type": "code",
   "execution_count": 8,
   "metadata": {},
   "outputs": [],
   "source": [
    "# Read all the data at once, and load it into memory\n",
    "\n",
    "text = fp.read() # note that this will generate an error. "
   ]
  },
  {
   "cell_type": "markdown",
   "metadata": {},
   "source": [
    "> **Question: what's wrong? how do we fix it?**\n",
    ">\n",
    "> Hint: This would seem to be an encoding/decoding issue. \n"
   ]
  },
  {
   "cell_type": "code",
   "execution_count": 9,
   "metadata": {},
   "outputs": [
    {
     "name": "stdout",
     "output_type": "stream",
     "text": [
      "I am happy to join with you today in what will go down in history as the greatest demonstration for \n",
      "\n"
     ]
    }
   ],
   "source": [
    "# Read first 100 characters\n",
    "\n",
    "print(text[:100])   # since we have read the entire file into the text variable, we can use the slice operator to print the first 100 characters\n",
    "\n",
    "print(fp.read(100)) # we can also use the read() method to read the first 100 characters"
   ]
  },
  {
   "cell_type": "markdown",
   "metadata": {},
   "source": [
    "> **Question: Why don't we see any output from the print(fp.read()) statement above?**"
   ]
  },
  {
   "cell_type": "code",
   "execution_count": 10,
   "metadata": {},
   "outputs": [
    {
     "data": {
      "text/plain": [
       "9117"
      ]
     },
     "execution_count": 10,
     "metadata": {},
     "output_type": "execute_result"
    }
   ],
   "source": [
    "# As we read from a file, we use a file handle. This file handle is a data structure that maintains a cursor. \n",
    "# A cursor is where in the file we are at any given time.\n",
    "\n",
    "# tell() is a method privded by a file handle object that provides current location of text file pointer\n",
    "fp.tell()"
   ]
  },
  {
   "cell_type": "markdown",
   "metadata": {},
   "source": [
    "> **Question: Why is the current position 9117? What's the significance of this number?**"
   ]
  },
  {
   "cell_type": "code",
   "execution_count": 11,
   "metadata": {},
   "outputs": [
    {
     "name": "stdout",
     "output_type": "stream",
     "text": [
      "150\n",
      "e years ag\n",
      "1000000\n",
      "\n"
     ]
    }
   ],
   "source": [
    "# We can position the cursor to wherever we'd like \n",
    "\n",
    "# we can move the cursor to any location in the file\n",
    "fp.seek(150)\n",
    "print(fp.tell())\n",
    "print(fp.read(10))\n",
    "\n",
    "# if you try to move the cursor to a location that doesn't exist, you'll won't get an error\n",
    "# but you will not read anything there\n",
    "fp.seek(1000000)\n",
    "print(fp.tell())\n",
    "print(fp.read(10))"
   ]
  },
  {
   "cell_type": "markdown",
   "metadata": {},
   "source": [
    "Other ways to read data from a file"
   ]
  },
  {
   "cell_type": "code",
   "execution_count": 12,
   "metadata": {},
   "outputs": [
    {
     "name": "stdout",
     "output_type": "stream",
     "text": [
      "I am happy to join with you today in what will go down in history as the greatest demonstration for freedom in the history of our nation.\n",
      "\n",
      "139\n"
     ]
    }
   ],
   "source": [
    "# we can read one line at a time\n",
    "\n",
    "fp.seek(0)              # go to the beginning of the file\n",
    "print(fp.readline())    # read one line\n",
    "print(fp.tell())        # get the current position"
   ]
  },
  {
   "cell_type": "code",
   "execution_count": 13,
   "metadata": {},
   "outputs": [
    {
     "name": "stdout",
     "output_type": "stream",
     "text": [
      "['I am happy to join with you today in what will go down in history as the greatest demonstration for freedom in the history of our nation.\\n', '\\n', 'Five score years ago, a great American, in whose symbolic shadow we stand today, signed the Emancipation Proclamation. This momentous decree came as a great beacon light of hope to millions of Negro slaves who had been seared in the flames of withering injustice. It came as a joyous daybreak to end the long night of their captivity.\\n', '\\n', 'But one hundred years later, the Negro still is not free. One hundred years later, the life of the Negro is still sadly crippled by the manacles of segregation and the chains of discrimination. One hundred years later, the Negro lives on a lonely island of poverty in the midst of a vast ocean of material prosperity. One hundred years later, the Negro is still languishing in the corners of American society and finds himself an exile in his own land. So we have come here today to dramatize a shameful condition.\\n', '\\n', \"In a sense we have come to our nation's capital to cash a check. When the architects of our republic wrote the magnificent words of the Constitution and the Declaration of Independence, they were signing a promissory note to which every American was to fall heir. This note was a promise that all men, yes, black men as well as white men, would be guaranteed the unalienable rights of life, liberty, and the pursuit of happiness.\\n\", '\\n', 'It is obvious today that America has defaulted on this promissory note insofar as her citizens of color are concerned. Instead of honoring this sacred obligation, America has given the Negro people a bad check, a check which has come back marked \"insufficient funds.\" But we refuse to believe that the bank of justice is bankrupt. We refuse to believe that there are insufficient funds in the great vaults of opportunity of this nation. So we have come to cash this check — a check that will give us upon demand the riches of freedom and the security of justice. We have also come to this hallowed spot to remind America of the fierce urgency of now. This is no time to engage in the luxury of cooling off or to take the tranquilizing drug of gradualism. Now is the time to make real the promises of democracy. Now is the time to rise from the dark and desolate valley of segregation to the sunlit path of racial justice. Now is the time to lift our nation from the quick sands of racial injustice to the solid rock of brotherhood. Now is the time to make justice a reality for all of God\\'s children.\\n', '\\n', \"It would be fatal for the nation to overlook the urgency of the moment. This sweltering summer of the Negro's legitimate discontent will not pass until there is an invigorating autumn of freedom and equality. Nineteen sixty-three is not an end, but a beginning. Those who hope that the Negro needed to blow off steam and will now be content will have a rude awakening if the nation returns to business as usual. There will be neither rest nor tranquility in America until the Negro is granted his citizenship rights. The whirlwinds of revolt will continue to shake the foundations of our nation until the bright day of justice emerges.\\n\", '\\n', 'But there is something that I must say to my people who stand on the warm threshold which leads into the palace of justice. In the process of gaining our rightful place we must not be guilty of wrongful deeds. Let us not seek to satisfy our thirst for freedom by drinking from the cup of bitterness and hatred.\\n', '\\n', 'We must forever conduct our struggle on the high plane of dignity and discipline. We must not allow our creative protest to degenerate into physical violence. Again and again we must rise to the majestic heights of meeting physical force with soul force. The marvelous new militancy which has engulfed the Negro community must not lead us to a distrust of all white people, for many of our white brothers, as evidenced by their presence here today, have come to realize that their destiny is tied up with our destiny. They have come to realize that their freedom is inextricably bound to our freedom. We cannot walk alone.\\n', '\\n', 'As we walk, we must make the pledge that we shall always march ahead. We cannot turn back. There are those who are asking the devotees of civil rights, \"When will you be satisfied?\" We can never be satisfied as long as the Negro is the victim of the unspeakable horrors of police brutality. We can never be satisfied, as long as our bodies, heavy with the fatigue of travel, cannot gain lodging in the motels of the highways and the hotels of the cities. We cannot be satisfied as long as the Negro\\'s basic mobility is from a smaller ghetto to a larger one. We can never be satisfied as long as our children are stripped of their selfhood and robbed of their dignity by signs stating \"For Whites Only\". We cannot be satisfied as long as a Negro in Mississippi cannot vote and a Negro in New York believes he has nothing for which to vote. No, no, we are not satisfied, and we will not be satisfied until justice rolls down like waters and righteousness like a mighty stream.\\n', '\\n', 'I am not unmindful that some of you have come here out of great trials and tribulations. Some of you have come fresh from narrow jail cells. Some of you have come from areas where your quest for freedom left you battered by the storms of persecution and staggered by the winds of police brutality. You have been the veterans of creative suffering. Continue to work with the faith that unearned suffering is redemptive.\\n', '\\n', 'Go back to Mississippi, go back to Alabama, go back to South Carolina, go back to Georgia, go back to Louisiana, go back to the slums and ghettos of our northern cities, knowing that somehow this situation can and will be changed. Let us not wallow in the valley of despair.\\n', '\\n', 'I say to you today, my friends, so even though we face the difficulties of today and tomorrow, I still have a dream. It is a dream deeply rooted in the American dream.\\n', '\\n', 'I have a dream that one day this nation will rise up and live out the true meaning of its creed: \"We hold these truths to be self-evident: that all men are created equal.\"\\n', '\\n', 'I have a dream that one day on the red hills of Georgia the sons of former slaves and the sons of former slave owners will be able to sit down together at the table of brotherhood.\\n', '\\n', 'I have a dream that one day even the state of Mississippi, a state sweltering with the heat of injustice, sweltering with the heat of oppression, will be transformed into an oasis of freedom and justice.\\n', '\\n', 'I have a dream that my four little children will one day live in a nation where they will not be judged by the color of their skin but by the content of their character.\\n', '\\n', 'I have a dream today.\\n', '\\n', 'I have a dream that one day, down in Alabama, with its vicious racists, with its governor having his lips dripping with the words of interposition and nullification; one day right there in Alabama, little black boys and black girls will be able to join hands with little white boys and white girls as sisters and brothers.\\n', '\\n', 'I have a dream today.\\n', '\\n', 'I have a dream that one day every valley shall be exalted, every hill and mountain shall be made low, the rough places will be made plain, and the crooked places will be made straight, and the glory of the Lord shall be revealed, and all flesh shall see it together.\\n', '\\n', 'This is our hope. This is the faith that I go back to the South with. With this faith we will be able to hew out of the mountain of despair a stone of hope. With this faith we will be able to transform the jangling discords of our nation into a beautiful symphony of brotherhood. With this faith we will be able to work together, to pray together, to struggle together, to go to jail together, to stand up for freedom together, knowing that we will be free one day.\\n', '\\n', 'This will be the day when all of God\\'s children will be able to sing with a new meaning, \"My country, \\'tis of thee, sweet land of liberty, of thee I sing. Land where my fathers died, land of the pilgrim\\'s pride, from every mountainside, let freedom ring.\"\\n', '\\n', 'And if America is to be a great nation this must become true. So let freedom ring from the prodigious hilltops of New Hampshire. Let freedom ring from the mighty mountains of New York. Let freedom ring from the heightening Alleghenies of Pennsylvania!\\n', '\\n', 'Let freedom ring from the snowcapped Rockies of Colorado!\\n', '\\n', 'Let freedom ring from the curvaceous slopes of California!\\n', '\\n', 'But not only that; let freedom ring from Stone Mountain of Georgia!\\n', '\\n', 'Let freedom ring from Lookout Mountain of Tennessee!\\n', '\\n', 'Let freedom ring from every hill and molehill of Mississippi. From every mountainside, let freedom ring.\\n', '\\n', 'And when this happens, when we allow freedom to ring, when we let it ring from every village and every hamlet, from every state and every city, we will be able to speed up that day when all of God\\'s children, black men and white men, Jews and Gentiles, Protestants and Catholics, will be able to join hands and sing in the words of the old Negro spiritual, \"Free at last! free at last! thank God Almighty, we are free at last!\"\\n']\n"
     ]
    }
   ],
   "source": [
    "# we can read all remaining lines at once\n",
    "\n",
    "fp.seek(0)              # reset the file pointer to the beginning of the file\n",
    "print(fp.readlines())   # readlines returns a list of strings"
   ]
  },
  {
   "cell_type": "code",
   "execution_count": 14,
   "metadata": {},
   "outputs": [
    {
     "name": "stdout",
     "output_type": "stream",
     "text": [
      "I am happy to join with you today in what will go down in history as the greatest demonstration for freedom in the history of our nation.\n",
      "\n",
      "\n",
      "\n",
      "Five score years ago, a great American, in whose symbolic shadow we stand today, signed the Emancipation Proclamation. This momentous decree came as a great beacon light of hope to millions of Negro slaves who had been seared in the flames of withering injustice. It came as a joyous daybreak to end the long night of their captivity.\n",
      "\n",
      "\n",
      "\n",
      "But one hundred years later, the Negro still is not free. One hundred years later, the life of the Negro is still sadly crippled by the manacles of segregation and the chains of discrimination. One hundred years later, the Negro lives on a lonely island of poverty in the midst of a vast ocean of material prosperity. One hundred years later, the Negro is still languishing in the corners of American society and finds himself an exile in his own land. So we have come here today to dramatize a shameful condition.\n",
      "\n",
      "\n",
      "\n",
      "In a sense we have come to our nation's capital to cash a check. When the architects of our republic wrote the magnificent words of the Constitution and the Declaration of Independence, they were signing a promissory note to which every American was to fall heir. This note was a promise that all men, yes, black men as well as white men, would be guaranteed the unalienable rights of life, liberty, and the pursuit of happiness.\n",
      "\n"
     ]
    }
   ],
   "source": [
    "# we can read one line at a time in a loop\n",
    "\n",
    "fp.seek(0)                                      # go back to the beginning of the file\n",
    "for count, line in enumerate(fp.readlines()):   # enumerate() gives us a counter and an iterable\n",
    "    print(line)                                 # print the line from fp.readline()\n",
    "    if count > 5:                               # stop after 5 lines (just so we don't print the whole thing to the screen)\n",
    "        break\n"
   ]
  },
  {
   "cell_type": "markdown",
   "metadata": {},
   "source": [
    "> **Question: Why do we seem to have extra blank lines in our text?**"
   ]
  },
  {
   "cell_type": "code",
   "execution_count": 15,
   "metadata": {},
   "outputs": [],
   "source": [
    "# Close your file pointer\n",
    "\n",
    "fp.close()  # close file... be sure to remember this!"
   ]
  },
  {
   "cell_type": "markdown",
   "metadata": {},
   "source": [
    "> ### The 'with' statement in python\n",
    ">\n",
    "> The `with` statement is a context manager that ensures that the file is closed when the block inside the `with` statement is exited. This is helpful because it ensures that you don't accidentally leave a file open. It also allows you to use the file object only inside the indented block. Once you exit the indented block, the file is closed automatically.\n",
    ">\n",
    "> ```python\n",
    "> with open('filename.txt', 'r') as f:\n",
    ">     # use the file object f\n",
    ">     # inside this indented block\n",
    "> # outside this indented block\n",
    "> # the file is closed automatically\n",
    "> ```"
   ]
  },
  {
   "cell_type": "markdown",
   "metadata": {},
   "source": [
    "## Writing Files"
   ]
  },
  {
   "cell_type": "markdown",
   "metadata": {},
   "source": [
    "* opening a file for writing with 'w' mode will overwrite the file if it already exists\n",
    "* opening a file for writing with 'a' mode will append to the file if it already exists\n",
    "* opening a file for writing with 'x' mode will create a new file if it does not already exist\n",
    "* opening a file for reading with the 'r+' mode will allow you to read and write to the file\n",
    "* when writing to a file you cannot write integers or floats, you must convert them to strings first\n",
    "* when writing to a file you must add the newline character '\\n' to the end of each line\n",
    "* when writing to a file you must close the file when you are done writing to it\n",
    "  *    use 'with' statement as default approach - then you do not need to remember to close the file\n",
    "* when opening a file for writing you cannot use the 'read', 'readline' or 'readlines' methods, you must use the 'write' method\n",
    "* when opening a file for reading (using the 'r' mode) you cannot use the 'write' method, you must use the 'read', 'readline' or 'readlines' methods\n",
    "* the following code demonstrates the behavior of using seek when writing to a file"
   ]
  },
  {
   "cell_type": "code",
   "execution_count": 16,
   "metadata": {},
   "outputs": [],
   "source": [
    "# you can use seek() to move the cursor to a specific location when writing a file\n",
    "\n",
    "with open('./data/write_test1.txt', 'w') as f:\n",
    "    f.write('Hello World!')\n",
    "    f.seek(0)\n",
    "    f.write('J')"
   ]
  },
  {
   "cell_type": "code",
   "execution_count": 17,
   "metadata": {},
   "outputs": [],
   "source": [
    "with open('./data/write_test2.txt', 'w') as f:\n",
    "    f.write('Hello World!')\n",
    "    f.seek(100)             # this will move the cursere well past the end of the file\n",
    "    f.write('Hello World!') \n",
    "    \n",
    "# though this won't generate an error, many text viewers will not be able to view the file, or, will only show the first hello world.\n",
    "# For instance, try using vscode to view the write_test2.txt file. \n",
    "#   If you get an error, is should allow you to choose to open it with a hex editor - do that, and you will see the binary contents and that the second hello world is in fact in the file. \n",
    "# Now, try double clicking on the file in your file explorer (windows) or finder (macos)\n",
    "#   "
   ]
  }
 ],
 "metadata": {
  "kernelspec": {
   "display_name": "tf310",
   "language": "python",
   "name": "python3"
  },
  "language_info": {
   "codemirror_mode": {
    "name": "ipython",
    "version": 3
   },
   "file_extension": ".py",
   "mimetype": "text/x-python",
   "name": "python",
   "nbconvert_exporter": "python",
   "pygments_lexer": "ipython3",
   "version": "3.10.12"
  }
 },
 "nbformat": 4,
 "nbformat_minor": 2
}
