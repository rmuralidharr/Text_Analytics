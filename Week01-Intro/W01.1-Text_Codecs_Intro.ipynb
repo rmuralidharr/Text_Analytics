{
 "cells": [
  {
   "cell_type": "markdown",
   "metadata": {},
   "source": [
    "# Text Codecs Introduction\n",
    "\n",
    "**Week01, Section 01**\n",
    "\n",
    "ISM6564 Fall 2023\n",
    "\n",
    "&copy; 2023 Dr. Tim Smith\n",
    "\n",
    "--------"
   ]
  },
  {
   "cell_type": "markdown",
   "metadata": {},
   "source": [
    "## Introduction:\n",
    "\n",
    "**Two File Types: Text and Binary**\n",
    "\n",
    "In the context of programming, we can broadly categorize files into two types: text files, which hold data that is human-readable, and binary files, containing data that isn't intended for direct human interpretation. Our main emphasis throughout this course will be text files.\n",
    "\n",
    "**Operating system only see's bytes**\n",
    "\n",
    "It's crucial to note that, for an operating system, all files, whether text or binary, are merely sequences of bytes stored on a disk. The operating system does not possess the ability to understand the significance of these bytes. The onus falls upon the application to interpret these bytes correctly. This necessitates the application's awareness of the bytes' encoding, ensuring their accurate interpretation as intelligible text.\n",
    "\n",
    "**Character Encoding and Decoding**\n",
    "\n",
    "Character encodings denote the mappings between raw binary data (comprised of 0's and 1's) and text characters. If a text file encoded using a certain encoding is decoded using a different encoding, it can result in the transformation of the output text, sometimes to the point of illegibility.\n",
    "\n",
    "**Encoding/Decoding is Application Dependent**\n",
    "\n",
    "The encoding of a file is defined by the application creating the file. During both file creation and file reading, the application must clearly specify the encoding.\n",
    "\n",
    "**Encoding Standards Exist**\n",
    "\n",
    "Fortunately, there exist standard (and some non-standard) encoding techniques. ASCII, UTF-8, and UTF-16 are among the most prevalently used encoding techniques, enabling representation of a vast character set and promoting interoperability among varying systems and languages.\n",
    "\n",
    "**Understanding encoding/decoding of text files is important**\n",
    "\n",
    "For developers and programmers, understanding the concept of file encoding is vital, as it plays an indispensable role in ensuring that data, when working with text files, is interpreted and displayed correctly.\n"
   ]
  },
  {
   "cell_type": "markdown",
   "metadata": {},
   "source": [
    "## Section Objectives:\n",
    "\n",
    "This section aims to equip participants with the ability to:\n",
    "\n",
    "* Comprehend how computers perceive data: binary, hexadecimal, bytes, little endian, and big endian\n",
    "* Understand the notion of encoding and its significance\n",
    "* Distinguish between a byte and a character\n",
    "* Grasp the concept of character/file encoding and character mapping.\n",
    "* Familiarize with the most common character encodings\n",
    "* Differentiate between ASCII, Unicode (UTF-8, UTF-16, UTF-32), and ISO-8959-x codepages\n",
    "* Comprehend the difference between Codepage and UTF encoding"
   ]
  },
  {
   "cell_type": "markdown",
   "metadata": {},
   "source": [
    "## How Computers Perceive Data:\n",
    "\n",
    "**Binary**\n",
    "Computers store all data in a binary format, indicating that data is represented as sequences of 0's and 1's, the only format that computers can process.\n",
    "\n",
    "**Bits and Bytes**\n",
    "The smallest unit of data a computer can process is a bit, which can either be a 0 or a 1. A cluster of 8 bits is known as a byte, capable of representing 256 unique values (2^8). In a computer, a byte represents the smallest addressable unit of memory.\n",
    "\n",
    "**Hexidemical**\n",
    "A byte can be depicted in hexadecimal format. Hexadecimal is a base-16 number system that uses the digits 0-9 and the letters A-F to represent the values 0-15. Hexadecimal is widely employed in computing, given its more readable format compared to binary. Each hexadecimal digit represents 4 bits (2^4 = 16). Consequently, two hexadecimal digits can represent a byte (2^8 = 256).\n",
    "\n",
    "The following table shows the decimal, binary, and hexadecimal representations of the numbers 0-15.\n",
    "\n",
    "| Decimal | Binary | Hexadecimal |\n",
    "|---------|--------|-------------|\n",
    "| 0       | 0000   | 0           |\n",
    "| 1       | 0001   | 1           |\n",
    "| 2       | 0010   | 2           |\n",
    "| 3       | 0011   | 3           |\n",
    "| 4       | 0100   | 4           |\n",
    "| 5       | 0101   | 5           |\n",
    "| 6       | 0110   | 6           |\n",
    "| 7       | 0111   | 7           |\n",
    "| 8       | 1000   | 8           |\n",
    "| 9       | 1001   | 9           |\n",
    "| 10      | 1010   | A           |\n",
    "| 11      | 1011   | B           |\n",
    "| 12      | 1100   | C           |\n",
    "| 13      | 1101   | D           |\n",
    "| 14      | 1110   | E           |\n",
    "| 15      | 1111   | F           |\n",
    "\n",
    "Since the smallest unit of memory is a byte, each of these values would actually be represented as bytes. For example, the number 10 would be represented as 00001010 in binary and 0A in hexadecimal.\n",
    "\n",
    "The following table shows the decimal, binary, and hexadecimal representations of the numbers 0-255 as bytes.\n",
    "\n",
    "| Decimal | Binary | Hexadecimal |\n",
    "|---------|--------|-------------|\n",
    "| 0       | 00000000   | 00           |\n",
    "| 1       | 00000001   | 01           |\n",
    "| 2       | 00000010   | 02           |\n",
    "| 3       | 00000011   | 03           |\n",
    "| 4       | 00000100   | 04           |\n",
    "| 5       | 00000101   | 05           |\n",
    "| 6       | 00000110   | 06           |\n",
    "| 7       | 00000111   | 07           |\n",
    "| 8       | 00001000   | 08           |\n",
    "| 9       | 00001001   | 09           |\n",
    "| 10      | 00001010   | 0A           |\n",
    "| 11      | 00001011   | 0B           |\n",
    "| 12      | 00001100   | 0C           |\n",
    "| 13      | 00001101   | 0D           |\n",
    "| 14      | 00001110   | 0E           |\n",
    "| 15      | 00001111   | 0F           |\n",
    "| 16      | 00001111   | 10           |\n",
    "| 17      | 00001111   | 11           |\n",
    "|  ...    |  ...   | ...           |\n",
    "| 255      | 00001111   | FF           |"
   ]
  },
  {
   "cell_type": "markdown",
   "metadata": {},
   "source": [
    "### Endianness:"
   ]
  },
  {
   "cell_type": "markdown",
   "metadata": {},
   "source": [
    "Some data requires multiple bytes to store the information in memory. Endianess defines the sequence in which the bytes of a multi-byte data-item are stored and accessed in memory. Two common types of endianess are little-endian and big-endian.\n",
    "\n",
    "For instance, let's consider the hexadecimal number 0x12345678, which is a 32-bit (or 4-byte) number. We can think of this as 0x12, 0x34, 0x56, and 0x78, where each byte is represented by two hexadecimal digits. The following diagram shows the byte representation of the number 0x12345678 in both big-endian and little-endian formats.\n",
    "\n",
    "**Big-Endian:**\n",
    "In Big-Endian format, the most significant byte (MSB) is stored at the lowest memory address and the least significant byte (LSB) is stored at the highest memory address. If we consider the hexadecimal number 0x12345678, the byte representation would be as follows:\n",
    "\n",
    "|Address| \tValue|\n",
    "|---|---|\n",
    "0x0000\t| 0x12|\n",
    "0x0001\t| 0x34|\n",
    "0x0002\t| 0x56|\n",
    "0x0003\t| 0x78|\n",
    " \n",
    "**Little Endian**\n",
    "In contrast, in Little-Endian format, the LSB is stored at the lowest memory address, and the MSB at the highest memory address. For the same hexadecimal number 0x12345678, the byte representation would look like this:\n",
    "\n",
    "| Address|Value|\n",
    "|---|---|\n",
    "| 0x0000|0x78|\n",
    "| 0x0001|0x56|\n",
    "| 0x0002|0x34|\n",
    "| 0x0003|0x12|\n",
    "\n",
    "\n",
    "**Most modern computers are little endian.**\n",
    "Most modern computer systems, including x86 and x86-64, are little-endian. However, networks typically use big-endian, also known as network byte order, to improve performance and efficiency. It's therefore crucial to have a clear understanding of these concepts, especially when working with low-level programming, computer networks, or systems that interact with hardware directly."
   ]
  },
  {
   "cell_type": "markdown",
   "metadata": {},
   "source": [
    "## Understanding Encoding:"
   ]
  },
  {
   "cell_type": "markdown",
   "metadata": {},
   "source": [
    "Encoding involves the conversion of data from one format to another. Regarding text files, encoding pertains to the transformation of text characters to bytes, and vice versa.\n",
    "\n",
    "A character encoding provides a mapping between characters and bytes, defining how characters are translated into bytes, and how bytes are interpreted as characters.\n",
    "\n",
    "Despite there being numerous ways to map characters and bytes, the most common character encodings are ASCII, UTF-8, and UTF-16. These encodings allow us to represent a wide range of characters, facilitating interoperability between different systems and languages."
   ]
  },
  {
   "cell_type": "markdown",
   "metadata": {},
   "source": [
    "## In-depth Exploration of Text Encoding Standards"
   ]
  },
  {
   "cell_type": "markdown",
   "metadata": {},
   "source": [
    "In the context of electronic communication, text encoding standards are pivotal as they define a set of characters and assign each a unique number, facilitating standardized encoding and decoding processes. Various encoding standards have been developed over the years, each with their own specifications and purposes."
   ]
  },
  {
   "cell_type": "markdown",
   "metadata": {},
   "source": [
    "### ASCII Encoding"
   ]
  },
  {
   "cell_type": "markdown",
   "metadata": {},
   "source": [
    "ASCII, or the American Standard Code for Information Interchange, emerged as a seminal character encoding standard in 1963 and has withstood the test of time, being extensively used even today. With its 7-bit encoding scheme, ASCII accommodates 128 unique characters. This includes the complete set of English uppercase and lowercase letters (A-Z, a-z), the digits 0-9, a range of punctuation marks, as well as a collection of control characters instrumental in formatting and controlling the flow of text.\n",
    "\n",
    "A crucial aspect of ASCII to note is that it is a subset of UTF-8, which makes it backward compatible with the latter. In simpler terms, this implies that all ASCII characters can be interpreted correctly by a system designed for UTF-8."
   ]
  },
  {
   "cell_type": "markdown",
   "metadata": {},
   "source": [
    "### Unicode and its Variants (UTF-8 and UTF-16)"
   ]
  },
  {
   "cell_type": "markdown",
   "metadata": {},
   "source": [
    "In 1991, a more expansive encoding standard known as Unicode was introduced. Utilizing a 21-bit encoding scheme, Unicode can represent over 2 million unique characters (2^21 = 2,097,152), far exceeding the capacity of ASCII. Unicode includes characters from a plethora of languages worldwide, making it a comprehensive global standard.\n",
    "\n",
    "Two commonly used forms of Unicode are UTF-8 and UTF-16. Both variants were first published in 1993, defining the same character set as Unicode. However, they differ in the byte-length of their encoding.\n",
    "\n",
    "UTF-8 employs a variable-length encoding scheme, where each character can be represented by 1-4 bytes. This adaptability makes UTF-8 efficient for a wide range of use-cases, and particularly suited to languages where most characters fall within the ASCII range, as these can be represented using just a single byte. UTF-8 is backward compatible with both ASCII and Unicode, which means ASCII characters can be read accurately by UTF-8 systems, and UTF-8 characters by Unicode systems.\n",
    "\n",
    "Conversely, UTF-16 also uses a variable-length encoding scheme but each character is represented by either 2 or 4 bytes, depending on the character. This is generally more efficient for scripts (like many East Asian scripts) where most characters fall outside of the ASCII range. UTF-16 maintains backward compatibility with ASCII and Unicode as well."
   ]
  },
  {
   "cell_type": "markdown",
   "metadata": {},
   "source": [
    "### Codepages and ISO-8859-x"
   ]
  },
  {
   "cell_type": "markdown",
   "metadata": {},
   "source": [
    "Codepages are another type of character encoding standards that gained popularity around 1987. Unlike Unicode that caters to a vast array of languages with a single comprehensive standard, codepages cater to different languages through individual standards, each representing a unique set of characters with a fixed number of bytes.\n",
    "\n",
    "A common family of codepages is ISO-8859-x. This family employs an 8-bit encoding scheme and can represent 256 unique characters (2^8 = 256), including the English alphabet, digits, punctuation marks, control characters, and characters from various other European languages. It is backward compatible with ASCII and Unicode.\n",
    "\n",
    "---"
   ]
  },
  {
   "cell_type": "markdown",
   "metadata": {},
   "source": [
    "### Application of Encoding in Python"
   ]
  },
  {
   "cell_type": "markdown",
   "metadata": {},
   "source": [
    "In Python, the encoding plays a vital role when dealing with file I/O operations. The encoding standard must be specified when reading or writing a file. If not explicitly stated, Python uses the default encoding, which is platform-dependent (e.g., cp1252 on Windows, utf-8 on Linux)."
   ]
  },
  {
   "cell_type": "markdown",
   "metadata": {},
   "source": [
    "### Reading a File with Specific Encoding"
   ]
  },
  {
   "cell_type": "markdown",
   "metadata": {},
   "source": [
    "To read a file with a specific encoding, the 'encoding' parameter of the open() function is used. Here's an example:\n",
    "\n",
    "```python\n",
    "with open('file.txt', encoding='utf-8') as f:\n",
    "    data = f.read()\n",
    "```\n",
    "\n",
    "In this snippet, the file 'file.txt' is opened using the UTF-8 encoding, and its contents are read into the variable 'data'."
   ]
  },
  {
   "cell_type": "markdown",
   "metadata": {},
   "source": [
    "### Writing to a File with Specific Encoding"
   ]
  },
  {
   "cell_type": "markdown",
   "metadata": {},
   "source": [
    "Similarly, when writing to a file, the encoding should be stated explicitly. If not, Python will use the platform's default encoding. Here's how to specify the encoding:\n",
    "\n",
    "```python\n",
    "with open('file.txt', 'w', encoding='utf-8') as f:\n",
    "    f.write('Hello, world!')\n",
    "```\n",
    "\n",
    "In this snippet, the string 'Hello, world!' is written to 'file.txt' using UTF-8 encoding."
   ]
  },
  {
   "cell_type": "markdown",
   "metadata": {},
   "source": [
    "### Managing Encoding Errors"
   ]
  },
  {
   "cell_type": "markdown",
   "metadata": {},
   "source": [
    "Sometimes, encoding errors can occur if the selected encoding doesn't match the file's actual encoding. This will result in a UnicodeDecodeError, indicating that the file could not be decoded. For instance, if a file encoded with binary data was attempted to be read with UTF-8 encoding, Python would raise an error as shown below:\n",
    "\n",
    "```python\n",
    "with open('./data/binary.bin', 'r', encoding='utf-8') as f:\n",
    "    print(f.read())\n",
    "```\n",
    "\n",
    "This will lead to a traceback ending with a UnicodeDecodeError, demonstrating an issue with a specific byte in the file which could not be decoded using the chosen encoding.\n",
    "\n",
    "---\n",
    "\n",
    "> Remember, understanding and correctly applying text encoding standards is a cornerstone of managing and manipulating text data in any programming language, and Python is no exception. By mastering these concepts, students will gain a robust foundation in data handling, which is integral to numerous fields, including data analytics, web development, artificial intelligence, and many more.\n"
   ]
  },
  {
   "cell_type": "markdown",
   "metadata": {},
   "source": [
    "## How to detect the encoding of a file"
   ]
  },
  {
   "cell_type": "markdown",
   "metadata": {},
   "source": [
    "When reading a file, the encoding must be specified. If the encoding is not specified, the default encoding will be used. The default encoding is platform dependent. For example, on Windows the default encoding is cp1252, while on Linux the default encoding is utf-8. With Python programming, the default encoding is UTF-8.\n",
    "\n",
    "Ideally, you will be given information on how the file your are processing is encoded. If you do not have this information you have a couple different approaches:\n",
    "1) Try to read the file using different encodings until you find one that works.\n",
    "2) Use a library to detect the encoding of the file (one popular one in Python is chardet)\n",
    "3) Use a hex editor (in vscode install Hex Edit extension) to view the file and try to determine the encoding."
   ]
  },
  {
   "cell_type": "markdown",
   "metadata": {},
   "source": [
    "> ### Note About Glyphs\n",
    ">\n",
    "> A glyph is a graphical representation of a character. A glyph can be a single character, a sequence of characters, or a combination of characters and symbols. Glyphs are used to represent text in a variety of languages, including English, Chinese, Japanese, Korean, and Arabic.\n",
    ">\n",
    ">When we are working with text data, we are concerned with the correct intrpretation of what the data represents (i.e. the characters). The glyphs are the visual representation of the characters. Generally, we are not concerned with the glyphs, but rather the characters that the glyphs represent. "
   ]
  },
  {
   "cell_type": "markdown",
   "metadata": {},
   "source": [
    "## Conclusion"
   ]
  },
  {
   "cell_type": "markdown",
   "metadata": {},
   "source": [
    "In this notebook, we learned about encoding and decoding text files. Despite the complexity of what we seen, the basic idea is simple. A text file is a sequence of bytes. The encoding scheme tells us how to interpret the bytes in the file. The decoding scheme tells us how to convert the bytes in the file to characters. The encoding scheme and the decoding scheme must match. If they do not match, we will get an error.\n",
    "\n",
    "In most cases; you will not have to worry about encoding and decoding - the default of utf-8 will work. However, there are times when issues will arise, and you need to know how to fix any issues. If you have an understanding of the concepts covered in this notebook, you will be in much better position to troubleshoot and fix any issues that arise.\n",
    "\n",
    "A suggest approach is:\n",
    "1) Try loading file/data with default encoding (utf-8)\n",
    "2) If an error, is it related to encoding\n",
    "   *) I've included examples of these errors in the code above\n",
    "2) Do you know the possible encoding that might be used?\n",
    "   *) If yes, try loading file/data with that encoding\n",
    "   *) Common alternatives to Unicode (utf-8, utf-16 utf-32) are Windows-1252, MacRoman, ISO-8859-1\n",
    "3) Sometimes, you can load a file using one codepage that was created in another and not see an error.\n",
    "   *) If there are special characters used in the file, this will most likely result in these characters being displayed incorrectly.\n",
    "4) If you still haven't resolved the problem; try using the model chardet \n",
    "   *) Chardet will attempt to determine the encoding of a file. It is not perfect, but it can help you determine the encoding of a file.\n",
    "5) If you still haven't resolved the problem; try using the model ftfy (https://ftfy.readthedocs.io/en/latest/)"
   ]
  },
  {
   "cell_type": "markdown",
   "metadata": {},
   "source": [
    "## References\n",
    "\n",
    "* Python Codecs (Encoding/Decoding) - [https://docs.python.org/3.11/library/codecs.html](https://docs.python.org/3.11/library/codecs.html)\n",
    "* Binary, Hex, and Decimal Converter - [https://www.rapidtables.com/convert/number/ascii-to-binary.html](https://www.rapidtables.com/convert/number/ascii-to-binary.html)\n",
    "* Endianness - [https://en.wikipedia.org/wiki/Endianness](https://en.wikipedia.org/wiki/Endianness)\n",
    "* ASCII Table - [https://www.asciitable.com/](https://www.asciitable.com/)\n",
    "* Unicode Table - [https://unicode-table.com/en/](https://unicode-table.com/en/)\n",
    "  * To see how Unicode is segmented into ranges (or blocks) for languages/charactets, see here https://symbl.cc/en/unicode/blocks/\n",
    "  * UTF-8 Table - [https://www.utf8-chartable.de/](https://www.utf8-chartable.de/)\n",
    "  * UTF-16 Table - [https://www.fileformat.info/info/charset/UTF-16/list.htm](https://www.fileformat.info/info/charset/UTF-16/list.htm)\n",
    "  * UTF-32 Table - [https://www.fileformat.info/info/charset/UTF-32/list.htm](https://www.fileformat.info/info/charset/UTF-32/list.htm)\n",
    "* IS0-8859-x Table - [https://en.wikipedia.org/wiki/ISO/IEC_8859](https://en.wikipedia.org/wiki/ISO/IEC_8859)\n",
    "* Chardet - [https://pypi.org/project/chardet/]\n",
    "* Hex Editors - [https://en.wikipedia.org/wiki/Comparison_of_hex_editors](https://en.wikipedia.org/wiki/Comparison_of_hex_editors)\n",
    "* VSCode hex Editor Extension - [https://marketplace.visualstudio.com/items?itemName=ms-vscode.hexeditor](https://marketplace.visualstudio.com/items?itemName=ms-vscode.hexeditor)\n",
    "* The concept of Glyphs - [https://en.wikipedia.org/wiki/Glyph](https://en.wikipedia.org/wiki/Glyph)\n"
   ]
  },
  {
   "cell_type": "markdown",
   "metadata": {},
   "source": [
    "## Questions:\n",
    "\n",
    "* What is a text codec?\n",
    "* What is a character encoding?\n",
    "* What a glyph? And, how is it related to a character?\n",
    "* What is the difference between a character and a byte?\n",
    "\n"
   ]
  }
 ],
 "metadata": {
  "kernelspec": {
   "display_name": "tf310",
   "language": "python",
   "name": "python3"
  },
  "language_info": {
   "codemirror_mode": {
    "name": "ipython",
    "version": 3
   },
   "file_extension": ".py",
   "mimetype": "text/x-python",
   "name": "python",
   "nbconvert_exporter": "python",
   "pygments_lexer": "ipython3",
   "version": "3.10.12"
  },
  "orig_nbformat": 4
 },
 "nbformat": 4,
 "nbformat_minor": 2
}
