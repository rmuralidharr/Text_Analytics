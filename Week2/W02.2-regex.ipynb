{
 "cells": [
  {
   "cell_type": "markdown",
   "metadata": {},
   "source": [
    "# Regular Expressions"
   ]
  },
  {
   "cell_type": "markdown",
   "metadata": {},
   "source": [
    "## Introduction"
   ]
  },
  {
   "cell_type": "markdown",
   "metadata": {},
   "source": [
    "Regular expressions (regex or regexp) are patterns used to match character combinations in strings. They are a powerful tool for working with text search, manipulation, and validation. You can think of regular expressions like a \"mini-language\" for matching strings against patterns. They provide a powerful way to manipulate and analyze text in programs."
   ]
  },
  {
   "cell_type": "markdown",
   "metadata": {},
   "source": [
    "## Python regular expression methods\n",
    "\n",
    "\n",
    "* `re.match(pattern, string, flags=0)` # match from the beginning of the string\n",
    "* `re.search(pattern, string, flags=0)` # search the entire string\n",
    "* `re.fullmatch(pattern, string, flags=0)` # match the entire string with the pattern\n",
    "\n",
    "> re.match is anchored at the start ^pattern\n",
    "> * Ensures the string begins with the pattern\n",
    "> \n",
    "> re.fullmatch is anchored at the start and end of the pattern ^pattern$\n",
    "> * Ensures the full string matches the pattern (can be especially useful with alternations as described here)\n",
    "> \n",
    "> re.search is not anchored pattern\n",
    "> * Ensures the string contains the pattern\n",
    "\n",
    "\n",
    "* `re.findall(pattern, string, flags=0)` # find all matches in the string\n",
    "* `re.sub(pattern, repl, string, count=0, flags=0)` # replace all matches in the string\n",
    "* `re.split(pattern, string, maxsplit=0, flags=0)` # split string by the occurrences of pattern\n",
    "\n",
    "\n",
    "* `re.compile(pattern, flags=0)` # compile a regular expression pattern into a regular expression object\n",
    "\n",
    "> compile will save computation if you need to repeatedly use the same pattern\n",
    "\n",
    "\n",
    "\n",
    "\n"
   ]
  },
  {
   "cell_type": "markdown",
   "metadata": {},
   "source": [
    "## 1. Character Classes"
   ]
  },
  {
   "cell_type": "markdown",
   "metadata": {},
   "source": [
    "Character classes let you define specific groups of characters to match within strings. \n",
    "\n",
    "   - `\\d` matches any digit from 0 to 9.\n",
    "   - `\\w` matches any alphanumeric character including underscores.\n",
    "   - `\\s` matches any whitespace character such as space, tab, newline, etc.\n",
    "   - `.`  matches any character \n",
    "   - These classes can help find patterns based on specific types of characters.\n",
    "\n",
    "> Use the . operator carefully since often class or negated character class (which we’ll cover next) are faster and more precise.\n",
    ">\n",
    "> `\\d`, `\\w` and `\\s` also present their negations with `\\D,` `\\W` and `\\S` respectively.\n",
    ">\n",
    "> For example, `\\D` will perform the inverse match with respect to that obtained with `\\d`.\n",
    "> \n",
    "> * `\\D`         matches a single non-digit character -> Try it!\n",
    ">\n",
    "> In order to be taken literally, you must escape the characters ^.[$()|*+?{\\with a backslash \\ as they have special meaning.\n",
    ">\n",
    "> * `\\$\\d`       matches a string that has a $ before one digit -> Try it!\n",
    "> Notice that you can match also non-printable characters like tabs \\t, new-lines \\n, carriage returns \\r."
   ]
  },
  {
   "cell_type": "code",
   "execution_count": 1,
   "metadata": {},
   "outputs": [
    {
     "name": "stdout",
     "output_type": "stream",
     "text": [
      "For pattern \\d:\n",
      "Match: <re.Match object; span=(6, 7), match='1'>\n",
      "Group: 1\n",
      "Span: (6, 7)\n",
      "Start: 6\n",
      "End: 7\n",
      "\n",
      "For pattern \\D:\n",
      "Match: <re.Match object; span=(0, 1), match='H'>\n",
      "Group: H\n",
      "Span: (0, 1)\n",
      "Start: 0\n",
      "End: 1\n",
      "\n",
      "For pattern \\w:\n",
      "Match: <re.Match object; span=(0, 1), match='H'>\n",
      "Group: H\n",
      "Span: (0, 1)\n",
      "Start: 0\n",
      "End: 1\n",
      "\n",
      "For pattern \\W:\n",
      "Match: <re.Match object; span=(5, 6), match=' '>\n",
      "Group:  \n",
      "Span: (5, 6)\n",
      "Start: 5\n",
      "End: 6\n",
      "\n",
      "For pattern \\s:\n",
      "Match: <re.Match object; span=(5, 6), match=' '>\n",
      "Group:  \n",
      "Span: (5, 6)\n",
      "Start: 5\n",
      "End: 6\n",
      "\n",
      "For pattern \\S:\n",
      "Match: <re.Match object; span=(0, 1), match='H'>\n",
      "Group: H\n",
      "Span: (0, 1)\n",
      "Start: 0\n",
      "End: 1\n",
      "\n"
     ]
    }
   ],
   "source": [
    "import re\n",
    "\n",
    "# Define a pattern to match the word \"the\"\n",
    "patterns = [r\"\\d\",  # \\d matches any digit (0-9)\n",
    "            r\"\\D\",  # \\D matches any non-digit\n",
    "            r\"\\w\",  # \\w matches any alphanumeric character\n",
    "            r\"\\W\",  # \\W matches any non-alphanumeric character\n",
    "            r\"\\s\",  # \\s matches any whitespace character\n",
    "            r\"\\S\"]  # \\S matches any non-whitespace character\n",
    "\n",
    "# Define a string to search\n",
    "text = \"Hello 123.\"\n",
    "#       0123456789  # ^^^ Indices of string characters\n",
    "\n",
    "# Search the string using our pattern\n",
    "for pattern in patterns:\n",
    "    print(f\"For pattern {pattern}:\")\n",
    "    match = re.search(pattern, text)\n",
    "\n",
    "    # Print the match object\n",
    "    print(f\"Match: {match}\")\n",
    "    print(f\"Group: {match.group()}\")\n",
    "    print(f\"Span: {match.span()}\")\n",
    "    print(f\"Start: {match.start()}\")\n",
    "    print(f\"End: {match.end()}\")\n",
    "    print()"
   ]
  },
  {
   "cell_type": "markdown",
   "metadata": {},
   "source": [
    "## 2. Quantifiers"
   ]
  },
  {
   "cell_type": "markdown",
   "metadata": {},
   "source": [
    "Quantifiers dictate how many times the preceding element must appear.\n",
    "\n",
    "   - `*` matches 0 or more instances.\n",
    "   - `+` matches 1 or more instances.\n",
    "   - `?` matches 0 or 1 instance.\n",
    "   - `{3}` matches exactly 3 instances.\n",
    "   - Quantifiers enable flexible matching of repeated elements.\n",
    "   - Examples:\n",
    "     - `abc*`        matches a string that has ab followed by zero or more c \n",
    "     - `abc+`        matches a string that has ab followed by one or more c\n",
    "     - `abc?`        matches a string that has ab followed by zero or one c\n",
    "     - `abc{2}`      matches a string that has ab followed by 2 c\n",
    "     - `abc{2,}`     matches a string that has ab followed by 2 or more c\n",
    "     - `abc{2,5}`    matches a string that has ab followed by 2 up to 5 c\n"
   ]
  },
  {
   "cell_type": "code",
   "execution_count": 2,
   "metadata": {},
   "outputs": [
    {
     "name": "stdout",
     "output_type": "stream",
     "text": [
      "For pattern \\d*:\n",
      "44 matches found: ['', '', '', '', '', '', '123', '', '', '', '', '', '', '', '', '', '', '', '', '', '', '', '', '', '', '', '', '', '', '', '', '', '', '', '', '', '', '', '', '', '', '', '', '']\n",
      "Match: ['', '', '', '', '', '', '123', '', '', '', '', '', '', '', '', '', '', '', '', '', '', '', '', '', '', '', '', '', '', '', '', '', '', '', '', '', '', '', '', '', '', '', '', '']\n",
      "\n",
      "For pattern \\d+:\n",
      "1 matches found: ['123']\n",
      "Match: ['123']\n",
      "\n",
      "For pattern \\d?:\n",
      "46 matches found: ['', '', '', '', '', '', '1', '2', '3', '', '', '', '', '', '', '', '', '', '', '', '', '', '', '', '', '', '', '', '', '', '', '', '', '', '', '', '', '', '', '', '', '', '', '', '', '']\n",
      "Match: ['', '', '', '', '', '', '1', '2', '3', '', '', '', '', '', '', '', '', '', '', '', '', '', '', '', '', '', '', '', '', '', '', '', '', '', '', '', '', '', '', '', '', '', '', '', '', '']\n",
      "\n",
      "For pattern \\d{2}:\n",
      "1 matches found: ['12']\n",
      "Match: ['12']\n",
      "\n",
      "For pattern \\d{1,3}:\n",
      "1 matches found: ['123']\n",
      "Match: ['123']\n",
      "\n",
      "For pattern l*:\n",
      "41 matches found: ['', '', 'll', '', '', '', '', '', '', '', '', 'll', '', '', '', '', '', 'll', '', '', '', '', '', 'll', '', '', '', '', 'll', '', '', '', 'l', '', '', '', '', '', '', '', '']\n",
      "Match: ['', '', 'll', '', '', '', '', '', '', '', '', 'll', '', '', '', '', '', 'll', '', '', '', '', '', 'll', '', '', '', '', 'll', '', '', '', 'l', '', '', '', '', '', '', '', '']\n",
      "\n",
      "For pattern l+:\n",
      "6 matches found: ['ll', 'll', 'll', 'll', 'll', 'l']\n",
      "Match: ['ll', 'll', 'll', 'll', 'll', 'l']\n",
      "\n"
     ]
    }
   ],
   "source": [
    "import re\n",
    "\n",
    "# Define a pattern to match the word \"the\"\n",
    "patterns = [r\"\\d*\",     \n",
    "            r\"\\d+\", \n",
    "            r\"\\d?\", \n",
    "            r\"\\d{2}\", \n",
    "            r\"\\d{1,3}\", \n",
    "            r\"l*\", \n",
    "            r\"l+\"]\n",
    "\n",
    "# Define a string to search\n",
    "text = \"Hello 123 Yellow Mellow Mellowyellow laundry.\"\n",
    "#       0123456789  # ^^^ Indices of string characters\n",
    "\n",
    "# Search the string using our pattern\n",
    "for pattern in patterns:\n",
    "    print(f\"For pattern {pattern}:\")\n",
    "    match = re.findall(pattern, text)\n",
    "\n",
    "    # Print the match object\n",
    "    print(f\"{len(match)} matches found: {match}\")\n",
    "    print(f\"Match: {match}\")\n",
    "    print()"
   ]
  },
  {
   "cell_type": "markdown",
   "metadata": {},
   "source": [
    "## 3. Grouping"
   ]
  },
  {
   "cell_type": "markdown",
   "metadata": {},
   "source": [
    "Parentheses `()` are used for grouping parts of a pattern together. \n",
    "\n",
    "   - This allows for applying quantifiers to groups.\n",
    "   - It also enables the extraction of matched groups later, which can be essential for complex pattern extraction.\n",
    "   - Examples: \n",
    "     - `a(bc)`           parentheses create a capturing group with value bc\n",
    "     - `a(?:bc)*`        using ?: we disable the capturing group \n",
    "     - `a(?P<foo>bc)`    using ?P<foo> we put a name to the group "
   ]
  },
  {
   "cell_type": "markdown",
   "metadata": {},
   "source": [
    "### Basic Syntax for Grouping\n",
    "\n",
    "The basic syntax for a group is to enclose the regex pattern you want to group in parentheses `( )`.\n",
    "\n",
    "```python\n",
    "pattern = '(ab)+'\n",
    "string = 'ababab'\n",
    "result = re.search(pattern, string)\n",
    "print(result.group())\n",
    "```\n",
    "\n",
    "### Why Use Groups?\n",
    "\n",
    "- **Capture substrings**: Extract specific parts from the text.\n",
    "- **Apply quantifiers to multiple characters**: For example, `(ab){2}` will match `'abab'`.\n",
    "- **Logical OR matching**: Use `|` to match one of many expressions.\n",
    "\n",
    "### Practical Examples\n",
    "\n",
    "#### Example 1: Extracting Dates\n",
    "\n",
    "Suppose we want to extract dates formatted as \"MM/DD/YYYY\" from a text.\n",
    "\n",
    "```python\n",
    "pattern = r'(\\d{2})/(\\d{2})/(\\d{4})'\n",
    "text = \"Today's date is 08/26/2023\"\n",
    "match = re.search(pattern, text)\n",
    "if match:\n",
    "    print(f\"Month: {match.group(1)}, Day: {match.group(2)}, Year: {match.group(3)}\")\n",
    "```\n",
    "\n",
    "#### Example 2: Simplifying Nested Groups\n",
    "\n",
    "Grouping can also be nested. Consider the pattern for matching email addresses.\n",
    "\n",
    "```python\n",
    "pattern = r'((\\w+\\.)*\\w+)@((\\w+\\.)+\\w+)'\n",
    "text = \"Contact us at info@example.com\"\n",
    "match = re.search(pattern, text)\n",
    "if match:\n",
    "    print(f\"User: {match.group(1)}, Domain: {match.group(3)}\")\n",
    "```\n",
    "\n",
    "#### Example 3: Using Quantifiers with Groups\n",
    "\n",
    "Groups can be combined with quantifiers. For example, the following pattern will match one or more occurrences of 'ab'.\n",
    "\n",
    "```python\n",
    "pattern = r'(ab)+'\n",
    "text = \"The sequence 'ababab' shows repetitive patterns.\"\n",
    "match = re.findall(pattern, text)\n",
    "if match:\n",
    "    print(f\"Found patterns: {match}\")\n",
    "```\n",
    "\n",
    "#### Example 4: Logical OR in Groups\n",
    "\n",
    "Use the `|` symbol to specify that only one pattern among multiple patterns should match.\n",
    "\n",
    "```python\n",
    "pattern = r'(apple|orange|banana)'\n",
    "text = \"I like to eat apple and orange.\"\n",
    "match = re.findall(pattern, text)\n",
    "if match:\n",
    "    print(f\"Fruits found: {match}\")\n",
    "```"
   ]
  },
  {
   "cell_type": "markdown",
   "metadata": {},
   "source": [
    "In the following cell, we provide a more complex example of using groups to extract data from a text file: specifically, the use of named groups is demonstrated."
   ]
  },
  {
   "cell_type": "code",
   "execution_count": 3,
   "metadata": {},
   "outputs": [
    {
     "name": "stdout",
     "output_type": "stream",
     "text": [
      "example 1:\n",
      "<re.Match object; span=(29, 35), match='$12.34'>\n",
      "12\n",
      "\n",
      "example 2:\n",
      "match $12.34 start index 29 End index 35\n",
      "match $1.23 start index 45 End index 50\n",
      "\n",
      "example 3:\n",
      "match $12.34 start index 29 End index 35\n",
      "match $1.23 start index 45 End index 50\n",
      "\n",
      "example 4:\n",
      "[('12', '34'), ('1', '23')]\n",
      "\n",
      "example 5:\n",
      "12 dollars 34 cents\n",
      "1 dollars 23 cents\n",
      "\n"
     ]
    }
   ],
   "source": [
    "import re\n",
    "\n",
    "# Define a string to search\n",
    "text = \"\"\"\n",
    "Today's Temp:\n",
    "85.4\n",
    "Price #2\n",
    "$12.34\n",
    "Price #3 $1.23\n",
    "\"\"\"\n",
    "\n",
    "print(\"example 1:\")\n",
    "match = re.search(r\"\\$(?P<dollar>\\d+)\\.\\d+\", text) # this will allow us to name the group\n",
    "print(match)\n",
    "print(match.group('dollar'))  # here, we can call the group by name\n",
    "print()\n",
    "\n",
    "print(\"example 2:\")\n",
    "for match in re.finditer(r\"\\$\\d+\\.\\d+\", text):  # here, we create an iterator that will return all matches, one at a time\n",
    "    print(\"match\",  match.group(), \"start index\", match.start(), \"End index\", match.end())\n",
    "print()\n",
    "\n",
    "print(\"example 3:\")\n",
    "for match in re.finditer(r\"\\$(\\d+)\\.(\\d+)\", text): # here, we create an iterator that will return all matches, one at a time\n",
    "    print(\"match\",  match.group(), \"start index\", match.start(), \"End index\", match.end())\n",
    "print()\n",
    "\n",
    "print(\"example 4:\")\n",
    "print(re.findall(r\"\\$(\\d+)\\.(\\d+)\", text))\n",
    "print()\n",
    "\n",
    "print(\"example 5:\")\n",
    "for match in re.finditer(r\"\\$(?P<dollars>\\d+)\\.(?P<cents>\\d+)\", text): # here, we create an iterator that will return all matches, one at a time\n",
    "    print(match.group('dollars'), \"dollars\", match.group(\"cents\"),  \"cents\", )\n",
    "print()"
   ]
  },
  {
   "cell_type": "markdown",
   "metadata": {},
   "source": [
    "## 4. Bracket expressions "
   ]
  },
  {
   "cell_type": "markdown",
   "metadata": {},
   "source": [
    "Bracket expressions are enclosed in square brackets `[ ]`, and they will match any single character contained within the brackets."
   ]
  },
  {
   "cell_type": "code",
   "execution_count": 4,
   "metadata": {},
   "outputs": [
    {
     "name": "stdout",
     "output_type": "stream",
     "text": [
      "['ll', 'l']\n"
     ]
    }
   ],
   "source": [
    "ypattern = '[aeiou]'\n",
    "string = 'hello world'\n",
    "result = re.findall(pattern, string)\n",
    "print(result)  # Output: ['e', 'o', 'o']"
   ]
  },
  {
   "cell_type": "markdown",
   "metadata": {},
   "source": [
    "### Use Cases for Bracket Expressions\n",
    "\n",
    "- **Character classes**: `[aeiou]` will match any vowel.\n",
    "- **Ranges**: `[0-9]` will match any digit.\n",
    "- **Negation**: `[^aeiou]` will match anything other than a vowel.\n",
    "\n",
    "### Practical Examples\n",
    "\n",
    "#### Example 1: Extracting Vowels from a String\n",
    "\n",
    "To extract all vowels from a string, we can use the following code."
   ]
  },
  {
   "cell_type": "code",
   "execution_count": 5,
   "metadata": {},
   "outputs": [
    {
     "name": "stdout",
     "output_type": "stream",
     "text": [
      "Vowels found: ['e', 'u', 'a', 'e', 'e', 'i', 'o', 'a', 'e', 'o', 'e', 'u']\n"
     ]
    }
   ],
   "source": [
    "pattern = '[aeiou]'\n",
    "text = \"Regular expressions are powerful.\"\n",
    "matches = re.findall(pattern, text)\n",
    "print(f\"Vowels found: {matches}\")"
   ]
  },
  {
   "cell_type": "markdown",
   "metadata": {},
   "source": [
    "#### Example 2: Finding Digits in a Text\n",
    "\n",
    "We can find all digits in a string using the pattern `[0-9]`."
   ]
  },
  {
   "cell_type": "code",
   "execution_count": 6,
   "metadata": {},
   "outputs": [
    {
     "name": "stdout",
     "output_type": "stream",
     "text": [
      "Digits found: ['2', '0', '2', '3']\n"
     ]
    }
   ],
   "source": [
    "pattern = '[0-9]'\n",
    "text = \"The year is 2023.\"\n",
    "matches = re.findall(pattern, text)\n",
    "print(f\"Digits found: {matches}\")"
   ]
  },
  {
   "cell_type": "markdown",
   "metadata": {},
   "source": [
    "#### Example 3: Extracting Specific Words\n",
    "\n",
    "To find all instances of specific words in a text, you can use bracket expressions to handle case variations."
   ]
  },
  {
   "cell_type": "code",
   "execution_count": 7,
   "metadata": {},
   "outputs": [
    {
     "name": "stdout",
     "output_type": "stream",
     "text": [
      "Instances found: ['The', 'the', 'The']\n"
     ]
    }
   ],
   "source": [
    "pattern = '[Tt]he'\n",
    "text = \"The code, the comment, and The readme.\"\n",
    "matches = re.findall(pattern, text)\n",
    "print(f\"Instances found: {matches}\")"
   ]
  },
  {
   "cell_type": "markdown",
   "metadata": {},
   "source": [
    "#### Example 4: Negation in Bracket Expressions\n",
    "\n",
    "We can also negate a class by using `^` as the first character in the bracket expression."
   ]
  },
  {
   "cell_type": "code",
   "execution_count": 8,
   "metadata": {},
   "outputs": [
    {
     "name": "stdout",
     "output_type": "stream",
     "text": [
      "Consonants found: ['h', 'l', 'l']\n"
     ]
    }
   ],
   "source": [
    "pattern = '[^aeiou]'\n",
    "text = \"hello\"\n",
    "matches = re.findall(pattern, text)\n",
    "print(f\"Consonants found: {matches}\")"
   ]
  },
  {
   "cell_type": "markdown",
   "metadata": {},
   "source": [
    "#### More advanced patterns\n",
    "\n",
    "- `[abc]`            matches a string that has either an a or a b or a c -> is the same as a|b|c \n",
    "- `[a-c]`          same as previous\n",
    "- `[a-fA-F0-9]`      a string that represents a single hexadecimal digit, case insensitively \n",
    "- `[0-9]%`           a string that has a character from 0 to 9 before a % sign\n",
    "- `[^a-zA-Z]`        a string that has not a letter from a to z or from A to Z. In this case the ^ is used as negation of the expression \n",
    "- Greedy and Lazy match\n",
    "    - The quantifiers `( * + {})` are greedy operators, so they expand the match as far as they can through the provided text.\n",
    "    - For example, `<.+>` matches `<div>simple div</div>` in `This is a <div> simple div</div> test.` \n",
    "    - In order to catch only the div tag we can use a `?` to make it lazy:\n",
    "        - `<.+?>`            matches any character one or more times included inside `<` and `>`, expanding as needed\n",
    "        - Notice that we could also . in favor of a more strict regex:\n",
    "            - `<[^<>]+>`         matches any character except < or > one or more times included inside < and >"
   ]
  },
  {
   "cell_type": "code",
   "execution_count": 9,
   "metadata": {},
   "outputs": [
    {
     "name": "stdout",
     "output_type": "stream",
     "text": [
      "<re.Match object; span=(12, 34), match='<div> simple div</div>'>\n",
      "<re.Match object; span=(12, 17), match='<div>'>\n",
      "<re.Match object; span=(12, 17), match='<div>'>\n"
     ]
    }
   ],
   "source": [
    "import re\n",
    "\n",
    "# Define a string to search\n",
    "text = \"\"\"\n",
    "`This is a <div> simple div</div> test.`\n",
    "\"\"\"\n",
    "\n",
    "match = re.search(r\"<.+>\", text)\n",
    "print(match)\n",
    "\n",
    "match = re.search(r\"<.+?>\", text)\n",
    "print(match)\n",
    "\n",
    "match = re.search(r\"<[^<>]+>\", text)\n",
    "print(match)"
   ]
  },
  {
   "cell_type": "markdown",
   "metadata": {},
   "source": [
    "## 5. Anchors"
   ]
  },
  {
   "cell_type": "markdown",
   "metadata": {},
   "source": [
    "These determine the position of the match within the string.\n",
    "\n",
    "   - `^` matches the start of a line or string.\n",
    "   - `$` matches the end of a line or string.\n",
    "   - Anchors help in scenarios where positioning is vital.\n",
    "\n",
    "   - Examples:\n",
    "     - `^The`        matches any string that starts with The \n",
    "     - `end$`        matches a string that ends with end\n",
    "     - `^The end$`   exact string match (starts and ends with The end)\n",
    "     - `roar`        matches any string that has the text roar in it"
   ]
  },
  {
   "cell_type": "code",
   "execution_count": 10,
   "metadata": {},
   "outputs": [
    {
     "name": "stdout",
     "output_type": "stream",
     "text": [
      "hello\n"
     ]
    }
   ],
   "source": [
    "# Matches 'hello' only if it is at the start of the string\n",
    "pattern = '^hello'\n",
    "string = 'hello world'\n",
    "result = re.search(pattern, string)\n",
    "print(result.group() if result else \"No match\")  # Output: 'hello'"
   ]
  },
  {
   "cell_type": "markdown",
   "metadata": {},
   "source": [
    "### Why Use Anchor Expressions?\n",
    "\n",
    "- **Precision**: Ensure that the pattern appears exactly where you want it in the text.\n",
    "- **Efficiency**: Reduce the number of overall matches by specifying where to look.\n",
    "- **Logical Matching**: Makes it easier to perform complex matches based on logical conditions.\n",
    "\n",
    "### Practical Examples\n",
    "\n",
    "#### Example 1: Validating Usernames\n",
    "\n",
    "Let's validate usernames to ensure they start with a letter and end with a number."
   ]
  },
  {
   "cell_type": "code",
   "execution_count": 11,
   "metadata": {},
   "outputs": [
    {
     "name": "stdout",
     "output_type": "stream",
     "text": [
      "Valid\n"
     ]
    }
   ],
   "source": [
    "pattern = '^[a-zA-Z][a-zA-Z0-9]*[0-9]$'\n",
    "text = \"JohnDoe9\"\n",
    "match = re.fullmatch(pattern, text)\n",
    "print(\"Valid\" if match else \"Invalid\")"
   ]
  },
  {
   "cell_type": "markdown",
   "metadata": {},
   "source": [
    "\n",
    "#### Example 2: Extracting Sentences\n",
    "\n",
    "To extract complete sentences from a text, you can use anchors to define sentence boundaries."
   ]
  },
  {
   "cell_type": "code",
   "execution_count": 12,
   "metadata": {},
   "outputs": [
    {
     "name": "stdout",
     "output_type": "stream",
     "text": [
      "['Hello, world!', ' How are you?', ' Fine.']\n"
     ]
    }
   ],
   "source": [
    "pattern = r'[^.!?]*[.!?]'\n",
    "text = \"Hello, world! How are you? Fine.\"\n",
    "matches = re.findall(pattern, text)\n",
    "print(matches)"
   ]
  },
  {
   "cell_type": "markdown",
   "metadata": {},
   "source": [
    "#### Example 3: Line-by-Line Parsing\n",
    "\n",
    "For a multi-line string, you can combine the multiline flag `re.M` with the start-of-line anchor to match the beginning of each line."
   ]
  },
  {
   "cell_type": "code",
   "execution_count": 13,
   "metadata": {},
   "outputs": [
    {
     "name": "stdout",
     "output_type": "stream",
     "text": [
      "['apple', 'cherry']\n"
     ]
    }
   ],
   "source": [
    "pattern = r'^[a-z]+'\n",
    "text = \"\"\"apple\n",
    "Banana\n",
    "cherry\"\"\"\n",
    "matches = re.findall(pattern, text, re.M)\n",
    "print(matches)  # Output: ['apple', 'cherry']"
   ]
  },
  {
   "cell_type": "markdown",
   "metadata": {},
   "source": [
    "#### Example 4: Matching File Extensions\n",
    "\n",
    "To match the file extensions at the end of filenames, use the `$` anchor."
   ]
  },
  {
   "cell_type": "code",
   "execution_count": 14,
   "metadata": {},
   "outputs": [
    {
     "name": "stdout",
     "output_type": "stream",
     "text": [
      "File type: csv\n"
     ]
    }
   ],
   "source": [
    "pattern = r'\\.(txt|csv|json)$'\n",
    "text = \"data.csv\"\n",
    "match = re.search(pattern, text)\n",
    "if match:\n",
    "    print(f\"File type: {match.group(1)}\")"
   ]
  },
  {
   "cell_type": "markdown",
   "metadata": {},
   "source": [
    "## 6. Alternation"
   ]
  },
  {
   "cell_type": "markdown",
   "metadata": {},
   "source": [
    "The `|` operator allows matching different options.\n",
    "\n",
    "   - `cat|dog` would match either \"cat\" or \"dog\".\n",
    "   This operator is useful when there are multiple valid pattern options.\n",
    "   - `a(b|c)`     matches a string that has a followed by b or c (and captures b or c)\n",
    "   - `a[bc]`     same as previous, but without capturing b or c"
   ]
  },
  {
   "cell_type": "code",
   "execution_count": 15,
   "metadata": {},
   "outputs": [
    {
     "name": "stdout",
     "output_type": "stream",
     "text": [
      "apple\n"
     ]
    }
   ],
   "source": [
    "pattern = 'apple|orange'\n",
    "string = 'I have an apple'\n",
    "result = re.search(pattern, string)\n",
    "print(result.group() if result else \"No match\")  # Output: 'apple'"
   ]
  },
  {
   "cell_type": "markdown",
   "metadata": {},
   "source": [
    "### Why Use Alternation Expressions?\n",
    "\n",
    "- **Flexibility**: Allows you to match multiple patterns with a single regex.\n",
    "- **Simplification**: Condenses multiple `re.search()` or `re.findall()` calls into one.\n",
    "- **Enhanced Logic**: Enables complex pattern recognition in text.\n",
    "\n",
    "### Practical Examples\n",
    "\n",
    "#### Example 1: Matching Multiple Date Formats\n",
    "\n",
    "Different documents may represent dates in different formats. Alternation can be useful for capturing all of them."
   ]
  },
  {
   "cell_type": "code",
   "execution_count": 16,
   "metadata": {},
   "outputs": [
    {
     "name": "stdout",
     "output_type": "stream",
     "text": [
      "Dates found: ['08-26-2023', '08/26/2023']\n"
     ]
    }
   ],
   "source": [
    "pattern = r'\\d{2}-\\d{2}-\\d{4}|\\d{2}/\\d{2}/\\d{4}'\n",
    "text = \"The dates are 08-26-2023 and 08/26/2023.\"\n",
    "matches = re.findall(pattern, text)\n",
    "print(f\"Dates found: {matches}\")"
   ]
  },
  {
   "cell_type": "markdown",
   "metadata": {},
   "source": [
    "#### Example 2: Extracting Phone Numbers\n",
    "\n",
    "We can use alternation to match different phone number formats."
   ]
  },
  {
   "cell_type": "code",
   "execution_count": 17,
   "metadata": {},
   "outputs": [
    {
     "name": "stdout",
     "output_type": "stream",
     "text": [
      "Phone numbers found: ['(123) 456-7890', '123-45-6789']\n"
     ]
    }
   ],
   "source": [
    "pattern = r'\\(?\\d{3}\\)?[-.\\s]\\d{3}[-.\\s]\\d{4}|\\d{3}[-.\\s]\\d{2}[-.\\s]\\d{4}'\n",
    "text = \"Contact numbers are (123) 456-7890 and 123-45-6789.\"\n",
    "matches = re.findall(pattern, text)\n",
    "print(f\"Phone numbers found: {matches}\")"
   ]
  },
  {
   "cell_type": "markdown",
   "metadata": {},
   "source": [
    "#### Example 3: Parsing Logs for Errors and Warnings\n",
    "\n",
    "We can use alternation to search for both \"Error\" and \"Warning\" labels in a log file."
   ]
  },
  {
   "cell_type": "code",
   "execution_count": 18,
   "metadata": {},
   "outputs": [
    {
     "name": "stdout",
     "output_type": "stream",
     "text": [
      "Labels found: ['Error:', 'Warning:']\n"
     ]
    }
   ],
   "source": [
    "pattern = r'Error:|Warning:'\n",
    "text = \"Error: File not found. Warning: Low disk space.\"\n",
    "matches = re.findall(pattern, text)\n",
    "print(f\"Labels found: {matches}\")"
   ]
  },
  {
   "cell_type": "markdown",
   "metadata": {},
   "source": [
    "#### Example 4: Finding Synonyms\n",
    "\n",
    "To search for synonyms in a text, you can use alternation expressions."
   ]
  },
  {
   "cell_type": "code",
   "execution_count": 19,
   "metadata": {},
   "outputs": [
    {
     "name": "stdout",
     "output_type": "stream",
     "text": [
      "Synonyms found: ['quick']\n"
     ]
    }
   ],
   "source": [
    "pattern = r'quick|fast|speedy'\n",
    "text = \"The quick fox jumps over the lazy dog.\"\n",
    "matches = re.findall(pattern, text)\n",
    "print(f\"Synonyms found: {matches}\")"
   ]
  },
  {
   "cell_type": "markdown",
   "metadata": {},
   "source": [
    "## 7. Escaping"
   ]
  },
  {
   "cell_type": "markdown",
   "metadata": {},
   "source": [
    "The backslash `\\` is used to escape special regex characters, treating them as literal characters.\n",
    "\n",
    "   - For example, `\\.` matches a literal period.\n",
    "   - Escaping is needed when you want to match characters that are special in regex syntax."
   ]
  },
  {
   "cell_type": "code",
   "execution_count": 20,
   "metadata": {},
   "outputs": [
    {
     "name": "stdout",
     "output_type": "stream",
     "text": [
      "<re.Match object; span=(39, 40), match='.'>\n",
      "<re.Match object; span=(1, 2), match=' '>\n"
     ]
    }
   ],
   "source": [
    "import re\n",
    "\n",
    "# Define a string to search\n",
    "text = \"\"\"\n",
    " This is a <div> simple div</div> test.`\n",
    "\"\"\"\n",
    "\n",
    "match = re.search(r\"\\.\", text)\n",
    "print(match)\n",
    "\n",
    "match = re.search(r\".\", text)\n",
    "print(match)"
   ]
  },
  {
   "cell_type": "markdown",
   "metadata": {},
   "source": [
    "## 8. Boundaries"
   ]
  },
  {
   "cell_type": "markdown",
   "metadata": {},
   "source": [
    "- `\\b`: Matches the empty string, but only at the beginning or end of a word.\n",
    "- `\\B`: Matches the empty string, but not at the beginning or end of a word."
   ]
  },
  {
   "cell_type": "code",
   "execution_count": 21,
   "metadata": {},
   "outputs": [
    {
     "name": "stdout",
     "output_type": "stream",
     "text": [
      "['cat']\n"
     ]
    }
   ],
   "source": [
    "# Matches 'cat' only when it appears as a whole word\n",
    "pattern = r'\\bcat\\b'\n",
    "string = 'catapult the cat to the cathedral'\n",
    "result = re.findall(pattern, string)\n",
    "print(result)  # Output: ['cat']"
   ]
  },
  {
   "cell_type": "markdown",
   "metadata": {},
   "source": [
    "### Importance of Boundary Expressions\n",
    "\n",
    "- **Precision**: Enhance the accuracy of text matching.\n",
    "- **Context Sensitivity**: Locate words based on their position within the string.\n",
    "- **Data Cleaning**: Useful for tasks that require very precise string manipulation.\n",
    "\n",
    "### Practical Examples\n",
    "\n",
    "#### Example 1: Precise Word Matching\n",
    "\n",
    "Sometimes you want to match a specific word without catching substrings that contain it."
   ]
  },
  {
   "cell_type": "code",
   "execution_count": 22,
   "metadata": {},
   "outputs": [
    {
     "name": "stdout",
     "output_type": "stream",
     "text": [
      "Instances of 'the': ['the', 'the']\n"
     ]
    }
   ],
   "source": [
    "pattern = r'\\bthe\\b'\n",
    "text = \"the theme is on the table.\"\n",
    "matches = re.findall(pattern, text)\n",
    "print(f\"Instances of 'the': {matches}\")"
   ]
  },
  {
   "cell_type": "markdown",
   "metadata": {},
   "source": [
    "#### Example 2: Excluding Sub-Strings\n",
    "\n",
    "In this example, we will use `\\B` to exclude matches that form part of another word."
   ]
  },
  {
   "cell_type": "code",
   "execution_count": 23,
   "metadata": {},
   "outputs": [
    {
     "name": "stdout",
     "output_type": "stream",
     "text": [
      "Instances found: ['ion']\n"
     ]
    }
   ],
   "source": [
    "pattern = r'\\Bion\\B'\n",
    "text = \"The operation is an optional solution.\"\n",
    "matches = re.findall(pattern, text)\n",
    "print(f\"Instances found: {matches}\")"
   ]
  },
  {
   "cell_type": "code",
   "execution_count": 24,
   "metadata": {},
   "outputs": [
    {
     "name": "stdout",
     "output_type": "stream",
     "text": [
      "Instances found: ['ion', 'ion']\n"
     ]
    }
   ],
   "source": [
    "pattern = r'\\Bion\\b'\n",
    "text = \"The operation is an optional solution.\"\n",
    "matches = re.findall(pattern, text)\n",
    "print(f\"Instances found: {matches}\")"
   ]
  },
  {
   "cell_type": "code",
   "execution_count": 25,
   "metadata": {},
   "outputs": [
    {
     "name": "stdout",
     "output_type": "stream",
     "text": [
      "Instances found: ['ion', 'ion', 'ion']\n"
     ]
    }
   ],
   "source": [
    "pattern = r'ion'\n",
    "text = \"The operation is an optional solution.\"\n",
    "matches = re.findall(pattern, text)\n",
    "print(f\"Instances found: {matches}\")"
   ]
  },
  {
   "cell_type": "markdown",
   "metadata": {},
   "source": [
    "#### Example 3: Email Validation\n",
    "\n",
    "We can use word boundaries to validate email addresses more accurately."
   ]
  },
  {
   "cell_type": "code",
   "execution_count": 26,
   "metadata": {},
   "outputs": [
    {
     "name": "stdout",
     "output_type": "stream",
     "text": [
      "Emails found: ['example@gmail.com']\n"
     ]
    }
   ],
   "source": [
    "pattern = r'\\b[A-Za-z0-9._%+-]+@[A-Za-z0-9.-]+\\.[A-Z|a-z]{2,7}\\b'\n",
    "text = \"My email is example@gmail.com.\"\n",
    "matches = re.findall(pattern, text)\n",
    "print(f\"Emails found: {matches}\")"
   ]
  },
  {
   "cell_type": "markdown",
   "metadata": {},
   "source": [
    "#### Example 4: Hashtag Extraction from Social Media Text\n",
    "\n",
    "Word boundaries can be helpful to extract hashtags precisely from a text corpus."
   ]
  },
  {
   "cell_type": "code",
   "execution_count": 27,
   "metadata": {},
   "outputs": [
    {
     "name": "stdout",
     "output_type": "stream",
     "text": [
      "Hashtags found: ['#explore', '#Python3']\n"
     ]
    }
   ],
   "source": [
    "pattern = r'\\B#\\w+\\b'\n",
    "text = \"Let's #explore Regex! #Python3\"\n",
    "matches = re.findall(pattern, text)\n",
    "print(f\"Hashtags found: {matches}\")"
   ]
  },
  {
   "cell_type": "markdown",
   "metadata": {},
   "source": [
    "## 9. Backreferences"
   ]
  },
  {
   "cell_type": "markdown",
   "metadata": {},
   "source": [
    "- `\\1`, `\\2`, ...: Refers back to a previously captured group."
   ]
  },
  {
   "cell_type": "code",
   "execution_count": 28,
   "metadata": {},
   "outputs": [
    {
     "name": "stdout",
     "output_type": "stream",
     "text": [
      "hello hello\n"
     ]
    }
   ],
   "source": [
    "# A simple example of using a backreference to match repeated words\n",
    "pattern = r'\\b(\\w+)\\b\\s+\\1\\b'\n",
    "string = 'hello hello world'\n",
    "result = re.search(pattern, string)\n",
    "print(result.group() if result else \"No match\")  # Output: 'hello hello'"
   ]
  },
  {
   "cell_type": "markdown",
   "metadata": {},
   "source": [
    "\n",
    "\n",
    "### The Utility of Backreferences\n",
    "\n",
    "- **Pattern Reusability**: Use previously matched text within the same regex.\n",
    "- **Validation**: Match strings with repeated or symmetrical patterns.\n",
    "- **Data Transformation**: Advanced string replacements based on what was matched.\n",
    "\n",
    "### Practical Examples\n",
    "\n",
    "#### Example 1: Finding Repeated Words\n",
    "\n",
    "The aim is to locate repeated words within a sentence."
   ]
  },
  {
   "cell_type": "code",
   "execution_count": 29,
   "metadata": {},
   "outputs": [
    {
     "name": "stdout",
     "output_type": "stream",
     "text": [
      "Repeated words: ['is', 'test']\n"
     ]
    }
   ],
   "source": [
    "pattern = r'\\b(\\w+)\\b\\s+\\1\\b'\n",
    "text = \"This is is a test test string.\"\n",
    "matches = re.findall(pattern, text)\n",
    "print(f\"Repeated words: {matches}\")"
   ]
  },
  {
   "cell_type": "markdown",
   "metadata": {},
   "source": [
    "#### Example 2: Validating Palindromic Words\n",
    "\n",
    "Here, we aim to find palindromic words using backreferences."
   ]
  },
  {
   "cell_type": "code",
   "execution_count": 30,
   "metadata": {},
   "outputs": [
    {
     "name": "stdout",
     "output_type": "stream",
     "text": [
      "Palindromes: [('L', 'e'), ('c', 'i'), ('r', 'a'), ('r', 'o'), ('d', 'e')]\n"
     ]
    }
   ],
   "source": [
    "pattern = r'\\b(\\w)(\\w?)\\w?\\2\\1\\b'\n",
    "text = \"Level, civic, radar, rotor, deed.\"\n",
    "matches = re.findall(pattern, text, re.IGNORECASE)\n",
    "print(f\"Palindromes: {matches}\")"
   ]
  },
  {
   "cell_type": "markdown",
   "metadata": {},
   "source": [
    "#### Example 3: HTML Tag Pair Matching\n",
    "\n",
    "This example shows how backreferences can be used to match paired HTML tags."
   ]
  },
  {
   "cell_type": "code",
   "execution_count": 31,
   "metadata": {},
   "outputs": [
    {
     "name": "stdout",
     "output_type": "stream",
     "text": [
      "Tag: title, Content: This is a title\n"
     ]
    }
   ],
   "source": [
    "pattern = r'<(\\w+)>(.*?)<\\/\\1>'\n",
    "text = \"<title>This is a title</title>\"\n",
    "matches = re.search(pattern, text)\n",
    "print(f\"Tag: {matches.group(1)}, Content: {matches.group(2)}\" if matches else \"No match\")"
   ]
  },
  {
   "cell_type": "markdown",
   "metadata": {},
   "source": [
    "#### Example 4: Validating Date Formats\n",
    "\n",
    "Backreferences can help in validating symmetrical date formats."
   ]
  },
  {
   "cell_type": "code",
   "execution_count": 32,
   "metadata": {},
   "outputs": [
    {
     "name": "stdout",
     "output_type": "stream",
     "text": [
      "Symmetrical date found: 12-21-12\n"
     ]
    }
   ],
   "source": [
    "pattern = r'(\\d{2})-(\\d{2})-\\1'\n",
    "text = \"The date is 12-21-12.\"\n",
    "match = re.search(pattern, text)\n",
    "print(f\"Symmetrical date found: {match.group()}\" if match else \"No match\")"
   ]
  },
  {
   "cell_type": "markdown",
   "metadata": {},
   "source": [
    "## 10. Lookahead/Behind"
   ]
  },
  {
   "cell_type": "markdown",
   "metadata": {},
   "source": [
    "These specify conditions that must follow (lookahead) or precede (lookbehind) the main pattern.\n",
    "\n",
    "Look-ahead and Look-behind — `(?=)` and `(?<=)`\n",
    "\n",
    "   - `?=` for positive lookahead.\n",
    "   - `?!` for negative lookahead.\n",
    "   - `?<=` for positive lookbehind.\n",
    "   - `?<!` for negative lookbehind.\n",
    "   - They allow for complex conditional matching scenarios.\n",
    "   - Examples:      \n",
    "       - **Look-Ahead**: \n",
    "         - `X(?=Y)` matches X only if X is followed by Y.\n",
    "         - `d(?=r)`       matches a d only if is followed by r, but r will not be part of the overall regex match \n",
    "      - **Look-Behind**: \n",
    "        - `(?<=Y)X` matches X only if X is preceded by Y. \n",
    "        - `(?<=r)d`      matches a d only if is preceded by an r, but r will not be part of the overall regex match \n"
   ]
  },
  {
   "cell_type": "code",
   "execution_count": 33,
   "metadata": {},
   "outputs": [
    {
     "name": "stdout",
     "output_type": "stream",
     "text": [
      "['3', '5']\n"
     ]
    }
   ],
   "source": [
    "# Look-Ahead Example\n",
    "pattern = r'\\d(?=px)'\n",
    "string = '3px 4py 5px'\n",
    "result = re.findall(pattern, string)\n",
    "print(result)  # Output: ['3', '5']"
   ]
  },
  {
   "cell_type": "code",
   "execution_count": 34,
   "metadata": {},
   "outputs": [
    {
     "name": "stdout",
     "output_type": "stream",
     "text": [
      "['email']\n"
     ]
    }
   ],
   "source": [
    "# Look-Behind Example\n",
    "pattern = r'(?<=@)\\w+'\n",
    "string = 'user@email.com'\n",
    "result = re.findall(pattern, string)\n",
    "print(result)  # Output: ['email']"
   ]
  },
  {
   "cell_type": "markdown",
   "metadata": {},
   "source": [
    "### Significance of Look-Ahead and Look-Behind\n",
    "\n",
    "- **Complex Matching**: Achieve intricate pattern recognition.\n",
    "- **Conditional Logic**: Enables more conditional matching.\n",
    "- **Efficiency**: Streamlines code and reduces computational load.\n",
    "\n",
    "### Practical Examples\n",
    "\n",
    "#### Example 1: Extracting Currency Amounts\n",
    "\n",
    "We may want to find all amounts in a text that are specified in USD."
   ]
  },
  {
   "cell_type": "code",
   "execution_count": 35,
   "metadata": {},
   "outputs": [
    {
     "name": "stdout",
     "output_type": "stream",
     "text": [
      "Amounts in USD: ['.99', '']\n"
     ]
    }
   ],
   "source": [
    "pattern = r'(?<=\\$)\\d+(\\.\\d{2})?'\n",
    "text = \"The price is $20.99 and $31.\"\n",
    "matches = re.findall(pattern, text)\n",
    "print(f\"Amounts in USD: {matches}\")"
   ]
  },
  {
   "cell_type": "markdown",
   "metadata": {},
   "source": [
    "#### Example 2: Validating Passwords\n",
    "\n",
    "Check if a password has at least one number following any sequence of letters."
   ]
  },
  {
   "cell_type": "code",
   "execution_count": 36,
   "metadata": {},
   "outputs": [
    {
     "name": "stdout",
     "output_type": "stream",
     "text": [
      "Valid password: True\n"
     ]
    }
   ],
   "source": [
    "pattern = r'^(?=.*[0-9])[A-Za-z0-9]+$'\n",
    "text = \"ValidPass1\"\n",
    "match = re.search(pattern, text)\n",
    "print(f\"Valid password: {bool(match)}\")"
   ]
  },
  {
   "cell_type": "markdown",
   "metadata": {},
   "source": [
    "#### Example 3: Email Domain Extraction\n",
    "\n",
    "To extract the domain of an email without the top-level domain (.com, .org, etc.)"
   ]
  },
  {
   "cell_type": "code",
   "execution_count": 37,
   "metadata": {},
   "outputs": [
    {
     "name": "stdout",
     "output_type": "stream",
     "text": [
      "Email domain: ['gmail']\n"
     ]
    }
   ],
   "source": [
    "pattern = r'(?<=@)[^.]+'\n",
    "text = \"My email is example@gmail.com.\"\n",
    "matches = re.findall(pattern, text)\n",
    "print(f\"Email domain: {matches}\")"
   ]
  },
  {
   "cell_type": "markdown",
   "metadata": {},
   "source": [
    "#### Example 4: Identifying Modified Variables in Code\n",
    "\n",
    "Suppose you want to find all variables in a code snippet that are incremented."
   ]
  },
  {
   "cell_type": "code",
   "execution_count": 38,
   "metadata": {},
   "outputs": [
    {
     "name": "stdout",
     "output_type": "stream",
     "text": [
      "Incremented variables: ['x', 'y']\n"
     ]
    }
   ],
   "source": [
    "pattern = r'\\b\\w+(?=\\+\\+)'\n",
    "text = \"x++ y++ z\"\n",
    "matches = re.findall(pattern, text)\n",
    "print(f\"Incremented variables: {matches}\")"
   ]
  },
  {
   "cell_type": "markdown",
   "metadata": {},
   "source": [
    "## 11. Flags\n",
    "\n",
    "Flags in python regular expressions are used to modify the meaning of a given pattern.\n",
    "\n",
    "   - `re.I` makes the matching of the pattern case-insensitive.\n",
    "   - `re.M` makes the $ anchor match the end of the string and the end of each line.\n",
    "   - `re.S` makes a period (dot) match any character, including a newline.\n",
    "   - `re.U` makes \\w, \\W, \\b, \\B, \\d, \\D, \\s and \\S dependent on the Unicode character properties database.\n",
    "   - `re.X` allows writing regular expressions that look nicer and are more readable by allowing to visually separate logical sections of the pattern and add comments."
   ]
  },
  {
   "cell_type": "code",
   "execution_count": 39,
   "metadata": {},
   "outputs": [
    {
     "name": "stdout",
     "output_type": "stream",
     "text": [
      "['Python']\n"
     ]
    }
   ],
   "source": [
    "# Example with re.IGNORECASE\n",
    "pattern = r'python'\n",
    "string = 'Python is a programming language.'\n",
    "result = re.findall(pattern, string, re.I)\n",
    "print(result)  # Output: ['Python']"
   ]
  },
  {
   "cell_type": "markdown",
   "metadata": {},
   "source": [
    "### Importance of Flags\n",
    "\n",
    "- **Flexibility**: Flags offer greater control over the matching behavior.\n",
    "- **Readability**: Some flags can make regular expressions more understandable.\n",
    "- **Efficiency**: Certain flags can help simplify complex regular expressions.\n",
    "\n",
    "### Practical Examples\n",
    "\n",
    "#### Example 1: Case-Insensitive Matching\n",
    "\n",
    "Use `re.IGNORECASE` to find all case variants of a particular word."
   ]
  },
  {
   "cell_type": "code",
   "execution_count": 40,
   "metadata": {},
   "outputs": [
    {
     "name": "stdout",
     "output_type": "stream",
     "text": [
      "Case-insensitive matches: ['Word', 'word', 'WoRd', 'wORd']\n"
     ]
    }
   ],
   "source": [
    "pattern = r'\\bword\\b'\n",
    "text = \"Word word WoRd wORd\"\n",
    "matches = re.findall(pattern, text, re.I)\n",
    "print(f\"Case-insensitive matches: {matches}\")"
   ]
  },
  {
   "cell_type": "markdown",
   "metadata": {},
   "source": [
    "#### Example 2: Multi-Line Matching\n",
    "\n",
    "Utilizing `re.MULTILINE` to match patterns that span multiple lines."
   ]
  },
  {
   "cell_type": "code",
   "execution_count": 41,
   "metadata": {},
   "outputs": [
    {
     "name": "stdout",
     "output_type": "stream",
     "text": [
      "Words at the beginning of lines: ['apple', 'banana', 'cherry']\n"
     ]
    }
   ],
   "source": [
    "pattern = r'^\\w+'\n",
    "text = \"\"\"apple\n",
    "banana\n",
    "cherry\"\"\"\n",
    "matches = re.findall(pattern, text, re.M)\n",
    "print(f\"Words at the beginning of lines: {matches}\")"
   ]
  },
  {
   "cell_type": "markdown",
   "metadata": {},
   "source": [
    "#### Example 3: Matching Across Newlines\n",
    "\n",
    "Here, we will use `re.DOTALL` to match content across multiple lines."
   ]
  },
  {
   "cell_type": "code",
   "execution_count": 42,
   "metadata": {},
   "outputs": [
    {
     "name": "stdout",
     "output_type": "stream",
     "text": [
      "Tag content: <tag>Content across \n",
      "multiple lines</tag>\n"
     ]
    }
   ],
   "source": [
    "pattern = r'<tag>.*?</tag>'\n",
    "text = \"<tag>Content across \\nmultiple lines</tag>\"\n",
    "match = re.search(pattern, text, re.S)\n",
    "print(f\"Tag content: {match.group() if match else 'No match'}\")"
   ]
  },
  {
   "cell_type": "markdown",
   "metadata": {},
   "source": [
    "#### Example 4: Improved Readability with `re.VERBOSE`\n",
    "\n",
    "Improving regex readability using comments enabled by `re.VERBOSE`.\n"
   ]
  },
  {
   "cell_type": "code",
   "execution_count": 43,
   "metadata": {},
   "outputs": [
    {
     "name": "stdout",
     "output_type": "stream",
     "text": [
      "1 to 3 digit numbers: ['100', '200', '300']\n"
     ]
    }
   ],
   "source": [
    "pattern = r\"\"\"\n",
    "    \\b      # Word boundary\n",
    "    \\d{1,3} # 1 to 3 digits\n",
    "    \\b      # Word boundary\n",
    "\"\"\"\n",
    "text = \"100 200 300 4000\"\n",
    "matches = re.findall(pattern, text, re.VERBOSE)\n",
    "print(f\"1 to 3 digit numbers: {matches}\")"
   ]
  },
  {
   "cell_type": "markdown",
   "metadata": {},
   "source": [
    "## Tips and Practice"
   ]
  },
  {
   "cell_type": "markdown",
   "metadata": {},
   "source": [
    "Here are some tips to help you practice using regular expressions (regex) in Python:\n",
    "\n",
    "- Import the re module. This contains functions for working with regex in Python:\n",
    "\n",
    "```python\n",
    "import re\n",
    "```\n",
    "\n",
    "- Use raw strings for the regex patterns. This avoids having to escape special characters:\n",
    "\n",
    "```python \n",
    "pattern = r'\\d{4}-\\d{2}-\\d{2}'\n",
    "```\n",
    "\n",
    "- Use the re.compile() function to compile the regex pattern into a regex object. This can be reused:\n",
    "\n",
    "```python\n",
    "regex = re.compile(pattern)\n",
    "```\n",
    "\n",
    "- Use the regex methods like search(), findall(), etc to apply the pattern to strings:\n",
    "\n",
    "```python\n",
    "matches = regex.search(some_string)\n",
    "all_matches = regex.findall(some_string)\n",
    "```\n",
    "\n",
    "- Test regex patterns with the re.fullmatch() function. This requires a full string match: \n",
    "\n",
    "```python\n",
    "if re.fullmatch(pattern, some_string):\n",
    "   print(\"Full match!\")\n",
    "```\n",
    "\n",
    "- Use regex groups to extract parts of a matched pattern. Define groups with ():\n",
    "\n",
    "```python\n",
    "pattern = r'(\\d{4})-(\\d{2})-(\\d{2})' \n",
    "date_parts = re.search(pattern, a_date).groups()\n",
    "```\n",
    "\n",
    "- Practice with some common patterns like email addresses, phone numbers, etc. Test strings to find matches.\n",
    "\n",
    "- Use sites like regex101.com to test regex live and explain how they work.\n",
    "\n",
    "- Look at regex examples in the Python documentation and tutorials. Adapt them for your own uses.\n",
    "\n",
    "The best way to get better is to practice! Start simple and slowly try more complex regular expression patterns."
   ]
  },
  {
   "cell_type": "markdown",
   "metadata": {},
   "source": [
    "## Resources"
   ]
  },
  {
   "cell_type": "markdown",
   "metadata": {},
   "source": [
    "* https://regexr.com/\n",
    "\n",
    "* https://regex101.com/\n",
    "\n",
    "* https://www.regular-expressions.info/index.html\n",
    "\n",
    "* https://regexlearn.com/learn\n",
    "\n",
    "* https://www.w3schools.com/python/python_regex.asp\n"
   ]
  }
 ],
 "metadata": {
  "kernelspec": {
   "display_name": "tf310",
   "language": "python",
   "name": "python3"
  },
  "language_info": {
   "codemirror_mode": {
    "name": "ipython",
    "version": 3
   },
   "file_extension": ".py",
   "mimetype": "text/x-python",
   "name": "python",
   "nbconvert_exporter": "python",
   "pygments_lexer": "ipython3",
   "version": "3.11.4"
  },
  "orig_nbformat": 4
 },
 "nbformat": 4,
 "nbformat_minor": 2
}
