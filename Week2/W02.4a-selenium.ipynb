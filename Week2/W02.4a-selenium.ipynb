{
 "cells": [
  {
   "cell_type": "markdown",
   "metadata": {},
   "source": [
    "# Dealing with Dynamic Websites\n",
    "Some websites use JavaScript to load content dynamically. In such cases, a simple GET request may not retrieve all the content you see when browsing the site manually. Selenium is a popular library to handle dynamic content."
   ]
  },
  {
   "cell_type": "markdown",
   "metadata": {},
   "source": [
    "#### Troubleshooting File locations and path\n",
    "\n",
    "The following two cells can help you find what the default directory is for your notebook, and also display the current path environment variable.\n",
    "\n",
    "This isn't necessary to run in your notebooks - but can help if you are troubleshooting file not found issues"
   ]
  },
  {
   "cell_type": "code",
   "execution_count": 1,
   "metadata": {},
   "outputs": [
    {
     "data": {
      "text/plain": [
       "'c:\\\\Users\\\\rmura\\\\Murali\\\\Text Analytics\\\\Week2'"
      ]
     },
     "execution_count": 1,
     "metadata": {},
     "output_type": "execute_result"
    }
   ],
   "source": [
    "import os\n",
    "os.getcwd()"
   ]
  },
  {
   "cell_type": "code",
   "execution_count": 2,
   "metadata": {},
   "outputs": [
    {
     "data": {
      "text/plain": [
       "['c:\\\\Users\\\\rmura\\\\Murali\\\\Text Analytics\\\\Week2',\n",
       " 'c:\\\\Users\\\\rmura\\\\anaconda3\\\\envs\\\\text_analytics\\\\python311.zip',\n",
       " 'c:\\\\Users\\\\rmura\\\\anaconda3\\\\envs\\\\text_analytics\\\\DLLs',\n",
       " 'c:\\\\Users\\\\rmura\\\\anaconda3\\\\envs\\\\text_analytics\\\\Lib',\n",
       " 'c:\\\\Users\\\\rmura\\\\anaconda3\\\\envs\\\\text_analytics',\n",
       " '',\n",
       " 'c:\\\\Users\\\\rmura\\\\anaconda3\\\\envs\\\\text_analytics\\\\Lib\\\\site-packages',\n",
       " 'c:\\\\Users\\\\rmura\\\\anaconda3\\\\envs\\\\text_analytics\\\\Lib\\\\site-packages\\\\win32',\n",
       " 'c:\\\\Users\\\\rmura\\\\anaconda3\\\\envs\\\\text_analytics\\\\Lib\\\\site-packages\\\\win32\\\\lib',\n",
       " 'c:\\\\Users\\\\rmura\\\\anaconda3\\\\envs\\\\text_analytics\\\\Lib\\\\site-packages\\\\Pythonwin']"
      ]
     },
     "execution_count": 2,
     "metadata": {},
     "output_type": "execute_result"
    }
   ],
   "source": [
    "import sys\n",
    "sys.path"
   ]
  },
  {
   "cell_type": "markdown",
   "metadata": {},
   "source": [
    "### Using Selenium to Scrape from a Dynamic Site"
   ]
  },
  {
   "cell_type": "code",
   "execution_count": 12,
   "metadata": {},
   "outputs": [
    {
     "name": "stdout",
     "output_type": "stream",
     "text": [
      "Collecting package metadata (current_repodata.json): ...working... done\n",
      "Solving environment: ...working... failed with initial frozen solve. Retrying with flexible solve.\n",
      "Collecting package metadata (repodata.json): ...working... done\n",
      "Solving environment: ...working... failed with initial frozen solve. Retrying with flexible solve.\n",
      "\n",
      "Note: you may need to restart the kernel to use updated packages.\n"
     ]
    },
    {
     "name": "stderr",
     "output_type": "stream",
     "text": [
      "\n",
      "PackagesNotFoundError: The following packages are not available from current channels:\n",
      "\n",
      "  - webdriver\n",
      "\n",
      "Current channels:\n",
      "\n",
      "  - https://conda.anaconda.org/conda-forge/win-64\n",
      "  - https://conda.anaconda.org/conda-forge/noarch\n",
      "  - https://repo.anaconda.com/pkgs/main/win-64\n",
      "  - https://repo.anaconda.com/pkgs/main/noarch\n",
      "  - https://repo.anaconda.com/pkgs/r/win-64\n",
      "  - https://repo.anaconda.com/pkgs/r/noarch\n",
      "  - https://repo.anaconda.com/pkgs/msys2/win-64\n",
      "  - https://repo.anaconda.com/pkgs/msys2/noarch\n",
      "\n",
      "To search for alternate channels that may provide the conda package you're\n",
      "looking for, navigate to\n",
      "\n",
      "    https://anaconda.org\n",
      "\n",
      "and use the search bar at the top of the page.\n",
      "\n",
      "\n"
     ]
    }
   ],
   "source": [
    "\n",
    "%conda install -c conda-forge selenium webdriver\n"
   ]
  },
  {
   "cell_type": "code",
   "execution_count": 3,
   "metadata": {},
   "outputs": [],
   "source": [
    "from selenium import webdriver\n",
    "from selenium.webdriver.firefox.service import Service\n",
    "from webdriver_manager.firefox import GeckoDriverManager \n",
    "\n",
    "# for more information on WebDriver Manager https://pypi.org/project/webdriver-manager/\n",
    "# note1: to install webdriver_manager, on the command line use the name webdriver-manager (no underscore)\n",
    "# note2: You will need to have Firefox installed on your computer for this to work. (though, you're welcomed \n",
    "# to try it with Chrome... you will need to download the Chrome driver and change the code below to use it)\n",
    "\n",
    "# when loading the driver, one of the two will work. The first one will download the driver for you, the second\n",
    "# will use the driver you downloaded and placed in the same folder as your notebook or in your PATH variable.\n",
    "# NOTE: (only in linux), the first one will work once, but then you will need to comment it out and use the second one OR\n",
    "# do a ps -aux and find the running geckodriver process and kill it.\n",
    "\n",
    "# if you have selenium 3 installed, use one of these:\n",
    "#driver = webdriver.Firefox(executable_path=GeckoDriverManager().install()) # this will work on Windows and Mac, and should work on Linux when run the first time\n",
    "#driver = webdriver.Firefox(executable_path=<insert path to manual downloaded geckodriver>)\n",
    "#driver = webdriver.Firefox() # use if geckodriver is in your PATH environmnet variable (which includes the same folder as your notebook)\n",
    "\n",
    "# if you hve selenium 4 installed, use one of these:\n",
    "driver = webdriver.Firefox(service=Service(GeckoDriverManager().install())) # this will work on Windows and Mac, and should work on Linux when run the first time\n",
    "#driver = webdriver.Firefox() # use if geckodriver is in your PATH environmnet variable (which includes the same folder as your notebook)\n",
    "\n",
    "url = \"https://www.britannica.com/topic/Presidents-of-the-United-States-1846696\"\n",
    "driver.get(url)\n",
    "driver.implicitly_wait(10) # this is how long to wait for the page to load\n",
    "\n",
    "driver.page_source\n",
    "driver.close()"
   ]
  }
 ],
 "metadata": {
  "kernelspec": {
   "display_name": "base",
   "language": "python",
   "name": "python3"
  },
  "language_info": {
   "codemirror_mode": {
    "name": "ipython",
    "version": 3
   },
   "file_extension": ".py",
   "mimetype": "text/x-python",
   "name": "python",
   "nbconvert_exporter": "python",
   "pygments_lexer": "ipython3",
   "version": "3.11.4"
  },
  "orig_nbformat": 4
 },
 "nbformat": 4,
 "nbformat_minor": 2
}
