{
 "cells": [
  {
   "cell_type": "markdown",
   "metadata": {},
   "source": [
    "# Introduction to Using Web APIs with Python \n",
    "\n",
    "## Objective\n",
    "The objective of this notebook is to introduce you to the concept of Web APIs and how to interact with them using Python.\n",
    "\n",
    "## Table of Contents\n",
    "1. [Introduction](#Introduction)\n",
    "2. [Prerequisites](#Prerequisites)\n",
    "3. [What is an API?](#What-is-an-API?)\n",
    "4. [HTTP Methods: GET vs POST](#HTTP-Methods:-GET-vs-POST)\n",
    "5. [Setting up the Environment](#Setting-up-the-Environment)\n",
    "6. [The `requests` Library](#The-requests-Library)\n",
    "7. [Making API Requests](#Making-API-Requests)\n",
    "    - [GET Example: OpenWeatherMap](#GET-Example:-OpenWeatherMap)\n",
    "    - [POST Example: JSONPlaceholder](#POST-Example:-JSONPlaceholder)\n",
    "8. [Parsing JSON Data](#Parsing-JSON-Data)\n",
    "9. [Summary](#Summary)\n",
    "10. [Further Reading](#Further-Reading)\n",
    "\n",
    "---\n",
    "\n",
    "## Introduction\n",
    "Web APIs provide a mechanism to interact with remote services, fetch data, or perform actions. They are an essential part of modern web development and data science.\n",
    "\n",
    "---\n",
    "\n",
    "## Prerequisites\n",
    "- Basic understanding of Python\n",
    "- Familiarity with JSON data structure\n",
    "\n",
    "---\n",
    "\n",
    "## What is an API?\n",
    "API stands for Application Programming Interface. It allows different software to communicate with each other. A Web API, specifically, allows you to interact with services over the internet.\n",
    "\n",
    "---\n",
    "\n",
    "## HTTP Methods: GET vs POST\n",
    "\n",
    "HTTP (HyperText Transfer Protocol) has various methods for interacting with resources, the two most common being GET and POST.\n",
    "\n",
    "- **GET:** Fetches data from a specified resource. It's non-destructive, meaning it doesn't alter the state of the resource.\n",
    "  \n",
    "- **POST:** Submits data to a specified resource for processing. This can result in the creation of a new resource or updates to existing resources.\n",
    "\n",
    "---\n",
    "\n",
    "## Setting up the Environment\n",
    "\n",
    "You need to install the `requests` library to make HTTP requests. You can do this using `pip` or `conda`.\n",
    "\n",
    "\n",
    "## The `requests` Library\n",
    "\n",
    "Python has several libraries for making HTTP requests, but `requests` is one of the simplest and most popular.\n",
    "\n",
    "---\n",
    "\n",
    "## Making API Requests\n",
    "\n",
    "### GET Example: OpenWeatherMap\n",
    "\n",
    "Fetching current weather data for London.\n"
   ]
  },
  {
   "cell_type": "code",
   "execution_count": 2,
   "metadata": {},
   "outputs": [
    {
     "data": {
      "text/plain": [
       "289.14"
      ]
     },
     "execution_count": 2,
     "metadata": {},
     "output_type": "execute_result"
    }
   ],
   "source": [
    "import requests\n",
    "import os\n",
    "from dotenv import load_dotenv\n",
    "from openweather_api_key import API_KEY\n",
    "\n",
    "CITY = 'London'\n",
    "\n",
    "response = requests.get(f'http://api.openweathermap.org/data/2.5/weather?q={CITY}&appid={API_KEY}')\n",
    "data = response.json()\n",
    "\n",
    "data['main']['temp'] # this is the temperature in Kelvin"
   ]
  },
  {
   "cell_type": "code",
   "execution_count": 36,
   "metadata": {},
   "outputs": [
    {
     "data": {
      "text/plain": [
       "{'coord': {'lon': -0.1257, 'lat': 51.5085},\n",
       " 'weather': [{'id': 803,\n",
       "   'main': 'Clouds',\n",
       "   'description': 'broken clouds',\n",
       "   'icon': '04n'}],\n",
       " 'base': 'stations',\n",
       " 'main': {'temp': 286.74,\n",
       "  'feels_like': 286.24,\n",
       "  'temp_min': 284.21,\n",
       "  'temp_max': 289.01,\n",
       "  'pressure': 1012,\n",
       "  'humidity': 80},\n",
       " 'visibility': 10000,\n",
       " 'wind': {'speed': 2.57, 'deg': 300},\n",
       " 'clouds': {'all': 69},\n",
       " 'dt': 1693179710,\n",
       " 'sys': {'type': 2,\n",
       "  'id': 2075535,\n",
       "  'country': 'GB',\n",
       "  'sunrise': 1693199174,\n",
       "  'sunset': 1693249077},\n",
       " 'timezone': 3600,\n",
       " 'id': 2643743,\n",
       " 'name': 'London',\n",
       " 'cod': 200}"
      ]
     },
     "execution_count": 36,
     "metadata": {},
     "output_type": "execute_result"
    }
   ],
   "source": [
    "data # you can look at all the data by printing the dictionary"
   ]
  },
  {
   "cell_type": "markdown",
   "metadata": {},
   "source": [
    "### POST Example: JSONPlaceholder\n",
    "\n",
    "Creating a new TODO item by POSTing to the JSONPlaceholder API."
   ]
  },
  {
   "cell_type": "code",
   "execution_count": 37,
   "metadata": {},
   "outputs": [
    {
     "data": {
      "text/plain": [
       "{'title': 'foo', 'body': 'bar', 'userId': 1, 'id': 101}"
      ]
     },
     "execution_count": 37,
     "metadata": {},
     "output_type": "execute_result"
    }
   ],
   "source": [
    "payload = {'title': 'foo', 'body': 'bar', 'userId': 1}\n",
    "response = requests.post('https://jsonplaceholder.typicode.com/posts', json=payload)\n",
    "response.json() # this returns a dictionary"
   ]
  },
  {
   "cell_type": "code",
   "execution_count": 38,
   "metadata": {},
   "outputs": [
    {
     "data": {
      "text/plain": [
       "'{\\n  \"title\": \"foo\",\\n  \"body\": \"bar\",\\n  \"userId\": 1,\\n  \"id\": 101\\n}'"
      ]
     },
     "execution_count": 38,
     "metadata": {},
     "output_type": "execute_result"
    }
   ],
   "source": [
    "response.text # this returns a string"
   ]
  },
  {
   "cell_type": "code",
   "execution_count": 39,
   "metadata": {},
   "outputs": [
    {
     "data": {
      "text/plain": [
       "'{\"title\": \"foo\", \"body\": \"bar\", \"userId\": 1, \"id\": 101}'"
      ]
     },
     "execution_count": 39,
     "metadata": {},
     "output_type": "execute_result"
    }
   ],
   "source": [
    "# if we want a string formatted in json style, we can use the json library\n",
    "import json\n",
    "\n",
    "data = json.dumps(response.json()) # this converts the dictionary to a string\n",
    "\n",
    "data"
   ]
  },
  {
   "cell_type": "markdown",
   "metadata": {},
   "source": [
    "## RESTful APIs\n",
    "\n",
    "RESTful APIs are a common type of Web API. They are based on the REST (REpresentational State Transfer) architectural style. RESTful APIs use HTTP methods to perform CRUD (Create, Read, Update, Delete) operations on resources. RESTful APIs use HTTP methods and are built around the concept of resources, which can be manipulated using the standard HTTP methods like GET, POST, PUT, DELETE, etc. RESTful APIs are stateless, meaning that each request from a client should contain all the information needed to process the request. The server should not store any client state between requests. Some of the Web APIs you'll encounter in the wild are RESTful APIs. Our focus in this notebook is on the POST and GET methods, but you can read more about RESTful APIs [here](https://www.redhat.com/en/topics/api/what-is-a-rest-api).\n",
    "\n"
   ]
  },
  {
   "cell_type": "markdown",
   "metadata": {},
   "source": [
    "---\n",
    "\n",
    "## Summary\n",
    "You've learned what an API is, the difference between GET and POST methods, how to make these requests using Python's `requests` library, and how to parse JSON data.\n",
    "\n",
    "---\n",
    "\n",
    "## Further Reading\n",
    "- [Python `requests` Documentation](https://docs.python-requests.org/en/latest/)\n",
    "- [OpenWeatherMap API Documentation](https://openweathermap.org/api)\n",
    "- [HTTP Methods](https://developer.mozilla.org/en-US/docs/Web/HTTP/Methods)\n",
    "- [Understanding RESTful APIs](https://restfulapi.net/)\n",
    "---\n",
    "\n"
   ]
  },
  {
   "cell_type": "markdown",
   "metadata": {},
   "source": [
    "## Other Web APIs\n",
    "\n",
    "There are litterally thousands of web APIs out there. The following are some good resources for finding them:\n",
    "\n",
    "* https://apilist.fun/\n",
    "* https://github.com/public-apis/public-apis\n",
    "* https://www.educative.io/blog/great-web-apis-for-web-development\n",
    "\n"
   ]
  },
  {
   "cell_type": "markdown",
   "metadata": {},
   "source": [
    "## Web API 'Wrappers'\n",
    "\n",
    "There are also many Python libraries that wrap web APIs to make them easier to use. For example, the [Tweepy](https://www.tweepy.org/) library wraps the Twitter API.\n",
    "\n",
    "More examples can be found here:\n",
    "\n",
    "* https://github.com/realpython/list-of-python-api-wrappers\n"
   ]
  }
 ],
 "metadata": {
  "kernelspec": {
   "display_name": "ta",
   "language": "python",
   "name": "python3"
  },
  "language_info": {
   "codemirror_mode": {
    "name": "ipython",
    "version": 3
   },
   "file_extension": ".py",
   "mimetype": "text/x-python",
   "name": "python",
   "nbconvert_exporter": "python",
   "pygments_lexer": "ipython3",
   "version": "3.11.4"
  },
  "orig_nbformat": 4
 },
 "nbformat": 4,
 "nbformat_minor": 2
}
