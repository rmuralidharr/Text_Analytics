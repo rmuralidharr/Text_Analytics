{
 "cells": [
  {
   "cell_type": "markdown",
   "metadata": {},
   "source": [
    "# Introduction to Structured and Semi-Structured Text Files\n",
    "\n",
    "**Week01, Section 01**\n",
    "\n",
    "ISM6564 Fall 2023\n",
    "\n",
    "&copy; 2023 Dr. Tim Smith\n",
    "\n",
    "---"
   ]
  },
  {
   "cell_type": "markdown",
   "metadata": {},
   "source": [
    "We have thus far seen text files as unstructured 'blobs' of text that we can analyze.\n",
    "\n",
    "However, many text files are structured or semi-structured. This means that they have a specific format that we can use to extract information from them.\n",
    "\n",
    "Some examples of structured text files include:\n",
    "- CSV files\n",
    "- JSON files\n",
    "- XML files\n",
    "\n",
    "Some examples of semi-structured text files include:\n",
    "- HTML files\n",
    "- PDF files\n",
    "\n",
    "The objectives of this section are to:\n",
    "- Understand the structure of CSV, JSON, and XML files\n",
    "- Learn how to read CSV, JSON, and XML files into Python\n",
    "- Learn how to extract information from CSV, JSON, and XML files\n",
    "- Load PDF and HTML files into Python (we will cover information extraction from html in a later section)"
   ]
  },
  {
   "cell_type": "code",
   "execution_count": 1,
   "metadata": {},
   "outputs": [],
   "source": [
    "import json\n",
    "import random"
   ]
  },
  {
   "cell_type": "markdown",
   "metadata": {},
   "source": [
    "## Structured files\n"
   ]
  },
  {
   "cell_type": "markdown",
   "metadata": {},
   "source": [
    "### JSON\n",
    "\n",
    "JSON is a very popular format for storing structured data. It is a text-based format, and is therefore human-readable. It is also very easy to parse, and is therefore machine-readable. It is also very flexible, and can be used to store a wide variety of data structures. It is also very popular, and is therefore supported by a wide variety of programming languages and tools."
   ]
  },
  {
   "cell_type": "code",
   "execution_count": 2,
   "metadata": {},
   "outputs": [],
   "source": [
    "# create a sample dictionary of data to use for this example\n",
    "\n",
    "data = {'name': ['Jason', 'Molly', 'Tina', 'Jake', 'Amy'],\n",
    "        'year': [2012, 2012, 2013, 2014, 2014],\n",
    "        'reports': [4, 24, 31, 2, 3]}"
   ]
  },
  {
   "cell_type": "code",
   "execution_count": 3,
   "metadata": {},
   "outputs": [],
   "source": [
    "# save this data structure as a json file\n",
    "\n",
    "import json\n",
    "\n",
    "with open('data/data.json', 'w') as outfile:\n",
    "    json.dump(data, outfile)"
   ]
  },
  {
   "cell_type": "markdown",
   "metadata": {},
   "source": [
    "We can open the json file we just created using VSCode. One issue that you will find is that the JSON structure will typically show as one long line. To get VSCode to format the JSON file, you can right-click on the file and select \"Format Document\". You can also use the keyboard shortcut \"Shift+Alt+F\" (on windows) or on MacOS \"Shift+Option+F\"."
   ]
  },
  {
   "cell_type": "code",
   "execution_count": 4,
   "metadata": {},
   "outputs": [],
   "source": [
    "# read the json file\n",
    "\n",
    "with open('data/data.json') as json_file:\n",
    "    data = json.load(json_file)"
   ]
  },
  {
   "cell_type": "code",
   "execution_count": 5,
   "metadata": {},
   "outputs": [
    {
     "name": "stdout",
     "output_type": "stream",
     "text": [
      "{'name': ['Jason', 'Molly', 'Tina', 'Jake', 'Amy'], 'year': [2012, 2012, 2013, 2014, 2014], 'reports': [4, 24, 31, 2, 3]}\n",
      "<class 'dict'>\n",
      "dict_keys(['name', 'year', 'reports'])\n",
      "['name', 'year', 'reports']\n",
      "dict_values([['Jason', 'Molly', 'Tina', 'Jake', 'Amy'], [2012, 2012, 2013, 2014, 2014], [4, 24, 31, 2, 3]])\n",
      "[['Jason', 'Molly', 'Tina', 'Jake', 'Amy'], [2012, 2012, 2013, 2014, 2014], [4, 24, 31, 2, 3]]\n"
     ]
    }
   ],
   "source": [
    "# explore the data variable created from the file\n",
    "\n",
    "# print the data variable\n",
    "print(data)\n",
    "\n",
    "# print the type of the data variable\n",
    "print(type(data))\n",
    "\n",
    "# print the keys of the data variable\n",
    "print(data.keys())\n",
    "print(list(data.keys()))\n",
    "\n",
    "# print the values of the data variable\n",
    "print(data.values())\n",
    "print(list(data.values()))"
   ]
  },
  {
   "cell_type": "markdown",
   "metadata": {},
   "source": [
    "### XML"
   ]
  },
  {
   "cell_type": "markdown",
   "metadata": {},
   "source": [
    "XML is a markup language that is used to store structured data. It is a bit like HTML, but it is not used to display data in a browser. Instead, it is used to store data in a structured way. XML is used in many different applications, and it is also used to store linguistic data."
   ]
  },
  {
   "cell_type": "markdown",
   "metadata": {},
   "source": [
    "To demonstrate the use of XML in python, we will create a sample dictionary, then covert it to XML and save it to a datafile."
   ]
  },
  {
   "cell_type": "code",
   "execution_count": 6,
   "metadata": {},
   "outputs": [],
   "source": [
    "# note, the follow two lines address an issue with the latest versions of python\n",
    "# and the dicttoxml library\n",
    "import collections\n",
    "collections.Iterable = collections.abc.Iterable\n",
    "\n",
    "import dicttoxml\n",
    "\n",
    "xml=dicttoxml.dicttoxml(data) # we will reuse the data structure we created in the previous example\n",
    "\n",
    "xml = dicttoxml.parseString(xml).toprettyxml() # convert xml binary string to xml string\n",
    "\n",
    "with open('data/data.xml', 'w') as outfile:\n",
    "    outfile.write(xml)"
   ]
  },
  {
   "cell_type": "markdown",
   "metadata": {},
   "source": [
    "Now, we will review the process of reading the XML file into Python."
   ]
  },
  {
   "cell_type": "code",
   "execution_count": 7,
   "metadata": {},
   "outputs": [
    {
     "data": {
      "text/plain": [
       "dict"
      ]
     },
     "execution_count": 7,
     "metadata": {},
     "output_type": "execute_result"
    }
   ],
   "source": [
    "# read the xml file\n",
    "import xmltodict\n",
    "import json\n",
    "\n",
    "with open('data/data.xml') as f:\n",
    "    doc = xmltodict.parse(f.read())\n",
    "    \n",
    "type(doc)"
   ]
  },
  {
   "cell_type": "markdown",
   "metadata": {},
   "source": [
    "### CSV"
   ]
  },
  {
   "cell_type": "markdown",
   "metadata": {},
   "source": [
    "CSV stands for comma-separated values. It is a very common format for storing data. Each line in a CSV file represents a row, and each column of data is separated by a comma. The first line of a CSV file is often a header row that contains the names of the columns."
   ]
  },
  {
   "cell_type": "code",
   "execution_count": 8,
   "metadata": {},
   "outputs": [],
   "source": [
    "# save my_dict to a CSV file\n",
    "\n",
    "# Though there are many ways we can save a dictionary to a csv file, let's use pandas\n",
    "\n",
    "import pandas as pd\n",
    "\n",
    "df = pd.DataFrame.from_dict(data, orient='index')  # we will reuse the data structure we created in the first example\n",
    "df.to_csv('./data/data.csv', header=True, index=False)"
   ]
  },
  {
   "cell_type": "markdown",
   "metadata": {},
   "source": [
    "## Semi Structured Text Files"
   ]
  },
  {
   "cell_type": "code",
   "execution_count": 9,
   "metadata": {},
   "outputs": [
    {
     "name": "stdout",
     "output_type": "stream",
     "text": [
      "<!DOCTYPE html>\n",
      "<html lang=\"en\" dir=\"ltr\" prefix=\"content: http://purl.org/rss/1.0/modules/content/  dc: http://purl.org/dc/terms/  foaf: http://xmlns.com/foaf/0.1/  og: http://ogp.me/ns#  rdfs: http://www.w3.org/2000/01/rdf-schema#  schema: http://schema.org/  sioc: http://rdfs.org/sioc/ns#  sioct: http://rdfs.org/sioc/types#  skos: http://www.w3.org/2004/02/skos/core#  xsd: http://www.w3.org/2001/XMLSchema# \">\n",
      "  <head>\n",
      "    <meta charset=\"utf-8\" />\n",
      "<script>window.dataLayer = window.dataLayer ||\n"
     ]
    }
   ],
   "source": [
    "### HTML\n",
    "\n",
    "# request a web page from www.usf.edu\n",
    "\n",
    "import requests\n",
    "\n",
    "url = 'https://www.tampa.gov/'\n",
    "\n",
    "r = requests.get(url)\n",
    "\n",
    "# print the first 500 characters of the HTML\n",
    "print(r.text[:500])\n",
    "\n"
   ]
  },
  {
   "cell_type": "code",
   "execution_count": 10,
   "metadata": {},
   "outputs": [
    {
     "name": "stdout",
     "output_type": "stream",
     "text": [
      "Hb},ssl:void 0,obfuscate:void 0,jserrors:{enabled:!0,harvestTimeSeconds:10},metrics:{enabled:!0},page_action:{enabled:!0,harvestTimeSeconds:30},page_view_event:{enabled:!0},page_view_timing:{enabled:!0,harvestTimeSeconds:30,long_task:!1},session_trace:{enabled:!0,harvestTimeSeconds:10},harvest:{tooManyRequestsDelay:60},session_replay:{enabled:!1,harvestTimeSeconds:60,sampleRate:.1,errorSampleRate:.1,maskTextSelector:\"*\",maskAllInputs:!0,get blockClass(){return\"nr-block\"},get ignoreClass(){return\"nr-ignore\"},get maskTextClass(){return\"nr-mask\"},get blockSelector(){return e.blockSelector},set blockSelector(t){e.blockSelector+=\",\".concat(t)},get maskInputOptions(){return e.maskInputOptions},set maskInputOptions(t){e.maskInputOptions={...t,password:!0}}},spa:{enabled:!0,harvestTimeSeconds:10}}},l={};function f(e){if(!e)throw new Error(\"All configuration objects require an agent identifier!\");if(!l[e])throw new Error(\"Configuration for \".concat(e,\" was never set\"));return l[e]}function g(e,t){if(!e)throw new Error(\"All configuration objects require an agent identifier!\");l[e]=(0,i.D)(t,u()),(0,r.Qy)(e,l[e],\"config\")}function p(e,t){if(!e)throw new Error(\"All configuration objects require an agent identifier!\");var n=f(e);if(n){for(var r=t.split(\".\"),i=0;i<r.length-1;i++)if(\"object\"!=typeof(n=n[r[i]]))return;n=n[r[r.length-1]]}return n}const h={accountID:void 0,trustKey:void 0,agentID:void 0,licenseKey:void 0,applicationID:void 0,xpid:void 0},v={};function m(e){if(!e)throw new Error(\"All loader-config objects require an agent identifier!\");if(!v[e])throw new Error(\"LoaderConfig for \".concat(e,\" was never set\"));return v[e]}function b(e,t){if(!e)throw new Error(\"All loader-config objects require an agent identifier!\");v[e]=(0,i.D)(t,h),(0,r.Qy)(e,v[e],\"loader_config\")}const y=(0,r.mF)().o;var w=n(385),A=n(818);const x={buildEnv:A.Re,bytesSent:{},queryBytesSent:{},customTransaction:void 0,disabled:!1,distMethod:A.gF,isolatedBacklog:!1,loaderType:void 0,maxBytes:3e4,offset:Math.floor(w._A?.performance?.timeOrigin||w._A?.performance?.timing?.navigationStart||Date.now()),onerror:void 0,origin:\"\"+w._A.location,ptid:void 0,releaseIds:{},session:void 0,xhrWrappable:\"function\"==typeof w._A.XMLHttpRequest?.prototype?.addEventListener,version:A.q4,denyList:void 0},D={};function j(e){if(!e)throw new Error(\"All runtime objects require an agent identifier!\");if(!D[e])throw new Error(\"Runtime for \".concat(e,\" was never set\"));return D[e]}function E(e,t){if(!e)throw new Error(\"All runtime objects require an agent identifier!\");D[e]=(0,i.D)(t,x),(0,r.Qy)(e,D[e],\"runtime\")}function T(e){return function(e){try{const t=s(e);return!!t.licenseKey&&!!t.errorBeacon&&!!t.applicationID}catch(e){return!1}}(e)}},567:(e,t,n)=>{n.d(t,{D:()=>i});var r=n(50);function i(e,t){try{if(!e||\"object\"!=typeof e)return(0,r.Z)(\"Setting a Configurable requires an object as input\");if(!t||\"object\"!=typeof t)return(0,r.Z)(\"Setting a Configurable requires a model to set its initial properties\");const n=Object.create(Object.getPrototypeOf(t),Object.getOwnPropertyDescriptors(t)),o=0===Object.keys(n).length?e:n;for(let a in o)if(void 0!==e[a])try{\"object\"==typeof e[a]&&\"object\"==typeof t[a]?n[a]=i(e[a],t[a]):n[a]=e[a]}catch(e){(0,r.Z)(\"An error occurred while setting a property of a Configurable\",e)}return n}catch(e){(0,r.Z)(\"An error occured while setting a Configurable\",e)}}},818:(e,t,n)=>{n.d(t,{Re:()=>i,gF:()=>o,q4:()=>r});const r=\"1.238.0\",i=\"PROD\",o=\"CDN\"},385:(e,t,n)=>{n.d(t,{IF:()=>c,Nk:()=>u,Tt:()=>a,_A:()=>o,il:()=>r,pL:()=>s,v6:()=>i,w1:()=>d});const r=\"undefined\"!=typeof window&&!!window.document,i=\"undefined\"!=typeof WorkerGlobalScope&&(\"undefined\"!=typeof self&&self instanceof WorkerGlobalScope&&self.navigator instanceof WorkerNavigator||\"undefined\"!=typeof globalThis&&globalThis instanceof WorkerGlobalScope&&globalThis.navigator instanceof WorkerNavigator),o=r?window:\"undefined\"!=typeof WorkerGlobalScope&&(\"undefined\"!=typeof self&&self instanceof WorkerGlobalScope&&self||\"undefined\"!=typeof globalThis&&globalThis instanceof WorkerGlobalScope&&globalThis),a=(o?.location,/iPad|iPhone|iPod/.test(navigator.userAgent)),s=a&&\"undefined\"==typeof SharedWorker,c=(()=>{const e=navigator.userAgent.match(/Firefox[/\\s](\\d+\\.\\d+)/);return Array.isArray(e)&&e.length>=2?+e[1]:0})(),d=Boolean(r&&window.document.documentMode),u=!!navigator.sendBeacon},711:(e,t,n)=>{n.d(t,{w:()=>o});var r=n(50);const i={agentIdentifier:\"\",ee:void 0};class o{constructor(e){try{if(\"object\"!=typeof e)return(0,r.Z)(\"shared context requires an object as input\");this.sharedContext={},Object.assign(this.sharedContext,i),Object.entries(e).forEach((e=>{let[t,n]=e;Object.keys(i).includes(t)&&(this.sharedContext[t]=n)}))}catch(e){(0,r.Z)(\"An error occured while setting SharedContext\",e)}}}},0:(e,t,n)=>{n.d(t,{L:()=>u,R:()=>c});var r=n(148),i=n(284),o=n(322),a=n(325);const s={};function c(e,t){const n={staged:!1,priority:a.p[t]||0};d(e),s[e].get(t)||s[e].set(t,n)}function d(e){e&&(s[e]||(s[e]\n"
     ]
    }
   ],
   "source": [
    "from bs4 import BeautifulSoup as bs\n",
    "\n",
    "soup = bs(r.text)               #make BeautifulSoup\n",
    "prettyHTML = soup.prettify()   #prettify the html\n",
    "print(prettyHTML[5000:10000])"
   ]
  },
  {
   "cell_type": "code",
   "execution_count": 11,
   "metadata": {},
   "outputs": [
    {
     "data": {
      "text/plain": [
       "[<a class=\"nav-link\" href=\"/accessibility/website\"><i class=\"fas fa-universal-access\"></i> <span aria-label=\"Title\" class=\"nav-link-text\">Access<span class=\"optional\">ibility</span></span></a>,\n",
       " <a class=\"nav-link\" href=\"/news\"><i class=\"far fa-newspaper\"></i> <span aria-label=\"Title\" class=\"nav-link-text\">News<span class=\"optional\">room</span></span></a>,\n",
       " <a aria-expanded=\"false\" aria-haspopup=\"true\" class=\"dropdown-toggle nav-link\" data-toggle=\"dropdown\" href=\"#\" role=\"button\">Guides</a>,\n",
       " <a aria-expanded=\"false\" aria-haspopup=\"true\" class=\"dropdown-toggle nav-link\" data-toggle=\"dropdown\" href=\"#\" role=\"button\">Businesses</a>,\n",
       " <a aria-expanded=\"false\" aria-haspopup=\"true\" class=\"dropdown-toggle nav-link\" data-toggle=\"dropdown\" href=\"#\" role=\"button\">Recreation</a>,\n",
       " <a aria-expanded=\"false\" aria-haspopup=\"true\" class=\"dropdown-toggle nav-link\" data-toggle=\"dropdown\" href=\"#\" role=\"button\">Residents</a>,\n",
       " <a aria-expanded=\"false\" aria-haspopup=\"true\" class=\"dropdown-toggle nav-link\" data-toggle=\"dropdown\" href=\"#\" role=\"button\">Visitors</a>,\n",
       " <a aria-expanded=\"false\" aria-haspopup=\"true\" class=\"dropdown-toggle nav-link\" data-toggle=\"dropdown\" href=\"#\" role=\"button\">Government</a>,\n",
       " <a class=\"nav-link\" href=\"/guide/jobs\">Jobs</a>,\n",
       " <a class=\"nav-link\" href=\"https://www.facebook.com/cityoftampa\"><i class=\"fab fa-facebook-square fa-2x\" title=\"City Facebook Account\"></i></a>,\n",
       " <a class=\"nav-link\" href=\"https://twitter.com/cityoftampa\"><i class=\"fab fa-twitter-square fa-2x\" title=\"City Twitter Account\"></i></a>,\n",
       " <a class=\"nav-link\" href=\"https://www.instagram.com/cityoftampa\"><i class=\"fab fa-instagram fa-2x\" title=\"City Instagram Account\"></i></a>,\n",
       " <a class=\"nav-link\" href=\"https://www.youtube.com/user/CityofTampa\"><i class=\"fab fa-youtube fa-2x\" title=\"City Youtube Account\"></i></a>,\n",
       " <a class=\"nav-link\" data-drupal-link-system-path=\"node/15881\" href=\"/parks-and-recreation/activities-recreation/aquatics\">Aquatics &amp; Pools</a>,\n",
       " <a class=\"nav-link\" data-drupal-link-system-path=\"node/19451\" href=\"/purchasing/how-do-i\">Bids</a>,\n",
       " <a class=\"nav-link\" href=\"https://apps.tampagov.net/msg?ID=183\">Billing Questions</a>,\n",
       " <a class=\"nav-link\" data-drupal-link-system-path=\"node/9621\" href=\"/development-and-growth-management\">Building &amp; Development</a>,\n",
       " <a class=\"nav-link\" href=\"https://apps.tampagov.net/msg?ID=102\">Business Tax</a>,\n",
       " <a class=\"nav-link\" href=\"https://apps.tampagov.net/msg?ID=89\">Code Enforcement</a>,\n",
       " <a class=\"nav-link\" data-drupal-link-system-path=\"node/1876\" href=\"/construction-services\">Construction Services</a>,\n",
       " <a class=\"nav-link\" href=\"https://apps.tampagov.net/msg?ID=793\">Fire Payments</a>,\n",
       " <a class=\"nav-link\" href=\"https://apps.tampagov.net/msg?ID=634\">Neighborhoods</a>,\n",
       " <a class=\"nav-link\" href=\"https://apps.tampagov.net/msg?ID=65\">Parks &amp; Recreation</a>,\n",
       " <a class=\"nav-link\" data-drupal-link-system-path=\"node/8576\" href=\"/parking\">Parking</a>,\n",
       " <a class=\"nav-link\" href=\"https://apps.tampagov.net/msg?ID=195\">Parking Tickets</a>,\n",
       " <a class=\"nav-link\" href=\"https://apps.tampagov.net/msg?ID=162\">Pay Utility Bill</a>,\n",
       " <a class=\"nav-link\" href=\"https://apps.tampagov.net/msg?ID=193\">Permits</a>,\n",
       " <a class=\"nav-link\" href=\"https://apps.tampagov.net/msg?ID=67\">Police</a>,\n",
       " <a class=\"nav-link\" data-drupal-link-system-path=\"node/1986\" href=\"/guide/public-records\">Public Records</a>,\n",
       " <a class=\"nav-link\" data-drupal-link-system-path=\"node/20391\" href=\"/special-events-coordination/programs/picnic-shelters\">Shelter Reservations</a>,\n",
       " <a class=\"nav-link\" href=\"https://apps.tampagov.net/msg?ID=99\">Transportation</a>,\n",
       " <a class=\"nav-link\" data-drupal-link-system-path=\"node/27956\" href=\"/solid-waste\">Trash &amp; Recycling </a>,\n",
       " <a class=\"nav-link\" data-drupal-link-system-path=\"node/35886\" href=\"/construction-services/tree-information\">Tree Information</a>,\n",
       " <a class=\"nav-link\" href=\"https://apps.tampagov.net/msg?ID=73\">Wastewater</a>,\n",
       " <a class=\"nav-link\" href=\"https://apps.tampagov.net/msg?ID=75\">Water</a>,\n",
       " <a class=\"nav-link\" href=\"https://apps.tampagov.net/appl_Customer_Service_Center/index.asp?strSection=opinion\">View All Services...</a>,\n",
       " <a class=\"nav-link\" href=\"https://apps.tampagov.net/appl_customer_service_center/form.asp?strServiceID=89\">Code Violations</a>,\n",
       " <a class=\"nav-link\" href=\"https://apps.tampagov.net/msg?ID=138\">Curb / Street / Gutter</a>,\n",
       " <a class=\"nav-link\" href=\"https://apps.tampagov.net/msg?ID=139\">Ditch or Retention Pond</a>,\n",
       " <a class=\"nav-link\" href=\"https://apps.tampagov.net/msg?ID=286\">Garbage Problem</a>,\n",
       " <a class=\"nav-link\" href=\"https://apps.tampagov.net/msg?ID=146\">Graffiti</a>,\n",
       " <a class=\"nav-link\" href=\"https://apps.tampagov.net/msg?ID=557\">Illegal Dumping</a>,\n",
       " <a class=\"nav-link\" href=\"https://apps.tampagov.net/msg?ID=142\">Manhole / Grate / Inlet</a>,\n",
       " <a class=\"nav-link\" href=\"https://apps.tampagov.net/msg?ID=106\">Pothole</a>,\n",
       " <a class=\"nav-link\" href=\"https://apps.tampagov.net/msg?id=68\">Police Anonymous Tip</a>,\n",
       " <a class=\"nav-link\" href=\"https://apps.tampagov.net/msg?ID=300\">Sewer</a>,\n",
       " <a class=\"nav-link\" href=\"https://apps.tampagov.net/appl_customer_service_center/form.asp?strServiceID=75\">Water</a>,\n",
       " <a class=\"nav-link\" href=\"https://apps.tampagov.net/appl_Customer_Service_Center/index.asp?strSection=complaints\">Other Problem...</a>,\n",
       " <a aria-label=\"Facebook\" class=\"nav-link\" href=\"https://www.facebook.com/cityoftampa\" title=\"Facebook\"><i class=\"fab fa-facebook-square\"></i></a>,\n",
       " <a aria-label=\"Twitter\" class=\"nav-link\" href=\"https://twitter.com/cityoftampa\" title=\"Twitter\"><i class=\"fab fa-twitter-square\"></i></a>,\n",
       " <a aria-label=\"Instagram\" class=\"nav-link\" href=\"https://www.instagram.com/cityoftampa\" title=\"Instagram\"><i class=\"fab fa-instagram\"></i></a>,\n",
       " <a aria-label=\"YouTube\" class=\"nav-link\" href=\"https://www.youtube.com/user/CityofTampa\" title=\"YouTube\"><i class=\"fab fa-youtube\"></i></a>,\n",
       " <a class=\"nav-link\" data-drupal-link-system-path=\"node/21426\" href=\"/accessibility/website\">Accessibility</a>,\n",
       " <a class=\"nav-link\" data-drupal-link-system-path=\"user/login\" href=\"/user/login\">Contributor Login</a>,\n",
       " <a class=\"nav-link\" data-drupal-link-system-path=\"node/21286\" href=\"/about-us/tampagov/site-policies\">Site Policies</a>]"
      ]
     },
     "execution_count": 11,
     "metadata": {},
     "output_type": "execute_result"
    }
   ],
   "source": [
    "mydivs = soup.find_all(\"a\", {\"class\": \"nav-link\"}) # find all a tags with class nav-link\n",
    "\n",
    "mydivs"
   ]
  },
  {
   "cell_type": "markdown",
   "metadata": {},
   "source": [
    "NOTE: Though it's good to familiarize yourself with how you can go about extracting information from a website, we will not be covering this in detail in this course. If you are interested in learning more about this, you can find plenty of online resources for learning how to extract information from websites. There is another Python library called scrapy that is becoming popular. You can find more information about it here: https://scrapy.org/"
   ]
  },
  {
   "cell_type": "markdown",
   "metadata": {},
   "source": [
    "### PDF\n",
    "\n",
    "PDF files are a bit more complicated to work with. There are many pdf libraries to work with PDF's. In this section, we will use two libraries. fpdf, and PyPDF2.\n",
    "\n",
    "fpdf is a library that allows us to create pdf files from scratch. PyPDF2 is a library that allows us to read pdf files."
   ]
  },
  {
   "cell_type": "markdown",
   "metadata": {},
   "source": [
    "#### Writing to PDF"
   ]
  },
  {
   "cell_type": "code",
   "execution_count": 12,
   "metadata": {},
   "outputs": [
    {
     "data": {
      "text/plain": [
       "''"
      ]
     },
     "execution_count": 12,
     "metadata": {},
     "output_type": "execute_result"
    }
   ],
   "source": [
    "import fpdf #pip3 intall fpdf # there are many pdf libraries in python. This is an old one, but good for writing.\n",
    "\n",
    "pdf = fpdf.FPDF(format='letter') #pdf format\n",
    "pdf.add_page() #create new page\n",
    "pdf.set_font(\"Arial\", size=12) # font and textsize\n",
    "pdf.cell(200, 10, txt=\"Hello World\", ln=1, align=\"L\")\n",
    "pdf.cell(200, 10, txt=\"Welcome\", ln=2, align=\"L\")\n",
    "pdf.cell(200, 10, txt=\"to ISM6564\", ln=3, align=\"L\")\n",
    "pdf.output(\"./data/test.pdf\")"
   ]
  },
  {
   "cell_type": "markdown",
   "metadata": {},
   "source": [
    "#### Reading from PDF"
   ]
  },
  {
   "cell_type": "code",
   "execution_count": 13,
   "metadata": {},
   "outputs": [
    {
     "name": "stdout",
     "output_type": "stream",
     "text": [
      "{'/Producer': 'PyFPDF 1.7.2 http://pyfpdf.googlecode.com/', '/CreationDate': 'D:20230826130925'}\n",
      "----\n",
      "1\n",
      "----\n",
      "Hello World\n",
      "Welcome\n",
      "to ISM6564\n"
     ]
    }
   ],
   "source": [
    "import PyPDF2\n",
    "\n",
    "sample_pdf = open(r'./data/test.pdf', mode='rb')\n",
    "pdfdoc = PyPDF2.PdfReader(sample_pdf)\n",
    "\n",
    "print(pdfdoc.metadata)\n",
    "print(\"----\")\n",
    "print(len(pdfdoc.pages))\n",
    "print(\"----\")\n",
    "print(pdfdoc.pages[0].extract_text())"
   ]
  }
 ],
 "metadata": {
  "kernelspec": {
   "display_name": "Python 3",
   "language": "python",
   "name": "python3"
  },
  "language_info": {
   "codemirror_mode": {
    "name": "ipython",
    "version": 3
   },
   "file_extension": ".py",
   "mimetype": "text/x-python",
   "name": "python",
   "nbconvert_exporter": "python",
   "pygments_lexer": "ipython3",
   "version": "3.11.4"
  },
  "orig_nbformat": 4
 },
 "nbformat": 4,
 "nbformat_minor": 2
}
