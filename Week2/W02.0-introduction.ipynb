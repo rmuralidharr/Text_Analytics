{
 "cells": [
  {
   "cell_type": "markdown",
   "metadata": {},
   "source": [
    "# Data Collection and Corpus Preparation\n",
    "\n",
    "**Week02, Section 00**\n",
    "\n",
    "ISM6564 Fall 2023\n",
    "\n",
    "&copy; 2023 Dr. Tim Smith\n",
    "\n",
    "---"
   ]
  },
  {
   "cell_type": "markdown",
   "metadata": {},
   "source": [
    "## 1.0 Introduction\n",
    "\n",
    "In this week, we will cover the following topics:\n",
    "\n",
    "    * structured and semistructured data\n",
    "    * regular expressions (regex)\n",
    "    * web-apis\n",
    "    * web-scraping\n",
    "      * scrapy example\n",
    "\n",
    "You will find a notebook for each one of these topics located in the Week02 folder.  The notebooks are numbered in the order that you should complete them.  The notebooks are:\n",
    "\n",
    "    * W02.1-structured-semistructured-data.ipynb\n",
    "    * W02.2-regular-expressions.ipynb\n",
    "    * W02.3-web-apis.ipynb\n",
    "    * W02.4-web-scraping.ipynb\n"
   ]
  }
 ],
 "metadata": {
  "kernelspec": {
   "display_name": "ta",
   "language": "python",
   "name": "python3"
  },
  "language_info": {
   "codemirror_mode": {
    "name": "ipython",
    "version": 3
   },
   "file_extension": ".py",
   "mimetype": "text/x-python",
   "name": "python",
   "nbconvert_exporter": "python",
   "pygments_lexer": "ipython3",
   "version": "3.11.4"
  },
  "orig_nbformat": 4
 },
 "nbformat": 4,
 "nbformat_minor": 2
}
