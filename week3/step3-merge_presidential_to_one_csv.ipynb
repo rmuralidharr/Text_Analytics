{
 "cells": [
  {
   "cell_type": "code",
   "execution_count": null,
   "metadata": {},
   "outputs": [],
   "source": [
    "import pandas as pd\n",
    "from selenium import webdriver\n",
    "from selenium.webdriver.firefox.service import Service\n",
    "from webdriver_manager.firefox import GeckoDriverManager\n",
    "import re\n",
    "import dateparser "
   ]
  },
  {
   "cell_type": "markdown",
   "metadata": {},
   "source": [
    "Merge speeches dataframe with presidents dataframe - since there are some slight variations in the president names between these two tables, we will use a fuzzy merge technique"
   ]
  },
  {
   "cell_type": "code",
   "execution_count": null,
   "metadata": {},
   "outputs": [],
   "source": [
    "speeches = pd.read_csv(\"./data/presidential_speeches.csv\")\n",
    "parties = pd.read_csv(\"./data/presidential_party_and_term.csv\")\n",
    "\n",
    "# change the column name of the presidents dataframe to match the speeches dataframe\n",
    "# In the presidents dataframe, the column name is 'president'. In the speeches dataframe, the column name is 'name'\n",
    "parties = parties.rename(columns={'president':'name'})"
   ]
  },
  {
   "cell_type": "code",
   "execution_count": null,
   "metadata": {},
   "outputs": [],
   "source": [
    "speeches.head()"
   ]
  },
  {
   "cell_type": "code",
   "execution_count": null,
   "metadata": {},
   "outputs": [],
   "source": [
    "parties.head()"
   ]
  },
  {
   "cell_type": "code",
   "execution_count": null,
   "metadata": {},
   "outputs": [],
   "source": [
    "import difflib # this will provide us with a 'fuzzy' match between the presidential names found in each table\n",
    "\n",
    "#convert name in party to name it most closely matches in speeches\n",
    "parties['name'] = parties['name'].apply(lambda x: difflib.get_close_matches(x, speeches['name'])[0])"
   ]
  },
  {
   "cell_type": "code",
   "execution_count": null,
   "metadata": {},
   "outputs": [],
   "source": [
    "# merge the DataFrames into one\n",
    "merged = speeches.merge(parties)\n",
    "\n",
    "# view final DataFrame\n",
    "merged"
   ]
  },
  {
   "cell_type": "code",
   "execution_count": null,
   "metadata": {},
   "outputs": [],
   "source": [
    "merged.to_csv(\"./data/presidential_speeches_merged.csv\",index=False)"
   ]
  },
  {
   "cell_type": "code",
   "execution_count": null,
   "metadata": {},
   "outputs": [],
   "source": [
    "merged['political party'].value_counts()"
   ]
  }
 ],
 "metadata": {
  "kernelspec": {
   "display_name": "tf310",
   "language": "python",
   "name": "python3"
  },
  "language_info": {
   "codemirror_mode": {
    "name": "ipython",
    "version": 3
   },
   "file_extension": ".py",
   "mimetype": "text/x-python",
   "name": "python",
   "nbconvert_exporter": "python",
   "pygments_lexer": "ipython3",
   "version": "3.11.4"
  },
  "orig_nbformat": 4
 },
 "nbformat": 4,
 "nbformat_minor": 2
}
