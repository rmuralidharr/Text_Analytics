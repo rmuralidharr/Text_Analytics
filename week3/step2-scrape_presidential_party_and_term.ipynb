{
 "cells": [
  {
   "cell_type": "code",
   "execution_count": null,
   "metadata": {},
   "outputs": [],
   "source": [
    "import pandas as pd\n",
    "from selenium import webdriver\n",
    "from selenium.webdriver.firefox.service import Service\n",
    "from webdriver_manager.firefox import GeckoDriverManager\n",
    "import re\n",
    "import dateparser "
   ]
  },
  {
   "cell_type": "code",
   "execution_count": null,
   "metadata": {},
   "outputs": [],
   "source": [
    "# here we scrape information on president's term and party\n",
    "# \n",
    "# NOTE: Britiania seems to be attempting to block web scrapers. When this happened, a regular requests\n",
    "# approach will fail. To bypass this, you will need to use  selenium. \n",
    "# The following code should work if site is blocking scraper:\n",
    "\n",
    "# Start a driver session....\n",
    "\n",
    "    # if you have selenium 3 installed, use one of these:\n",
    "#driver = webdriver.Firefox(executable_path=GeckoDriverManager().install()) # this will work on Windows and Mac, and should work on Linux when run the first time\n",
    "#driver = webdriver.Firefox(executable_path=<insert path to manual downloaded geckodriver>)\n",
    "driver = webdriver.Firefox() # use if geckodriver is in your PATH environmnet variable (which includes the same folder as your notebook)\n",
    "\n",
    "    # if you hve selenium 4 installed, use one of these:\n",
    "#driver = webdriver.Firefox(service=Service(GeckoDriverManager().install())) # this will work on Windows and Mac, and should work on Linux when run the first time\n",
    "#driver = webdriver.Firefox() # use if geckodriver is in your PATH environmnet variable (which includes the same folder as your notebook)\n",
    "\n",
    "driver.get(\"https://www.britannica.com/topic/Presidents-of-the-United-States-1846696\")\n",
    "driver.implicitly_wait(10)\n",
    "page_source = driver.page_source\n",
    "driver.close() "
   ]
  },
  {
   "cell_type": "code",
   "execution_count": null,
   "metadata": {},
   "outputs": [],
   "source": [
    "# pandas read html will parse the contents of the table in the downloaded webpage\n",
    "presidents = pd.read_html(page_source)[0]\n",
    "presidents"
   ]
  },
  {
   "cell_type": "code",
   "execution_count": null,
   "metadata": {},
   "outputs": [],
   "source": [
    "# note that the last two rows contains non-presidential information\n",
    "# let's remove these last two rows...\n",
    "presidents = presidents.drop([int(len(presidents)-1), int(len(presidents)-2)])\n",
    "presidents"
   ]
  },
  {
   "cell_type": "markdown",
   "metadata": {},
   "source": [
    "In the following cell, we create two new columns - from and to. We parse the term column for the information we need, and format appropriately."
   ]
  },
  {
   "cell_type": "code",
   "execution_count": null,
   "metadata": {},
   "outputs": [],
   "source": [
    "# first, split the string in the term column using dash as delimiter - store this in new column called 'from'\n",
    "presidents['from'] = presidents['term'].apply(lambda x: dateparser.parse(x.split(\"–\")[0]).year)\n",
    "\n",
    "# calculate 'to' based on the content of the term string\n",
    "def to_year(row):    \n",
    "    row['term'] = re.sub(r\"[^\\d-]\", \"\", row['term']) # replace any non-digit before dash with blank\n",
    "    term_list = row['term'].split(\"–\") # split on dash (to get start and end year)\n",
    "    if  len(term_list)== 1: # if we only have one date, then this is both from and to\n",
    "        return row['from']\n",
    "    elif len(term_list) == 2:\n",
    "        return row['from'][:2] + term_list[1] # return first two digits of from with string in to field\n",
    "    else:\n",
    "        return \"bad data\"\n",
    "    return row\n",
    "    \n",
    "presidents['to'] = presidents.apply(lambda row: to_year(row), axis=1)\n",
    "\n",
    "presidents"
   ]
  },
  {
   "cell_type": "code",
   "execution_count": null,
   "metadata": {},
   "outputs": [],
   "source": [
    "presidents.to_csv(\"./data/presidential_party_and_term.csv\", index=False)"
   ]
  }
 ],
 "metadata": {
  "kernelspec": {
   "display_name": "tf310",
   "language": "python",
   "name": "python3"
  },
  "language_info": {
   "codemirror_mode": {
    "name": "ipython",
    "version": 3
   },
   "file_extension": ".py",
   "mimetype": "text/x-python",
   "name": "python",
   "nbconvert_exporter": "python",
   "pygments_lexer": "ipython3",
   "version": "3.11.4"
  },
  "orig_nbformat": 4
 },
 "nbformat": 4,
 "nbformat_minor": 2
}
