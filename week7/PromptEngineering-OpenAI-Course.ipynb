{
 "cells": [
  {
   "cell_type": "markdown",
   "metadata": {},
   "source": [
    "### ChatGPT API \n",
    "![alt text](Murali.jpg)\n",
    "### Muralidhar Reddy Reddem U64546777\n",
    "### API intro\n",
    "\n",
    "ISM6564 Fall 2023\n",
    "\n",
    "&copy; 2023 Murali\n",
    "\n",
    "---"
   ]
  },
  {
   "cell_type": "markdown",
   "metadata": {},
   "source": [
    "create an OrderBot for a restaurant. Most restaurants have an online menu. Pick a local favorite of yours, and create an \"OrderBot\" that will assist customers in ordering from the restaurant (following the same level of functionality for the examples you saw in the course). Most restaurants have an online menu of items available - choose a restaurant with this available."
   ]
  },
  {
   "cell_type": "markdown",
   "metadata": {},
   "source": [
    "- Creating Chatbot content generating using OpenAI\n",
    "- Giving the Input feed as text from restaurant website (# taking chick-fil-a restaurant)\n",
    "- Calling the Open API with required parameters and passing prompt data to API \n",
    "- While calling API specifying the output format. \n",
    "- Store required information from API response and use as next prompt for new query API call\n",
    "- Repeat the above 3 steps until required statment or ouput reach "
   ]
  },
  {
   "cell_type": "markdown",
   "metadata": {},
   "source": [
    "### import the required packages"
   ]
  },
  {
   "cell_type": "code",
   "execution_count": 1,
   "metadata": {},
   "outputs": [],
   "source": [
    "import os\n",
    "import openai\n",
    "from api_key import my_key"
   ]
  },
  {
   "cell_type": "markdown",
   "metadata": {},
   "source": [
    "### call API using api_key.py file"
   ]
  },
  {
   "cell_type": "code",
   "execution_count": 2,
   "metadata": {},
   "outputs": [],
   "source": [
    "# my_key contains OpenAI API secret key value\n",
    "openai.api_key=my_key"
   ]
  },
  {
   "cell_type": "markdown",
   "metadata": {},
   "source": [
    "### gather the information chick fil a restaurant and store in documnet format "
   ]
  },
  {
   "cell_type": "code",
   "execution_count": 3,
   "metadata": {},
   "outputs": [],
   "source": [
    "\n",
    "\n",
    "response = openai.ChatCompletion.create(\n",
    "  model=\"gpt-3.5-turbo\",\n",
    "  messages=[\n",
    "    {\n",
    "      \"role\": \"user\",\n",
    "      \"content\": \"My name is Muralidhar Reddy Reddem\\ni came to chick-fil-a restaurant\"\n",
    "    },\n",
    "    {\n",
    "      \"role\": \"assistant\",\n",
    "      \"content\": \"Hello Muralidhar Reddy Reddem! Welcome to Chick-fil-A. How may I assist you today?\"\n",
    "    },\n",
    "    {\n",
    "      \"role\": \"user\",\n",
    "      \"content\": \"Hello, I would like to take an order, please\"\n",
    "    },\n",
    "    {\n",
    "      \"role\": \"assistant\",\n",
    "      \"content\": \"Of course! I'd be happy to take your order. What would you like to order from our menu at Chick-fil-A?\"\n",
    "    },\n",
    "    {\n",
    "      \"role\": \"user\",\n",
    "      \"content\": \"Explain the menu \\nDesired Output format:\\nItem Names | Descriptions | Prices | calories\\n             |             |             |             |\"\n",
    "    },\n",
    "    {\n",
    "      \"role\": \"assistant\",\n",
    "      \"content\": \"Item Names | Descriptions | Prices | Calories\\n------------|--------------|---------|---------\\nChick-fil-A Chicken Sandwich | A boneless chicken breast served on a toasted, buttered bun with two pickles. | $3.75 | 440 calories\\nSpicy Chicken Sandwich | A boneless chicken breast seasoned with spicy seasoning, served on a toasted, buttered bun with two pickles. | $4.29 | 500 calories\\nGrilled Chicken Sandwich | A marinated and seasoned chicken breast, grilled and served on a toasted, multigrain bun with lettuce, tomato, and honey roasted BBQ sauce. | $5.19 | 320 calories\\nNuggets (8-Count) | Bite-sized pieces of tender chicken breast, breaded and pressure-cooked to perfection. | $3.59 | 260 calories\\nWaffle Potato Fries (Medium) | Delicious waffle-shaped potatoes, deep-fried to a golden perfection. | $1.95 | 400 calories\\nChicken Salad Sandwich | A blend of diced chicken, eggs, pickles, and celery tossed in a creamy dressing, served on a toasted, buttered bun with lettuce and tomato. | $6.29 | 500 calories\\nGrilled Chicken Cool Wrap\"\n",
    "    },\n",
    "    {\n",
    "      \"role\": \"user\",\n",
    "      \"content\": \"I have 20 dollars. Can you suggeste me \"\n",
    "    },\n",
    "    {\n",
    "      \"role\": \"assistant\",\n",
    "      \"content\": \"Certainly! With your $20, here are a few meal options you can consider:\\n\\nOption 1:\\n- Chick-fil-A Chicken Sandwich ($3.75)\\n- Waffle Potato Fries (Medium - $1.95)\\n- Soft Drink (Medium - $1.79)\\n\\nTotal: $7.49\\n\\nOption 2:\\n- Spicy Chicken Sandwich ($4.29)\\n- Nuggets (8-Count - $3.59)\\n- Soft Drink (Medium - $1.79)\\n\\nTotal: $9.67\\n\\nOption 3:\\n- Grilled Chicken Sandwich ($5.19)\\n- Chick-fil-A Sauce (side - $0.62)\\n- Side Salad ($3.15)\\n- Soft Drink (Medium - $1.79)\\n\\nTotal: $10.75\\n\\nThese are just a few suggestions, but you can always customize your order to your liking. Enjoy your meal at Chick-fil-A!\"\n",
    "    },\n",
    "    {\n",
    "      \"role\": \"user\",\n",
    "      \"content\": \"what types of topins you can add\"\n",
    "    },\n",
    "    {\n",
    "      \"role\": \"assistant\",\n",
    "      \"content\": \"At Chick-fil-A, you have various toppings and add-ons available to customize your order. Some common toppings include:\\n\\n1. Lettuce\\n2. Tomato\\n3. Pickles\\n4. Onions\\n5. American cheese\\n6. Bacon\\n7. Spicy seasoning\\n8. Honey roasted BBQ sauce\\n9. Chick-fil-A Sauce\\n10. Polynesian Sauce\\n\\nThese are just a few examples, and the availability of toppings may vary depending on the specific menu item. Feel free to let us know if there are any specific toppings you're interested in, and we'll be happy to assist you further!\"\n",
    "    },\n",
    "    {\n",
    "      \"role\": \"user\",\n",
    "      \"content\": \"please add all items expect bacon\"\n",
    "    },\n",
    "    {\n",
    "      \"role\": \"assistant\",\n",
    "      \"content\": \"Certainly! Here are the available toppings and add-ons at Chick-fil-A, excluding bacon:\\n\\n1. Lettuce\\n2. Tomato\\n3. Pickles\\n4. Onions\\n5. American cheese\\n6. Spicy seasoning\\n7. Honey roasted BBQ sauce\\n8. Chick-fil-A Sauce\\n9. Polynesian Sauce\\n\\nPlease note that availability may vary for certain menu items. If you have any specific preferences or questions about toppings for a particular item, feel free to let us know!\"\n",
    "    },\n",
    "    {\n",
    "      \"role\": \"user\",\n",
    "      \"content\": \"what is price now option 3\"\n",
    "    },\n",
    "    {\n",
    "      \"role\": \"assistant\",\n",
    "      \"content\": \"The price of Option 3, which includes a Grilled Chicken Sandwich ($5.19), Chick-fil-A Sauce (side - $0.62), Side Salad ($3.15), and a Soft Drink (Medium - $1.79), is $10.75.\"\n",
    "    },\n",
    "    {\n",
    "      \"role\": \"user\",\n",
    "      \"content\": \"can i get double order option 3\"\n",
    "    },\n",
    "    {\n",
    "      \"role\": \"assistant\",\n",
    "      \"content\": \"Certainly! If you would like a double order of Option 3, the total price would be $21.50. This would include two Grilled Chicken Sandwiches, two Chick-fil-A Sauces (side), two Side Salads, and two Soft Drinks (Medium).\"\n",
    "    },\n",
    "    {\n",
    "      \"role\": \"user\",\n",
    "      \"content\": \"any soft drinks  available ?\"\n",
    "    },\n",
    "    {\n",
    "      \"role\": \"assistant\",\n",
    "      \"content\": \"Yes, at Chick-fil-A, we offer a variety of soft drink options. Some of the soft drink options available include:\\n\\n- Coca-Cola\\n- Diet Coke\\n- Sprite\\n- Dr Pepper\\n- Fanta Orange\\n- Hi-C Fruit Punch\\n- Powerade Mountain Berry Blast (non-carbonated)\\n\\nWe also offer iced tea, lemonade, and coffee as beverage options. Please note that the availability of specific drink options may vary by location.\"\n",
    "    },\n",
    "    {\n",
    "      \"role\": \"user\",\n",
    "      \"content\": \"please add coca\"\n",
    "    },\n",
    "    {\n",
    "      \"role\": \"assistant\",\n",
    "      \"content\": \"Certainly! You can add a Coca-Cola to your order. The price for a medium-sized Coca-Cola at Chick-fil-A is $1.79.\"\n",
    "    },\n",
    "    {\n",
    "      \"role\": \"user\",\n",
    "      \"content\": \"what is final price ?\"\n",
    "    },\n",
    "    {\n",
    "      \"role\": \"assistant\",\n",
    "      \"content\": \"Based on the double order of Option 3, which includes two Grilled Chicken Sandwiches ($5.19 each), two Chick-fil-A Sauces (side - $0.62 each), two Side Salads ($3.15 each), and two Soft Drinks (Medium - $1.79 each), the final total price would be $21.50.\"\n",
    "    },\n",
    "    {\n",
    "      \"role\": \"user\",\n",
    "      \"content\": \"That'll be all, thank you \"\n",
    "    },\n",
    "    {\n",
    "      \"role\": \"assistant\",\n",
    "      \"content\": \"You're welcome! If you have any other questions in the future, feel free to ask. Enjoy your meal at Chick-fil-A, and have a great day!\"\n",
    "    },\n",
    "    {\n",
    "      \"role\": \"user\",\n",
    "      \"content\": \"how can i pay my bill\"\n",
    "    },\n",
    "    {\n",
    "      \"role\": \"assistant\",\n",
    "      \"content\": \"At Chick-fil-A, there are multiple ways to pay your bill. Here are the common payment methods accepted:\\n\\n1. Cash: You can pay with cash by providing the exact amount or receiving change back if necessary.\\n\\n2. Credit or Debit Card: Most Chick-fil-A restaurants accept major credit and debit cards, such as Visa, Mastercard, American Express, and Discover. Simply present your card to the cashier and follow the instructions on their payment terminal.\\n\\n3. Mobile Payments: Many Chick-fil-A locations also accept mobile payment options such as Apple Pay, Google Pay, and Samsung Pay. Just ensure your mobile payment app is set up and ready to use on your device.\\n\\nPlease note that the availability of payment methods may vary by location. It's always a good idea to confirm with the specific Chick-fil-A restaurant you are visiting about their accepted payment methods.\"\n",
    "    },\n",
    "    {\n",
    "      \"role\": \"user\",\n",
    "      \"content\": \"I'll pay with a credit card\"\n",
    "    },\n",
    "    {\n",
    "      \"role\": \"assistant\",\n",
    "      \"content\": \"Great! When you're ready to pay with your credit card, simply let the cashier know that you would like to pay with a credit card. They will provide you with a payment terminal where you can insert, swipe, or tap your credit card to complete the transaction. Follow the prompts on the terminal, and don't forget to collect your receipt. If you have any specific questions or concerns about paying with a credit card, the cashier will be able to assist you further.\"\n",
    "    },\n",
    "    {\n",
    "      \"role\": \"user\",\n",
    "      \"content\": \"No, that's it. Thank you . Can you Sample receipt based on above order\\nDesired Output format:\\nItem Names | quantity |Prices |\\n             |             |             |\\nTotal price:\"\n",
    "    }\n",
    "  ],\n",
    "  temperature=1,\n",
    "  max_tokens=256,\n",
    "  top_p=1,\n",
    "  frequency_penalty=0,\n",
    "  presence_penalty=0\n",
    ")"
   ]
  },
  {
   "cell_type": "code",
   "execution_count": 4,
   "metadata": {},
   "outputs": [
    {
     "data": {
      "text/plain": [
       "\"Certainly! Here's a sample receipt based on the double order of Option 3:\\n\\nItem Names         | Quantity | Prices \\n-------------------|----------|--------\\nGrilled Chicken Sandwich  | 2       | $10.38\\nChick-fil-A Sauce (side)     | 2       | $1.24\\nSide Salad                 | 2       | $6.30\\nSoft Drink (Medium)  | 2       | $3.58\\n                           \\nTotal Price: $21.50\\n\\nPlease note that this is a sample receipt and the actual receipt may vary slightly.\""
      ]
     },
     "execution_count": 4,
     "metadata": {},
     "output_type": "execute_result"
    }
   ],
   "source": [
    "response['choices'][0]['message']['content']"
   ]
  },
  {
   "cell_type": "code",
   "execution_count": 5,
   "metadata": {},
   "outputs": [
    {
     "ename": "InvalidRequestError",
     "evalue": "'messages' is a required property",
     "output_type": "error",
     "traceback": [
      "\u001b[1;31m---------------------------------------------------------------------------\u001b[0m",
      "\u001b[1;31mInvalidRequestError\u001b[0m                       Traceback (most recent call last)",
      "\u001b[1;32mc:\\Users\\rmura\\Murali\\Text Analytics\\week7\\PromptEngineering-OpenAI-Course.ipynb Cell 11\u001b[0m line \u001b[0;36m1\n\u001b[0;32m      <a href='vscode-notebook-cell:/c%3A/Users/rmura/Murali/Text%20Analytics/week7/PromptEngineering-OpenAI-Course.ipynb#X13sZmlsZQ%3D%3D?line=0'>1</a>\u001b[0m prompt\u001b[39m=\u001b[39m\u001b[39mf\u001b[39m\u001b[39m\"\"\"\u001b[39m\n\u001b[0;32m      <a href='vscode-notebook-cell:/c%3A/Users/rmura/Murali/Text%20Analytics/week7/PromptEngineering-OpenAI-Course.ipynb#X13sZmlsZQ%3D%3D?line=1'>2</a>\u001b[0m \u001b[39mTask is to answer in a consistent style\u001b[39m\n\u001b[0;32m      <a href='vscode-notebook-cell:/c%3A/Users/rmura/Murali/Text%20Analytics/week7/PromptEngineering-OpenAI-Course.ipynb#X13sZmlsZQ%3D%3D?line=2'>3</a>\u001b[0m \u001b[39m<assistant>: Hello, welcome to chick fil a.\u001b[39m\n\u001b[1;32m   (...)\u001b[0m\n\u001b[0;32m      <a href='vscode-notebook-cell:/c%3A/Users/rmura/Murali/Text%20Analytics/week7/PromptEngineering-OpenAI-Course.ipynb#X13sZmlsZQ%3D%3D?line=7'>8</a>\u001b[0m \u001b[39m<murali>: please show and explain Menu. Item Names | Descriptions | Prices | calorie.\u001b[39m\n\u001b[0;32m      <a href='vscode-notebook-cell:/c%3A/Users/rmura/Murali/Text%20Analytics/week7/PromptEngineering-OpenAI-Course.ipynb#X13sZmlsZQ%3D%3D?line=8'>9</a>\u001b[0m \u001b[39m\"\"\"\u001b[39m\n\u001b[1;32m---> <a href='vscode-notebook-cell:/c%3A/Users/rmura/Murali/Text%20Analytics/week7/PromptEngineering-OpenAI-Course.ipynb#X13sZmlsZQ%3D%3D?line=11'>12</a>\u001b[0m response \u001b[39m=\u001b[39m openai\u001b[39m.\u001b[39;49mChatCompletion\u001b[39m.\u001b[39;49mcreate(\n\u001b[0;32m     <a href='vscode-notebook-cell:/c%3A/Users/rmura/Murali/Text%20Analytics/week7/PromptEngineering-OpenAI-Course.ipynb#X13sZmlsZQ%3D%3D?line=12'>13</a>\u001b[0m   model\u001b[39m=\u001b[39;49m\u001b[39m\"\u001b[39;49m\u001b[39mgpt-3.5-turbo\u001b[39;49m\u001b[39m\"\u001b[39;49m,\n\u001b[0;32m     <a href='vscode-notebook-cell:/c%3A/Users/rmura/Murali/Text%20Analytics/week7/PromptEngineering-OpenAI-Course.ipynb#X13sZmlsZQ%3D%3D?line=13'>14</a>\u001b[0m  prompt\u001b[39m=\u001b[39;49mprompt,\n\u001b[0;32m     <a href='vscode-notebook-cell:/c%3A/Users/rmura/Murali/Text%20Analytics/week7/PromptEngineering-OpenAI-Course.ipynb#X13sZmlsZQ%3D%3D?line=14'>15</a>\u001b[0m   temperature\u001b[39m=\u001b[39;49m\u001b[39m1\u001b[39;49m,\n\u001b[0;32m     <a href='vscode-notebook-cell:/c%3A/Users/rmura/Murali/Text%20Analytics/week7/PromptEngineering-OpenAI-Course.ipynb#X13sZmlsZQ%3D%3D?line=15'>16</a>\u001b[0m   max_tokens\u001b[39m=\u001b[39;49m\u001b[39m256\u001b[39;49m,\n\u001b[0;32m     <a href='vscode-notebook-cell:/c%3A/Users/rmura/Murali/Text%20Analytics/week7/PromptEngineering-OpenAI-Course.ipynb#X13sZmlsZQ%3D%3D?line=16'>17</a>\u001b[0m   top_p\u001b[39m=\u001b[39;49m\u001b[39m1\u001b[39;49m,\n\u001b[0;32m     <a href='vscode-notebook-cell:/c%3A/Users/rmura/Murali/Text%20Analytics/week7/PromptEngineering-OpenAI-Course.ipynb#X13sZmlsZQ%3D%3D?line=17'>18</a>\u001b[0m   frequency_penalty\u001b[39m=\u001b[39;49m\u001b[39m0\u001b[39;49m,\n\u001b[0;32m     <a href='vscode-notebook-cell:/c%3A/Users/rmura/Murali/Text%20Analytics/week7/PromptEngineering-OpenAI-Course.ipynb#X13sZmlsZQ%3D%3D?line=18'>19</a>\u001b[0m   presence_penalty\u001b[39m=\u001b[39;49m\u001b[39m0\u001b[39;49m\n\u001b[0;32m     <a href='vscode-notebook-cell:/c%3A/Users/rmura/Murali/Text%20Analytics/week7/PromptEngineering-OpenAI-Course.ipynb#X13sZmlsZQ%3D%3D?line=19'>20</a>\u001b[0m )\n",
      "File \u001b[1;32mc:\\Users\\rmura\\anaconda3\\envs\\text_analytics\\Lib\\site-packages\\openai\\api_resources\\chat_completion.py:25\u001b[0m, in \u001b[0;36mChatCompletion.create\u001b[1;34m(cls, *args, **kwargs)\u001b[0m\n\u001b[0;32m     23\u001b[0m \u001b[39mwhile\u001b[39;00m \u001b[39mTrue\u001b[39;00m:\n\u001b[0;32m     24\u001b[0m     \u001b[39mtry\u001b[39;00m:\n\u001b[1;32m---> 25\u001b[0m         \u001b[39mreturn\u001b[39;00m \u001b[39msuper\u001b[39;49m()\u001b[39m.\u001b[39;49mcreate(\u001b[39m*\u001b[39;49margs, \u001b[39m*\u001b[39;49m\u001b[39m*\u001b[39;49mkwargs)\n\u001b[0;32m     26\u001b[0m     \u001b[39mexcept\u001b[39;00m TryAgain \u001b[39mas\u001b[39;00m e:\n\u001b[0;32m     27\u001b[0m         \u001b[39mif\u001b[39;00m timeout \u001b[39mis\u001b[39;00m \u001b[39mnot\u001b[39;00m \u001b[39mNone\u001b[39;00m \u001b[39mand\u001b[39;00m time\u001b[39m.\u001b[39mtime() \u001b[39m>\u001b[39m start \u001b[39m+\u001b[39m timeout:\n",
      "File \u001b[1;32mc:\\Users\\rmura\\anaconda3\\envs\\text_analytics\\Lib\\site-packages\\openai\\api_resources\\abstract\\engine_api_resource.py:153\u001b[0m, in \u001b[0;36mEngineAPIResource.create\u001b[1;34m(cls, api_key, api_base, api_type, request_id, api_version, organization, **params)\u001b[0m\n\u001b[0;32m    127\u001b[0m \u001b[39m@classmethod\u001b[39m\n\u001b[0;32m    128\u001b[0m \u001b[39mdef\u001b[39;00m \u001b[39mcreate\u001b[39m(\n\u001b[0;32m    129\u001b[0m     \u001b[39mcls\u001b[39m,\n\u001b[1;32m   (...)\u001b[0m\n\u001b[0;32m    136\u001b[0m     \u001b[39m*\u001b[39m\u001b[39m*\u001b[39mparams,\n\u001b[0;32m    137\u001b[0m ):\n\u001b[0;32m    138\u001b[0m     (\n\u001b[0;32m    139\u001b[0m         deployment_id,\n\u001b[0;32m    140\u001b[0m         engine,\n\u001b[1;32m   (...)\u001b[0m\n\u001b[0;32m    150\u001b[0m         api_key, api_base, api_type, api_version, organization, \u001b[39m*\u001b[39m\u001b[39m*\u001b[39mparams\n\u001b[0;32m    151\u001b[0m     )\n\u001b[1;32m--> 153\u001b[0m     response, _, api_key \u001b[39m=\u001b[39m requestor\u001b[39m.\u001b[39;49mrequest(\n\u001b[0;32m    154\u001b[0m         \u001b[39m\"\u001b[39;49m\u001b[39mpost\u001b[39;49m\u001b[39m\"\u001b[39;49m,\n\u001b[0;32m    155\u001b[0m         url,\n\u001b[0;32m    156\u001b[0m         params\u001b[39m=\u001b[39;49mparams,\n\u001b[0;32m    157\u001b[0m         headers\u001b[39m=\u001b[39;49mheaders,\n\u001b[0;32m    158\u001b[0m         stream\u001b[39m=\u001b[39;49mstream,\n\u001b[0;32m    159\u001b[0m         request_id\u001b[39m=\u001b[39;49mrequest_id,\n\u001b[0;32m    160\u001b[0m         request_timeout\u001b[39m=\u001b[39;49mrequest_timeout,\n\u001b[0;32m    161\u001b[0m     )\n\u001b[0;32m    163\u001b[0m     \u001b[39mif\u001b[39;00m stream:\n\u001b[0;32m    164\u001b[0m         \u001b[39m# must be an iterator\u001b[39;00m\n\u001b[0;32m    165\u001b[0m         \u001b[39massert\u001b[39;00m \u001b[39mnot\u001b[39;00m \u001b[39misinstance\u001b[39m(response, OpenAIResponse)\n",
      "File \u001b[1;32mc:\\Users\\rmura\\anaconda3\\envs\\text_analytics\\Lib\\site-packages\\openai\\api_requestor.py:226\u001b[0m, in \u001b[0;36mAPIRequestor.request\u001b[1;34m(self, method, url, params, headers, files, stream, request_id, request_timeout)\u001b[0m\n\u001b[0;32m    205\u001b[0m \u001b[39mdef\u001b[39;00m \u001b[39mrequest\u001b[39m(\n\u001b[0;32m    206\u001b[0m     \u001b[39mself\u001b[39m,\n\u001b[0;32m    207\u001b[0m     method,\n\u001b[1;32m   (...)\u001b[0m\n\u001b[0;32m    214\u001b[0m     request_timeout: Optional[Union[\u001b[39mfloat\u001b[39m, Tuple[\u001b[39mfloat\u001b[39m, \u001b[39mfloat\u001b[39m]]] \u001b[39m=\u001b[39m \u001b[39mNone\u001b[39;00m,\n\u001b[0;32m    215\u001b[0m ) \u001b[39m-\u001b[39m\u001b[39m>\u001b[39m Tuple[Union[OpenAIResponse, Iterator[OpenAIResponse]], \u001b[39mbool\u001b[39m, \u001b[39mstr\u001b[39m]:\n\u001b[0;32m    216\u001b[0m     result \u001b[39m=\u001b[39m \u001b[39mself\u001b[39m\u001b[39m.\u001b[39mrequest_raw(\n\u001b[0;32m    217\u001b[0m         method\u001b[39m.\u001b[39mlower(),\n\u001b[0;32m    218\u001b[0m         url,\n\u001b[1;32m   (...)\u001b[0m\n\u001b[0;32m    224\u001b[0m         request_timeout\u001b[39m=\u001b[39mrequest_timeout,\n\u001b[0;32m    225\u001b[0m     )\n\u001b[1;32m--> 226\u001b[0m     resp, got_stream \u001b[39m=\u001b[39m \u001b[39mself\u001b[39;49m\u001b[39m.\u001b[39;49m_interpret_response(result, stream)\n\u001b[0;32m    227\u001b[0m     \u001b[39mreturn\u001b[39;00m resp, got_stream, \u001b[39mself\u001b[39m\u001b[39m.\u001b[39mapi_key\n",
      "File \u001b[1;32mc:\\Users\\rmura\\anaconda3\\envs\\text_analytics\\Lib\\site-packages\\openai\\api_requestor.py:620\u001b[0m, in \u001b[0;36mAPIRequestor._interpret_response\u001b[1;34m(self, result, stream)\u001b[0m\n\u001b[0;32m    612\u001b[0m     \u001b[39mreturn\u001b[39;00m (\n\u001b[0;32m    613\u001b[0m         \u001b[39mself\u001b[39m\u001b[39m.\u001b[39m_interpret_response_line(\n\u001b[0;32m    614\u001b[0m             line, result\u001b[39m.\u001b[39mstatus_code, result\u001b[39m.\u001b[39mheaders, stream\u001b[39m=\u001b[39m\u001b[39mTrue\u001b[39;00m\n\u001b[0;32m    615\u001b[0m         )\n\u001b[0;32m    616\u001b[0m         \u001b[39mfor\u001b[39;00m line \u001b[39min\u001b[39;00m parse_stream(result\u001b[39m.\u001b[39miter_lines())\n\u001b[0;32m    617\u001b[0m     ), \u001b[39mTrue\u001b[39;00m\n\u001b[0;32m    618\u001b[0m \u001b[39melse\u001b[39;00m:\n\u001b[0;32m    619\u001b[0m     \u001b[39mreturn\u001b[39;00m (\n\u001b[1;32m--> 620\u001b[0m         \u001b[39mself\u001b[39;49m\u001b[39m.\u001b[39;49m_interpret_response_line(\n\u001b[0;32m    621\u001b[0m             result\u001b[39m.\u001b[39;49mcontent\u001b[39m.\u001b[39;49mdecode(\u001b[39m\"\u001b[39;49m\u001b[39mutf-8\u001b[39;49m\u001b[39m\"\u001b[39;49m),\n\u001b[0;32m    622\u001b[0m             result\u001b[39m.\u001b[39;49mstatus_code,\n\u001b[0;32m    623\u001b[0m             result\u001b[39m.\u001b[39;49mheaders,\n\u001b[0;32m    624\u001b[0m             stream\u001b[39m=\u001b[39;49m\u001b[39mFalse\u001b[39;49;00m,\n\u001b[0;32m    625\u001b[0m         ),\n\u001b[0;32m    626\u001b[0m         \u001b[39mFalse\u001b[39;00m,\n\u001b[0;32m    627\u001b[0m     )\n",
      "File \u001b[1;32mc:\\Users\\rmura\\anaconda3\\envs\\text_analytics\\Lib\\site-packages\\openai\\api_requestor.py:683\u001b[0m, in \u001b[0;36mAPIRequestor._interpret_response_line\u001b[1;34m(self, rbody, rcode, rheaders, stream)\u001b[0m\n\u001b[0;32m    681\u001b[0m stream_error \u001b[39m=\u001b[39m stream \u001b[39mand\u001b[39;00m \u001b[39m\"\u001b[39m\u001b[39merror\u001b[39m\u001b[39m\"\u001b[39m \u001b[39min\u001b[39;00m resp\u001b[39m.\u001b[39mdata\n\u001b[0;32m    682\u001b[0m \u001b[39mif\u001b[39;00m stream_error \u001b[39mor\u001b[39;00m \u001b[39mnot\u001b[39;00m \u001b[39m200\u001b[39m \u001b[39m<\u001b[39m\u001b[39m=\u001b[39m rcode \u001b[39m<\u001b[39m \u001b[39m300\u001b[39m:\n\u001b[1;32m--> 683\u001b[0m     \u001b[39mraise\u001b[39;00m \u001b[39mself\u001b[39m\u001b[39m.\u001b[39mhandle_error_response(\n\u001b[0;32m    684\u001b[0m         rbody, rcode, resp\u001b[39m.\u001b[39mdata, rheaders, stream_error\u001b[39m=\u001b[39mstream_error\n\u001b[0;32m    685\u001b[0m     )\n\u001b[0;32m    686\u001b[0m \u001b[39mreturn\u001b[39;00m resp\n",
      "\u001b[1;31mInvalidRequestError\u001b[0m: 'messages' is a required property"
     ]
    }
   ],
   "source": [
    "prompt=f\"\"\"\n",
    "Task is to answer in a consistent style\n",
    "<assistant>: Hello, welcome to chick fil a.\n",
    "<murali>: Hello I would like to place an order for delivery please.\n",
    "<assistant>: Sure thank you for choosing our restaurant. May I have your name please?\n",
    "<murali: Yes it is Muralidhar Reddy Reddem.\n",
    "<assistant>: Thank you Muralidhar. What can I get for you today?\n",
    "<murali>: please show and explain Menu. Item Names | Descriptions | Prices | calorie.\n",
    "\"\"\"\n",
    "\n",
    "\n",
    "response = openai.ChatCompletion.create(\n",
    "  model=\"gpt-3.5-turbo\",\n",
    " prompt=prompt,\n",
    "  temperature=1,\n",
    "  max_tokens=256,\n",
    "  top_p=1,\n",
    "  frequency_penalty=0,\n",
    "  presence_penalty=0\n",
    ")"
   ]
  },
  {
   "cell_type": "markdown",
   "metadata": {},
   "source": [
    "### analysis \n",
    "- Method 1: 3 & 4 cell\n",
    "    - Played with Open API Playground with proper promts.\n",
    "        - Intro of customer and wishes\n",
    "        -  Checked the menu list given assistant \n",
    "        - check calries approx on each items \n",
    "        - additionl items with meals\n",
    "        - Finally paying the bill with cred \n",
    "        - Generating sample recipt \n",
    "    - Save the playground and copy the code format.\n",
    "    - Call the Open AI API with saved prompt responces\n",
    "    - Print the Responces recepiet from OpenAI based on order\n",
    "- Method 2: 5th cell\n",
    "    - Few short promting"
   ]
  }
 ],
 "metadata": {
  "kernelspec": {
   "display_name": "text_analytics",
   "language": "python",
   "name": "python3"
  },
  "language_info": {
   "codemirror_mode": {
    "name": "ipython",
    "version": 3
   },
   "file_extension": ".py",
   "mimetype": "text/x-python",
   "name": "python",
   "nbconvert_exporter": "python",
   "pygments_lexer": "ipython3",
   "version": "3.11.4"
  }
 },
 "nbformat": 4,
 "nbformat_minor": 2
}
