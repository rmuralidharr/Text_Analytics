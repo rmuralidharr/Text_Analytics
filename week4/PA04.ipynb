{
 "cells": [
  {
   "cell_type": "markdown",
   "metadata": {},
   "source": [
    "## Airline Tweets: Sentiment Analysis & Simple Classification\n",
    "\n",
    "### ISM6564\n",
    "\n",
    "**Week04, Part02**\n",
    "\n",
    "&copy; 2023 Dr. Tim Smith\n",
    "\n",
    "<a target=\"_blank\" href=\"https://colab.research.google.com/github/prof-tcsmith/ta-f23/blob/main/W04/4.3-Tutorial - Descriptive Analysis - brand sentiment.ipynb#offline=1\">\n",
    "  <img src=\"https://colab.research.google.com/assets/colab-badge.svg\" alt=\"Open In Colab\"/>\n",
    "</a>\n",
    "\n",
    "---"
   ]
  },
  {
   "cell_type": "markdown",
   "metadata": {},
   "source": [
    "## Introduction\n",
    "\n",
    "In this notebook we will analysze the sentiment from a dataset on how travelers tweeted about their airline-related feelings, scraped from Twitter in February 2015;."
   ]
  },
  {
   "cell_type": "code",
   "execution_count": 1,
   "metadata": {},
   "outputs": [],
   "source": [
    "import pandas as pd\n",
    "import re\n",
    "from nltk.corpus import stopwords\n",
    "from nltk.stem import WordNetLemmatizer\n",
    "from matplotlib import pyplot as plt\n",
    "\n",
    "from nltk.tokenize import TweetTokenizer\n",
    "\n",
    "from nltk.sentiment.vader import SentimentIntensityAnalyzer\n",
    "\n",
    "from textblob import TextBlob\n",
    "import seaborn as sns"
   ]
  },
  {
   "cell_type": "code",
   "execution_count": 2,
   "metadata": {},
   "outputs": [],
   "source": [
    "import warnings\n",
    "warnings.simplefilter(action='ignore', category=FutureWarning)"
   ]
  },
  {
   "cell_type": "code",
   "execution_count": 3,
   "metadata": {},
   "outputs": [
    {
     "data": {
      "text/html": [
       "<div>\n",
       "<style scoped>\n",
       "    .dataframe tbody tr th:only-of-type {\n",
       "        vertical-align: middle;\n",
       "    }\n",
       "\n",
       "    .dataframe tbody tr th {\n",
       "        vertical-align: top;\n",
       "    }\n",
       "\n",
       "    .dataframe thead th {\n",
       "        text-align: right;\n",
       "    }\n",
       "</style>\n",
       "<table border=\"1\" class=\"dataframe\">\n",
       "  <thead>\n",
       "    <tr style=\"text-align: right;\">\n",
       "      <th></th>\n",
       "      <th>tweet_id</th>\n",
       "      <th>airline_sentiment</th>\n",
       "      <th>airline_sentiment_confidence</th>\n",
       "      <th>negativereason</th>\n",
       "      <th>negativereason_confidence</th>\n",
       "      <th>airline</th>\n",
       "      <th>airline_sentiment_gold</th>\n",
       "      <th>name</th>\n",
       "      <th>negativereason_gold</th>\n",
       "      <th>retweet_count</th>\n",
       "      <th>text</th>\n",
       "      <th>tweet_coord</th>\n",
       "      <th>tweet_created</th>\n",
       "      <th>tweet_location</th>\n",
       "      <th>user_timezone</th>\n",
       "    </tr>\n",
       "  </thead>\n",
       "  <tbody>\n",
       "    <tr>\n",
       "      <th>0</th>\n",
       "      <td>570306133677760513</td>\n",
       "      <td>neutral</td>\n",
       "      <td>1.0000</td>\n",
       "      <td>NaN</td>\n",
       "      <td>NaN</td>\n",
       "      <td>Virgin America</td>\n",
       "      <td>NaN</td>\n",
       "      <td>cairdin</td>\n",
       "      <td>NaN</td>\n",
       "      <td>0</td>\n",
       "      <td>@VirginAmerica What @dhepburn said.</td>\n",
       "      <td>NaN</td>\n",
       "      <td>2015-02-24 11:35:52 -0800</td>\n",
       "      <td>NaN</td>\n",
       "      <td>Eastern Time (US &amp; Canada)</td>\n",
       "    </tr>\n",
       "    <tr>\n",
       "      <th>1</th>\n",
       "      <td>570301130888122368</td>\n",
       "      <td>positive</td>\n",
       "      <td>0.3486</td>\n",
       "      <td>NaN</td>\n",
       "      <td>0.0000</td>\n",
       "      <td>Virgin America</td>\n",
       "      <td>NaN</td>\n",
       "      <td>jnardino</td>\n",
       "      <td>NaN</td>\n",
       "      <td>0</td>\n",
       "      <td>@VirginAmerica plus you've added commercials t...</td>\n",
       "      <td>NaN</td>\n",
       "      <td>2015-02-24 11:15:59 -0800</td>\n",
       "      <td>NaN</td>\n",
       "      <td>Pacific Time (US &amp; Canada)</td>\n",
       "    </tr>\n",
       "    <tr>\n",
       "      <th>2</th>\n",
       "      <td>570301083672813571</td>\n",
       "      <td>neutral</td>\n",
       "      <td>0.6837</td>\n",
       "      <td>NaN</td>\n",
       "      <td>NaN</td>\n",
       "      <td>Virgin America</td>\n",
       "      <td>NaN</td>\n",
       "      <td>yvonnalynn</td>\n",
       "      <td>NaN</td>\n",
       "      <td>0</td>\n",
       "      <td>@VirginAmerica I didn't today... Must mean I n...</td>\n",
       "      <td>NaN</td>\n",
       "      <td>2015-02-24 11:15:48 -0800</td>\n",
       "      <td>Lets Play</td>\n",
       "      <td>Central Time (US &amp; Canada)</td>\n",
       "    </tr>\n",
       "    <tr>\n",
       "      <th>3</th>\n",
       "      <td>570301031407624196</td>\n",
       "      <td>negative</td>\n",
       "      <td>1.0000</td>\n",
       "      <td>Bad Flight</td>\n",
       "      <td>0.7033</td>\n",
       "      <td>Virgin America</td>\n",
       "      <td>NaN</td>\n",
       "      <td>jnardino</td>\n",
       "      <td>NaN</td>\n",
       "      <td>0</td>\n",
       "      <td>@VirginAmerica it's really aggressive to blast...</td>\n",
       "      <td>NaN</td>\n",
       "      <td>2015-02-24 11:15:36 -0800</td>\n",
       "      <td>NaN</td>\n",
       "      <td>Pacific Time (US &amp; Canada)</td>\n",
       "    </tr>\n",
       "    <tr>\n",
       "      <th>4</th>\n",
       "      <td>570300817074462722</td>\n",
       "      <td>negative</td>\n",
       "      <td>1.0000</td>\n",
       "      <td>Can't Tell</td>\n",
       "      <td>1.0000</td>\n",
       "      <td>Virgin America</td>\n",
       "      <td>NaN</td>\n",
       "      <td>jnardino</td>\n",
       "      <td>NaN</td>\n",
       "      <td>0</td>\n",
       "      <td>@VirginAmerica and it's a really big bad thing...</td>\n",
       "      <td>NaN</td>\n",
       "      <td>2015-02-24 11:14:45 -0800</td>\n",
       "      <td>NaN</td>\n",
       "      <td>Pacific Time (US &amp; Canada)</td>\n",
       "    </tr>\n",
       "  </tbody>\n",
       "</table>\n",
       "</div>"
      ],
      "text/plain": [
       "             tweet_id airline_sentiment  airline_sentiment_confidence  \\\n",
       "0  570306133677760513           neutral                        1.0000   \n",
       "1  570301130888122368          positive                        0.3486   \n",
       "2  570301083672813571           neutral                        0.6837   \n",
       "3  570301031407624196          negative                        1.0000   \n",
       "4  570300817074462722          negative                        1.0000   \n",
       "\n",
       "  negativereason  negativereason_confidence         airline  \\\n",
       "0            NaN                        NaN  Virgin America   \n",
       "1            NaN                     0.0000  Virgin America   \n",
       "2            NaN                        NaN  Virgin America   \n",
       "3     Bad Flight                     0.7033  Virgin America   \n",
       "4     Can't Tell                     1.0000  Virgin America   \n",
       "\n",
       "  airline_sentiment_gold        name negativereason_gold  retweet_count  \\\n",
       "0                    NaN     cairdin                 NaN              0   \n",
       "1                    NaN    jnardino                 NaN              0   \n",
       "2                    NaN  yvonnalynn                 NaN              0   \n",
       "3                    NaN    jnardino                 NaN              0   \n",
       "4                    NaN    jnardino                 NaN              0   \n",
       "\n",
       "                                                text tweet_coord  \\\n",
       "0                @VirginAmerica What @dhepburn said.         NaN   \n",
       "1  @VirginAmerica plus you've added commercials t...         NaN   \n",
       "2  @VirginAmerica I didn't today... Must mean I n...         NaN   \n",
       "3  @VirginAmerica it's really aggressive to blast...         NaN   \n",
       "4  @VirginAmerica and it's a really big bad thing...         NaN   \n",
       "\n",
       "               tweet_created tweet_location               user_timezone  \n",
       "0  2015-02-24 11:35:52 -0800            NaN  Eastern Time (US & Canada)  \n",
       "1  2015-02-24 11:15:59 -0800            NaN  Pacific Time (US & Canada)  \n",
       "2  2015-02-24 11:15:48 -0800      Lets Play  Central Time (US & Canada)  \n",
       "3  2015-02-24 11:15:36 -0800            NaN  Pacific Time (US & Canada)  \n",
       "4  2015-02-24 11:14:45 -0800            NaN  Pacific Time (US & Canada)  "
      ]
     },
     "execution_count": 3,
     "metadata": {},
     "output_type": "execute_result"
    }
   ],
   "source": [
    "# read in the data \n",
    "df = pd.read_csv('data/Tweets_1.csv') \n",
    "df.head()"
   ]
  },
  {
   "cell_type": "code",
   "execution_count": 4,
   "metadata": {},
   "outputs": [
    {
     "data": {
      "text/plain": [
       "array(['neutral', 'positive', 'negative'], dtype=object)"
      ]
     },
     "execution_count": 4,
     "metadata": {},
     "output_type": "execute_result"
    }
   ],
   "source": [
    "df.airline_sentiment.unique()"
   ]
  },
  {
   "cell_type": "code",
   "execution_count": 5,
   "metadata": {},
   "outputs": [
    {
     "data": {
      "text/plain": [
       "array([[0.6513],\n",
       "       [1.    ],\n",
       "       [0.3603],\n",
       "       [1.    ],\n",
       "       [0.3498],\n",
       "       [1.    ],\n",
       "       [1.    ],\n",
       "       [1.    ],\n",
       "       [1.    ],\n",
       "       [1.    ],\n",
       "       [1.    ],\n",
       "       [0.663 ],\n",
       "       [1.    ],\n",
       "       [1.    ],\n",
       "       [1.    ],\n",
       "       [1.    ],\n",
       "       [1.    ],\n",
       "       [1.    ],\n",
       "       [1.    ],\n",
       "       [1.    ]])"
      ]
     },
     "execution_count": 5,
     "metadata": {},
     "output_type": "execute_result"
    }
   ],
   "source": [
    "\n",
    "df.loc[df.airline_sentiment == 'neutral'  , [\"airline_sentiment_confidence\"]].sample(20).values"
   ]
  },
  {
   "cell_type": "code",
   "execution_count": 6,
   "metadata": {},
   "outputs": [
    {
     "data": {
      "text/plain": [
       "array([[1.    ],\n",
       "       [1.    ],\n",
       "       [0.6604],\n",
       "       [0.689 ],\n",
       "       [0.6497],\n",
       "       [0.688 ],\n",
       "       [0.7158],\n",
       "       [0.3586],\n",
       "       [0.6392],\n",
       "       [1.    ],\n",
       "       [1.    ],\n",
       "       [1.    ],\n",
       "       [1.    ],\n",
       "       [1.    ],\n",
       "       [1.    ],\n",
       "       [0.6593],\n",
       "       [0.7068],\n",
       "       [1.    ],\n",
       "       [1.    ],\n",
       "       [0.6953]])"
      ]
     },
     "execution_count": 6,
     "metadata": {},
     "output_type": "execute_result"
    }
   ],
   "source": [
    "\n",
    "df.loc[df.airline_sentiment == 'positive'  , [\"airline_sentiment_confidence\"]].sample(20).values"
   ]
  },
  {
   "cell_type": "code",
   "execution_count": 7,
   "metadata": {},
   "outputs": [
    {
     "data": {
      "text/plain": [
       "array([[1.    ],\n",
       "       [1.    ],\n",
       "       [1.    ],\n",
       "       [0.6841],\n",
       "       [1.    ],\n",
       "       [0.6528],\n",
       "       [0.67  ],\n",
       "       [1.    ],\n",
       "       [1.    ],\n",
       "       [1.    ],\n",
       "       [1.    ],\n",
       "       [1.    ],\n",
       "       [1.    ],\n",
       "       [1.    ],\n",
       "       [1.    ],\n",
       "       [0.6438],\n",
       "       [1.    ],\n",
       "       [1.    ],\n",
       "       [1.    ],\n",
       "       [1.    ]])"
      ]
     },
     "execution_count": 7,
     "metadata": {},
     "output_type": "execute_result"
    }
   ],
   "source": [
    "\n",
    "df.loc[df.airline_sentiment == 'negative'  , [\"airline_sentiment_confidence\"]].sample(20).values"
   ]
  },
  {
   "cell_type": "code",
   "execution_count": 8,
   "metadata": {},
   "outputs": [],
   "source": [
    "tokenizer = TweetTokenizer()\n",
    "\n",
    "def clear_text(text):\n",
    "    # tokenize the text\n",
    "    # nltk.download('punkt') # uncomment if you need to download the punkt package\n",
    "    tokens = tokenizer.tokenize(text)\n",
    "    \n",
    "    # remove all tokens that are not alphabetic\n",
    "    tokens = [word for word in tokens if word.isalpha()]\n",
    "    \n",
    "    # make lowercase\n",
    "    tokens = [word.lower() for word in tokens]\n",
    "\n",
    "    # remove all tokens that are only one character\n",
    "    tokens = [word for word in tokens if len(word) > 1]\n",
    "\n",
    "    return ' '.join(tokens)\n",
    "\n",
    "df['clean_text']=df.text.apply(lambda x: clear_text(x))   \n",
    "df['hashtags'] = df.text.apply(lambda text: re.findall(r\"#(\\w+)\", text))\n",
    "df['handles'] = df.text.apply(lambda text: re.findall(r\"@(\\w+)\", text))"
   ]
  },
  {
   "cell_type": "code",
   "execution_count": 9,
   "metadata": {},
   "outputs": [
    {
     "data": {
      "text/html": [
       "<div>\n",
       "<style scoped>\n",
       "    .dataframe tbody tr th:only-of-type {\n",
       "        vertical-align: middle;\n",
       "    }\n",
       "\n",
       "    .dataframe tbody tr th {\n",
       "        vertical-align: top;\n",
       "    }\n",
       "\n",
       "    .dataframe thead th {\n",
       "        text-align: right;\n",
       "    }\n",
       "</style>\n",
       "<table border=\"1\" class=\"dataframe\">\n",
       "  <thead>\n",
       "    <tr style=\"text-align: right;\">\n",
       "      <th></th>\n",
       "      <th>tweet_id</th>\n",
       "      <th>airline_sentiment</th>\n",
       "      <th>airline_sentiment_confidence</th>\n",
       "      <th>negativereason</th>\n",
       "      <th>negativereason_confidence</th>\n",
       "      <th>airline</th>\n",
       "      <th>airline_sentiment_gold</th>\n",
       "      <th>name</th>\n",
       "      <th>negativereason_gold</th>\n",
       "      <th>retweet_count</th>\n",
       "      <th>text</th>\n",
       "      <th>tweet_coord</th>\n",
       "      <th>tweet_created</th>\n",
       "      <th>tweet_location</th>\n",
       "      <th>user_timezone</th>\n",
       "      <th>clean_text</th>\n",
       "      <th>hashtags</th>\n",
       "      <th>handles</th>\n",
       "    </tr>\n",
       "  </thead>\n",
       "  <tbody>\n",
       "    <tr>\n",
       "      <th>0</th>\n",
       "      <td>570306133677760513</td>\n",
       "      <td>neutral</td>\n",
       "      <td>1.0000</td>\n",
       "      <td>NaN</td>\n",
       "      <td>NaN</td>\n",
       "      <td>Virgin America</td>\n",
       "      <td>NaN</td>\n",
       "      <td>cairdin</td>\n",
       "      <td>NaN</td>\n",
       "      <td>0</td>\n",
       "      <td>@VirginAmerica What @dhepburn said.</td>\n",
       "      <td>NaN</td>\n",
       "      <td>2015-02-24 11:35:52 -0800</td>\n",
       "      <td>NaN</td>\n",
       "      <td>Eastern Time (US &amp; Canada)</td>\n",
       "      <td>what said</td>\n",
       "      <td>[]</td>\n",
       "      <td>[VirginAmerica, dhepburn]</td>\n",
       "    </tr>\n",
       "    <tr>\n",
       "      <th>1</th>\n",
       "      <td>570301130888122368</td>\n",
       "      <td>positive</td>\n",
       "      <td>0.3486</td>\n",
       "      <td>NaN</td>\n",
       "      <td>0.0000</td>\n",
       "      <td>Virgin America</td>\n",
       "      <td>NaN</td>\n",
       "      <td>jnardino</td>\n",
       "      <td>NaN</td>\n",
       "      <td>0</td>\n",
       "      <td>@VirginAmerica plus you've added commercials t...</td>\n",
       "      <td>NaN</td>\n",
       "      <td>2015-02-24 11:15:59 -0800</td>\n",
       "      <td>NaN</td>\n",
       "      <td>Pacific Time (US &amp; Canada)</td>\n",
       "      <td>plus added commercials to the experience tacky</td>\n",
       "      <td>[]</td>\n",
       "      <td>[VirginAmerica]</td>\n",
       "    </tr>\n",
       "    <tr>\n",
       "      <th>2</th>\n",
       "      <td>570301083672813571</td>\n",
       "      <td>neutral</td>\n",
       "      <td>0.6837</td>\n",
       "      <td>NaN</td>\n",
       "      <td>NaN</td>\n",
       "      <td>Virgin America</td>\n",
       "      <td>NaN</td>\n",
       "      <td>yvonnalynn</td>\n",
       "      <td>NaN</td>\n",
       "      <td>0</td>\n",
       "      <td>@VirginAmerica I didn't today... Must mean I n...</td>\n",
       "      <td>NaN</td>\n",
       "      <td>2015-02-24 11:15:48 -0800</td>\n",
       "      <td>Lets Play</td>\n",
       "      <td>Central Time (US &amp; Canada)</td>\n",
       "      <td>today must mean need to take another trip</td>\n",
       "      <td>[]</td>\n",
       "      <td>[VirginAmerica]</td>\n",
       "    </tr>\n",
       "    <tr>\n",
       "      <th>3</th>\n",
       "      <td>570301031407624196</td>\n",
       "      <td>negative</td>\n",
       "      <td>1.0000</td>\n",
       "      <td>Bad Flight</td>\n",
       "      <td>0.7033</td>\n",
       "      <td>Virgin America</td>\n",
       "      <td>NaN</td>\n",
       "      <td>jnardino</td>\n",
       "      <td>NaN</td>\n",
       "      <td>0</td>\n",
       "      <td>@VirginAmerica it's really aggressive to blast...</td>\n",
       "      <td>NaN</td>\n",
       "      <td>2015-02-24 11:15:36 -0800</td>\n",
       "      <td>NaN</td>\n",
       "      <td>Pacific Time (US &amp; Canada)</td>\n",
       "      <td>really aggressive to blast obnoxious entertain...</td>\n",
       "      <td>[]</td>\n",
       "      <td>[VirginAmerica]</td>\n",
       "    </tr>\n",
       "    <tr>\n",
       "      <th>4</th>\n",
       "      <td>570300817074462722</td>\n",
       "      <td>negative</td>\n",
       "      <td>1.0000</td>\n",
       "      <td>Can't Tell</td>\n",
       "      <td>1.0000</td>\n",
       "      <td>Virgin America</td>\n",
       "      <td>NaN</td>\n",
       "      <td>jnardino</td>\n",
       "      <td>NaN</td>\n",
       "      <td>0</td>\n",
       "      <td>@VirginAmerica and it's a really big bad thing...</td>\n",
       "      <td>NaN</td>\n",
       "      <td>2015-02-24 11:14:45 -0800</td>\n",
       "      <td>NaN</td>\n",
       "      <td>Pacific Time (US &amp; Canada)</td>\n",
       "      <td>and really big bad thing about it</td>\n",
       "      <td>[]</td>\n",
       "      <td>[VirginAmerica]</td>\n",
       "    </tr>\n",
       "  </tbody>\n",
       "</table>\n",
       "</div>"
      ],
      "text/plain": [
       "             tweet_id airline_sentiment  airline_sentiment_confidence  \\\n",
       "0  570306133677760513           neutral                        1.0000   \n",
       "1  570301130888122368          positive                        0.3486   \n",
       "2  570301083672813571           neutral                        0.6837   \n",
       "3  570301031407624196          negative                        1.0000   \n",
       "4  570300817074462722          negative                        1.0000   \n",
       "\n",
       "  negativereason  negativereason_confidence         airline  \\\n",
       "0            NaN                        NaN  Virgin America   \n",
       "1            NaN                     0.0000  Virgin America   \n",
       "2            NaN                        NaN  Virgin America   \n",
       "3     Bad Flight                     0.7033  Virgin America   \n",
       "4     Can't Tell                     1.0000  Virgin America   \n",
       "\n",
       "  airline_sentiment_gold        name negativereason_gold  retweet_count  \\\n",
       "0                    NaN     cairdin                 NaN              0   \n",
       "1                    NaN    jnardino                 NaN              0   \n",
       "2                    NaN  yvonnalynn                 NaN              0   \n",
       "3                    NaN    jnardino                 NaN              0   \n",
       "4                    NaN    jnardino                 NaN              0   \n",
       "\n",
       "                                                text tweet_coord  \\\n",
       "0                @VirginAmerica What @dhepburn said.         NaN   \n",
       "1  @VirginAmerica plus you've added commercials t...         NaN   \n",
       "2  @VirginAmerica I didn't today... Must mean I n...         NaN   \n",
       "3  @VirginAmerica it's really aggressive to blast...         NaN   \n",
       "4  @VirginAmerica and it's a really big bad thing...         NaN   \n",
       "\n",
       "               tweet_created tweet_location               user_timezone  \\\n",
       "0  2015-02-24 11:35:52 -0800            NaN  Eastern Time (US & Canada)   \n",
       "1  2015-02-24 11:15:59 -0800            NaN  Pacific Time (US & Canada)   \n",
       "2  2015-02-24 11:15:48 -0800      Lets Play  Central Time (US & Canada)   \n",
       "3  2015-02-24 11:15:36 -0800            NaN  Pacific Time (US & Canada)   \n",
       "4  2015-02-24 11:14:45 -0800            NaN  Pacific Time (US & Canada)   \n",
       "\n",
       "                                          clean_text hashtags  \\\n",
       "0                                          what said       []   \n",
       "1     plus added commercials to the experience tacky       []   \n",
       "2          today must mean need to take another trip       []   \n",
       "3  really aggressive to blast obnoxious entertain...       []   \n",
       "4                  and really big bad thing about it       []   \n",
       "\n",
       "                     handles  \n",
       "0  [VirginAmerica, dhepburn]  \n",
       "1            [VirginAmerica]  \n",
       "2            [VirginAmerica]  \n",
       "3            [VirginAmerica]  \n",
       "4            [VirginAmerica]  "
      ]
     },
     "execution_count": 9,
     "metadata": {},
     "output_type": "execute_result"
    }
   ],
   "source": [
    "df.head(5)"
   ]
  },
  {
   "cell_type": "code",
   "execution_count": 10,
   "metadata": {},
   "outputs": [],
   "source": [
    "df = df.drop(columns=[\"tweet_id\", \"name\", \"retweet_count\",\"negativereason\",\"airline_sentiment_gold\",\"negativereason_confidence\",\"tweet_coord\",\"tweet_created\",\"airline_sentiment_gold\",\"tweet_location\",\"user_timezone\",\"negativereason_gold\"]) # though we could use these columns for other analysis, for this analysis we will not"
   ]
  },
  {
   "cell_type": "code",
   "execution_count": 11,
   "metadata": {},
   "outputs": [
    {
     "data": {
      "text/plain": [
       "array(['Virgin America', 'United', 'Southwest', 'Delta', 'US Airways',\n",
       "       'American'], dtype=object)"
      ]
     },
     "execution_count": 11,
     "metadata": {},
     "output_type": "execute_result"
    }
   ],
   "source": [
    "df[\"airline\"].unique()"
   ]
  },
  {
   "cell_type": "markdown",
   "metadata": {},
   "source": [
    "### Sentiment analysis using TextBlob"
   ]
  },
  {
   "cell_type": "code",
   "execution_count": 12,
   "metadata": {},
   "outputs": [
    {
     "data": {
      "text/html": [
       "<div>\n",
       "<style scoped>\n",
       "    .dataframe tbody tr th:only-of-type {\n",
       "        vertical-align: middle;\n",
       "    }\n",
       "\n",
       "    .dataframe tbody tr th {\n",
       "        vertical-align: top;\n",
       "    }\n",
       "\n",
       "    .dataframe thead th {\n",
       "        text-align: right;\n",
       "    }\n",
       "</style>\n",
       "<table border=\"1\" class=\"dataframe\">\n",
       "  <thead>\n",
       "    <tr style=\"text-align: right;\">\n",
       "      <th></th>\n",
       "      <th>airline_sentiment</th>\n",
       "      <th>airline_sentiment_confidence</th>\n",
       "      <th>airline</th>\n",
       "      <th>text</th>\n",
       "      <th>clean_text</th>\n",
       "      <th>hashtags</th>\n",
       "      <th>handles</th>\n",
       "      <th>tb_polarity</th>\n",
       "      <th>tb_sentiment</th>\n",
       "    </tr>\n",
       "  </thead>\n",
       "  <tbody>\n",
       "    <tr>\n",
       "      <th>9189</th>\n",
       "      <td>positive</td>\n",
       "      <td>0.6806</td>\n",
       "      <td>US Airways</td>\n",
       "      <td>BY THE GRACE OF GOD, I MADE IT! “@USAirways: @...</td>\n",
       "      <td>by the grace of god made it we have those powe...</td>\n",
       "      <td>[]</td>\n",
       "      <td>[USAirways, __RWG__]</td>\n",
       "      <td>0.00000</td>\n",
       "      <td>neutral</td>\n",
       "    </tr>\n",
       "    <tr>\n",
       "      <th>14265</th>\n",
       "      <td>negative</td>\n",
       "      <td>1.0000</td>\n",
       "      <td>American</td>\n",
       "      <td>@AmericanAir @sa_craig no gate agent, and only...</td>\n",
       "      <td>no gate agent and only pa updates for hours hi...</td>\n",
       "      <td>[]</td>\n",
       "      <td>[AmericanAir, sa_craig]</td>\n",
       "      <td>-0.50000</td>\n",
       "      <td>negative</td>\n",
       "    </tr>\n",
       "    <tr>\n",
       "      <th>11131</th>\n",
       "      <td>negative</td>\n",
       "      <td>1.0000</td>\n",
       "      <td>US Airways</td>\n",
       "      <td>@USAirways @AmericanAir Will you be destroying...</td>\n",
       "      <td>will you be destroying lives in eastern during...</td>\n",
       "      <td>[]</td>\n",
       "      <td>[USAirways, AmericanAir, GastonCounty]</td>\n",
       "      <td>-0.19375</td>\n",
       "      <td>negative</td>\n",
       "    </tr>\n",
       "    <tr>\n",
       "      <th>9954</th>\n",
       "      <td>negative</td>\n",
       "      <td>1.0000</td>\n",
       "      <td>US Airways</td>\n",
       "      <td>@USAirways where are my bags?</td>\n",
       "      <td>where are my bags</td>\n",
       "      <td>[]</td>\n",
       "      <td>[USAirways]</td>\n",
       "      <td>0.00000</td>\n",
       "      <td>neutral</td>\n",
       "    </tr>\n",
       "    <tr>\n",
       "      <th>13972</th>\n",
       "      <td>negative</td>\n",
       "      <td>0.6741</td>\n",
       "      <td>American</td>\n",
       "      <td>@AmericanAir my flight from VCP to JFK was del...</td>\n",
       "      <td>my flight from vcp to jfk was delayed and now ...</td>\n",
       "      <td>[]</td>\n",
       "      <td>[AmericanAir]</td>\n",
       "      <td>0.00000</td>\n",
       "      <td>neutral</td>\n",
       "    </tr>\n",
       "  </tbody>\n",
       "</table>\n",
       "</div>"
      ],
      "text/plain": [
       "      airline_sentiment  airline_sentiment_confidence     airline  \\\n",
       "9189           positive                        0.6806  US Airways   \n",
       "14265          negative                        1.0000    American   \n",
       "11131          negative                        1.0000  US Airways   \n",
       "9954           negative                        1.0000  US Airways   \n",
       "13972          negative                        0.6741    American   \n",
       "\n",
       "                                                    text  \\\n",
       "9189   BY THE GRACE OF GOD, I MADE IT! “@USAirways: @...   \n",
       "14265  @AmericanAir @sa_craig no gate agent, and only...   \n",
       "11131  @USAirways @AmericanAir Will you be destroying...   \n",
       "9954                       @USAirways where are my bags?   \n",
       "13972  @AmericanAir my flight from VCP to JFK was del...   \n",
       "\n",
       "                                              clean_text hashtags  \\\n",
       "9189   by the grace of god made it we have those powe...       []   \n",
       "14265  no gate agent and only pa updates for hours hi...       []   \n",
       "11131  will you be destroying lives in eastern during...       []   \n",
       "9954                                   where are my bags       []   \n",
       "13972  my flight from vcp to jfk was delayed and now ...       []   \n",
       "\n",
       "                                      handles  tb_polarity tb_sentiment  \n",
       "9189                     [USAirways, __RWG__]      0.00000      neutral  \n",
       "14265                 [AmericanAir, sa_craig]     -0.50000     negative  \n",
       "11131  [USAirways, AmericanAir, GastonCounty]     -0.19375     negative  \n",
       "9954                              [USAirways]      0.00000      neutral  \n",
       "13972                           [AmericanAir]      0.00000      neutral  "
      ]
     },
     "execution_count": 12,
     "metadata": {},
     "output_type": "execute_result"
    }
   ],
   "source": [
    "analyzer = SentimentIntensityAnalyzer()\n",
    "\n",
    "def cal(x):\n",
    "    a=''\n",
    "    if x>0:\n",
    "        a='positive'\n",
    "    elif x <0:\n",
    "        a='negative'\n",
    "    else:\n",
    "        a='neutral'\n",
    "    \n",
    "    return a\n",
    "        \n",
    "\n",
    "\n",
    "df['tb_polarity'] = df['clean_text'].apply(lambda x: TextBlob(x).polarity)\n",
    "df['tb_sentiment'] = df['tb_polarity'].apply(lambda x: cal(x))\n",
    "\n",
    "df.sample(n=5)"
   ]
  },
  {
   "cell_type": "code",
   "execution_count": 13,
   "metadata": {},
   "outputs": [
    {
     "data": {
      "text/plain": [
       "array([[1.0, 'US Airways',\n",
       "        '@USAirways @AmericanAir @SVLLINDIA provides you the best logistics experience for people all over India.\\n#Mumbai #Surat #NaviMumbai'],\n",
       "       [1.0, 'American',\n",
       "        '@AmericanAir THANK YOU FOR ALL THE HELP!  :P You guys are the best.  #americanairlines #americanair'],\n",
       "       [1.0, 'Delta',\n",
       "        \"@JetBlue I have someone driving me, it's best to get a wheelchair once I get inside?\"],\n",
       "       [1.0, 'Virgin America',\n",
       "        '@VirginAmerica best customer service rep in the world! #irmafromDallas takes the cake!!!'],\n",
       "       [1.0, 'American',\n",
       "        \"@AmericanAir depends on the terminal, what' the best option? Arrive C, depart A. Breakfast burrito is what I'm craving.. Any update on 1119?\"]],\n",
       "      dtype=object)"
      ]
     },
     "execution_count": 13,
     "metadata": {},
     "output_type": "execute_result"
    }
   ],
   "source": [
    "df.loc[df.tb_polarity >= 0.85 , [\"tb_polarity\", \"airline\", \"text\"]].sample(5).values"
   ]
  },
  {
   "cell_type": "code",
   "execution_count": 14,
   "metadata": {},
   "outputs": [
    {
     "data": {
      "text/plain": [
       "array([[-0.4, 'Delta',\n",
       "        \"@JetBlue won't see my money again after their poor service    should have stuck with virgin america what was i thinking trying jetblue???\"],\n",
       "       [0.0, 'American',\n",
       "        '@AmericanAir have been waiting for a call back for over two hours jan to die tomorrow at 6am Cancelled Flightled what are my options?'],\n",
       "       [-0.3, 'Delta',\n",
       "        \"@JetBlue If that was the case, why did your alert arrive so Late Flight? Four-hour delay? Don't buy it.\"],\n",
       "       [0.25, 'American',\n",
       "        '@AmericanAir Lets hope it stays that way.Big thanks to your ground/outside crews all across the US the last month. Great FB post yesterday.'],\n",
       "       [-0.1645833333333333, 'Virgin America',\n",
       "        '@virginAmerica Other carriers are less than half price for a round trip fare. I am stunned. http://t.co/UKdjjijroW']],\n",
       "      dtype=object)"
      ]
     },
     "execution_count": 14,
     "metadata": {},
     "output_type": "execute_result"
    }
   ],
   "source": [
    "df.loc[df.tb_polarity >= -0.85 , [\"tb_polarity\", \"airline\", \"text\"]].sample(5).values"
   ]
  },
  {
   "cell_type": "markdown",
   "metadata": {},
   "source": [
    "### Sentiment analysis using NLTK"
   ]
  },
  {
   "cell_type": "code",
   "execution_count": 15,
   "metadata": {},
   "outputs": [
    {
     "data": {
      "text/html": [
       "<div>\n",
       "<style scoped>\n",
       "    .dataframe tbody tr th:only-of-type {\n",
       "        vertical-align: middle;\n",
       "    }\n",
       "\n",
       "    .dataframe tbody tr th {\n",
       "        vertical-align: top;\n",
       "    }\n",
       "\n",
       "    .dataframe thead th {\n",
       "        text-align: right;\n",
       "    }\n",
       "</style>\n",
       "<table border=\"1\" class=\"dataframe\">\n",
       "  <thead>\n",
       "    <tr style=\"text-align: right;\">\n",
       "      <th></th>\n",
       "      <th>airline_sentiment</th>\n",
       "      <th>airline_sentiment_confidence</th>\n",
       "      <th>airline</th>\n",
       "      <th>text</th>\n",
       "      <th>clean_text</th>\n",
       "      <th>hashtags</th>\n",
       "      <th>handles</th>\n",
       "      <th>tb_polarity</th>\n",
       "      <th>tb_sentiment</th>\n",
       "      <th>nltk_polarity</th>\n",
       "      <th>nltk_sentiment</th>\n",
       "    </tr>\n",
       "  </thead>\n",
       "  <tbody>\n",
       "    <tr>\n",
       "      <th>32</th>\n",
       "      <td>negative</td>\n",
       "      <td>1.0</td>\n",
       "      <td>Virgin America</td>\n",
       "      <td>@VirginAmerica help, left expensive headphones...</td>\n",
       "      <td>help left expensive headphones on flight iad t...</td>\n",
       "      <td>[]</td>\n",
       "      <td>[VirginAmerica]</td>\n",
       "      <td>-0.250</td>\n",
       "      <td>negative</td>\n",
       "      <td>0.2023</td>\n",
       "      <td>positive</td>\n",
       "    </tr>\n",
       "    <tr>\n",
       "      <th>13289</th>\n",
       "      <td>negative</td>\n",
       "      <td>1.0</td>\n",
       "      <td>American</td>\n",
       "      <td>@AmericanAir Priority baggage evidently means ...</td>\n",
       "      <td>priority baggage evidently means it comes out ...</td>\n",
       "      <td>[]</td>\n",
       "      <td>[AmericanAir]</td>\n",
       "      <td>0.125</td>\n",
       "      <td>positive</td>\n",
       "      <td>0.0000</td>\n",
       "      <td>neutral</td>\n",
       "    </tr>\n",
       "    <tr>\n",
       "      <th>13064</th>\n",
       "      <td>neutral</td>\n",
       "      <td>1.0</td>\n",
       "      <td>American</td>\n",
       "      <td>@AmericanAir Thank you</td>\n",
       "      <td>thank you</td>\n",
       "      <td>[]</td>\n",
       "      <td>[AmericanAir]</td>\n",
       "      <td>0.000</td>\n",
       "      <td>neutral</td>\n",
       "      <td>0.3612</td>\n",
       "      <td>positive</td>\n",
       "    </tr>\n",
       "    <tr>\n",
       "      <th>8257</th>\n",
       "      <td>negative</td>\n",
       "      <td>1.0</td>\n",
       "      <td>Delta</td>\n",
       "      <td>@JetBlue Sent an email more than 24 hours ago ...</td>\n",
       "      <td>sent an email more than hours ago asking few q...</td>\n",
       "      <td>[]</td>\n",
       "      <td>[JetBlue]</td>\n",
       "      <td>0.150</td>\n",
       "      <td>positive</td>\n",
       "      <td>-0.2960</td>\n",
       "      <td>negative</td>\n",
       "    </tr>\n",
       "    <tr>\n",
       "      <th>11113</th>\n",
       "      <td>neutral</td>\n",
       "      <td>1.0</td>\n",
       "      <td>US Airways</td>\n",
       "      <td>@USAirways How will I change it?</td>\n",
       "      <td>how will change it</td>\n",
       "      <td>[]</td>\n",
       "      <td>[USAirways]</td>\n",
       "      <td>0.000</td>\n",
       "      <td>neutral</td>\n",
       "      <td>0.0000</td>\n",
       "      <td>neutral</td>\n",
       "    </tr>\n",
       "  </tbody>\n",
       "</table>\n",
       "</div>"
      ],
      "text/plain": [
       "      airline_sentiment  airline_sentiment_confidence         airline  \\\n",
       "32             negative                           1.0  Virgin America   \n",
       "13289          negative                           1.0        American   \n",
       "13064           neutral                           1.0        American   \n",
       "8257           negative                           1.0           Delta   \n",
       "11113           neutral                           1.0      US Airways   \n",
       "\n",
       "                                                    text  \\\n",
       "32     @VirginAmerica help, left expensive headphones...   \n",
       "13289  @AmericanAir Priority baggage evidently means ...   \n",
       "13064                             @AmericanAir Thank you   \n",
       "8257   @JetBlue Sent an email more than 24 hours ago ...   \n",
       "11113                   @USAirways How will I change it?   \n",
       "\n",
       "                                              clean_text hashtags  \\\n",
       "32     help left expensive headphones on flight iad t...       []   \n",
       "13289  priority baggage evidently means it comes out ...       []   \n",
       "13064                                          thank you       []   \n",
       "8257   sent an email more than hours ago asking few q...       []   \n",
       "11113                                 how will change it       []   \n",
       "\n",
       "               handles  tb_polarity tb_sentiment  nltk_polarity nltk_sentiment  \n",
       "32     [VirginAmerica]       -0.250     negative         0.2023       positive  \n",
       "13289    [AmericanAir]        0.125     positive         0.0000        neutral  \n",
       "13064    [AmericanAir]        0.000      neutral         0.3612       positive  \n",
       "8257         [JetBlue]        0.150     positive        -0.2960       negative  \n",
       "11113      [USAirways]        0.000      neutral         0.0000        neutral  "
      ]
     },
     "execution_count": 15,
     "metadata": {},
     "output_type": "execute_result"
    }
   ],
   "source": [
    "analyzer = SentimentIntensityAnalyzer()\n",
    "def cal(x):\n",
    "    a=''\n",
    "    if x>0:\n",
    "        a='positive'\n",
    "    elif x <0:\n",
    "        a='negative'\n",
    "    else:\n",
    "        a='neutral'\n",
    "    \n",
    "    return a\n",
    "\n",
    "df['nltk_polarity'] = df['clean_text'].apply(lambda x: analyzer.polarity_scores(x)['compound'])\n",
    "df['nltk_sentiment'] = df['nltk_polarity'].apply(lambda x: cal(x))\n",
    "\n",
    "df.sample(n=5)"
   ]
  },
  {
   "cell_type": "code",
   "execution_count": 16,
   "metadata": {},
   "outputs": [
    {
     "data": {
      "text/plain": [
       "array([[0.9081, 'Delta',\n",
       "        '@JetBlue why yes, yes it does!!!!  Great trip down!! Thanks for the lift!!!!'],\n",
       "       [0.8555, 'Southwest',\n",
       "        \"@SouthwestAir in flight wifi + @TMobile wifi calling makes for the best combination. Who doesn't love texting 40,000 feet in the air :D\"],\n",
       "       [0.8625, 'US Airways',\n",
       "        '@USAirways  thank you! Glad to be heading home! Great people at your call center!'],\n",
       "       [0.9231, 'US Airways',\n",
       "        '@USAirways They were breathing very heavily. but were super helpful. Thank you.'],\n",
       "       [0.8834, 'Southwest',\n",
       "        '@SouthwestAir Thanks for getting us to paradise safely! http://t.co/KDzQcZlpyR']],\n",
       "      dtype=object)"
      ]
     },
     "execution_count": 16,
     "metadata": {},
     "output_type": "execute_result"
    }
   ],
   "source": [
    "df.loc[df.nltk_polarity > .85 , [\"nltk_polarity\", \"airline\", \"text\"]].sample(5).values"
   ]
  },
  {
   "cell_type": "code",
   "execution_count": 17,
   "metadata": {},
   "outputs": [
    {
     "data": {
      "text/plain": [
       "array([[-0.8858, 'United',\n",
       "        '@united really fucked my day up Hilo to LAX 2hr30min delay because of software? missed connection, getting home 8hrs Late Flightr no upgrade nothin'],\n",
       "       [-0.8689, 'United',\n",
       "        '@united has the worst flight attendants. They are like those angry and drunk aunts that we all have. Everything has to be an argument.'],\n",
       "       [-0.8591, 'American',\n",
       "        '@AmericanAir 3231DTW to LAG at 4:45. Flight Cancelled Flightled with no notice. Given a voucher to a dirty hotel, with no food vouchers or apology.'],\n",
       "       [-0.8555, 'United',\n",
       "        '@united Unfortunately had a bad experience flying with you on Saturday. Inpolite crew, bad delays.'],\n",
       "       [-0.9042, 'American',\n",
       "        '@AmericanAir Are you people cruel or just stupid? Why are you posting my personal email on the damn Internet? Have u lost your mind?!']],\n",
       "      dtype=object)"
      ]
     },
     "execution_count": 17,
     "metadata": {},
     "output_type": "execute_result"
    }
   ],
   "source": [
    "df.loc[df.nltk_polarity < -0.85 , [\"nltk_polarity\", \"airline\", \"text\"]].sample(5).values"
   ]
  },
  {
   "cell_type": "markdown",
   "metadata": {},
   "source": [
    "## How correlated are the polarity scores between TextBlob and NTLK?"
   ]
  },
  {
   "cell_type": "code",
   "execution_count": 18,
   "metadata": {},
   "outputs": [
    {
     "name": "stdout",
     "output_type": "stream",
     "text": [
      "[[1.        0.5602282]\n",
      " [0.5602282 1.       ]]\n"
     ]
    }
   ],
   "source": [
    "import numpy as np\n",
    "print(np.corrcoef(df.tb_polarity, df.nltk_polarity))      # Correlation"
   ]
  },
  {
   "cell_type": "code",
   "execution_count": 19,
   "metadata": {},
   "outputs": [],
   "source": [
    "from sklearn.metrics import accuracy_score\n",
    "\n",
    "\n",
    "text_lob_acc=accuracy_score(df.airline_sentiment,df.tb_sentiment)\n",
    "nltk_acc=accuracy_score(df.airline_sentiment,df.nltk_sentiment)"
   ]
  },
  {
   "cell_type": "code",
   "execution_count": 20,
   "metadata": {},
   "outputs": [
    {
     "name": "stdout",
     "output_type": "stream",
     "text": [
      "0.4507513661202186\n"
     ]
    }
   ],
   "source": [
    "print(text_lob_acc)"
   ]
  },
  {
   "cell_type": "code",
   "execution_count": 21,
   "metadata": {},
   "outputs": [
    {
     "name": "stdout",
     "output_type": "stream",
     "text": [
      "0.5399590163934426\n"
     ]
    }
   ],
   "source": [
    "print(nltk_acc)"
   ]
  },
  {
   "cell_type": "code",
   "execution_count": 22,
   "metadata": {},
   "outputs": [],
   "source": [
    "# Question: Which sentiment analysis is more accurate: NLTK or Textblob?\n",
    "# Try sentiment analysis using other packages such as Gensim (https://radimrehurek.com/gensim/)"
   ]
  },
  {
   "cell_type": "markdown",
   "metadata": {},
   "source": [
    "### Data visualizations using seaborn"
   ]
  },
  {
   "cell_type": "code",
   "execution_count": 23,
   "metadata": {},
   "outputs": [
    {
     "name": "stdout",
     "output_type": "stream",
     "text": [
      "United 3822\n",
      "Southwst 2420\n",
      "American 2759\n"
     ]
    }
   ],
   "source": [
    "airlines_of_interest = [\"United\", \"Southwest\", \"American\"]\n",
    "#data = df[df.tb_polarity != 0]\n",
    "data = df[(df.tb_polarity < -0.1) | (df.tb_polarity > 0.1)]\n",
    "data = data.loc[df.airline.isin(airlines_of_interest)]\n",
    "\n",
    "print(\"United\", df.airline[df.airline == 'United'].count())\n",
    "print(\"Southwst\", df.airline[df.airline == 'Southwest'].count())\n",
    "print(\"American\", df.airline[df.airline == 'American'].count())"
   ]
  },
  {
   "cell_type": "code",
   "execution_count": 24,
   "metadata": {},
   "outputs": [
    {
     "name": "stderr",
     "output_type": "stream",
     "text": [
      "No artists with labels found to put in legend.  Note that artists whose label start with an underscore are ignored when legend() is called with no argument.\n"
     ]
    },
    {
     "data": {
      "image/png": "[encoded data removed]",
      "text/plain": [
       "<Figure size 640x480 with 1 Axes>"
      ]
     },
     "metadata": {},
     "output_type": "display_data"
    }
   ],
   "source": [
    "fig, ax = plt.subplots()\n",
    "ax.legend().set_title(\"SOMETHING\")\n",
    "\n",
    "#sns.kdeplot(data=data, x=\"polarity\", hue=\"airline\", multiple=\"stack\")\n",
    "\n",
    "#sns.histplot(data=data, x=\"tb_polarity\", hue=\"airline\", multiple=\"stack\", kde=True)\n",
    "#sns.histplot(data=data, x=\"tb_polarity\", hue=\"airline\", multiple=\"stack\", element='step', kde=True)\n",
    "#sns.histplot(data=data, x=\"tb_polarity\", hue=\"airline\", multiple=\"stack\", element='step', stat=\"density\", common_norm=False, cumulative=True, kde=True)\n",
    "sns.histplot(data=data, x=\"tb_polarity\", hue=\"airline\", multiple=\"stack\", element='step', kde=True)\n",
    "#sns.histplot(data=data, x=\"tb_polarity\", hue=\"airline\", multiple=\"stack\", element='poly', kde=True)\n",
    "#sns.histplot(data=data, x=\"tb_polarity\", hue=\"airline\", multiple=\"fill\", kde=True)\n",
    "#sns.histplot(data=data, x=\"tb_polarity\", hue=\"airline\", multiple=\"layer\", kde=True)\n",
    "\n",
    "#sns.histplot(data=data, x=\"tb_polarity\", hue=\"airline\", multiple=\"dodge\", kde=True)\n",
    "\n",
    "\n",
    "plt.title(\"Sentiment Polarity of Two Airlines\")\n",
    "plt.ylabel(\"Tweet Count\")\n",
    "plt.show()"
   ]
  },
  {
   "cell_type": "markdown",
   "metadata": {},
   "source": [
    "### analysis \n",
    "- Accuracy \n",
    "    - NLTK 0.5399590163934426\n",
    "    - Textblob 0.4507513661202186\n",
    "- From above result we can say that NLTK as more accuracy score "
   ]
  }
 ],
 "metadata": {
  "kernelspec": {
   "display_name": "Python 3",
   "language": "python",
   "name": "python3"
  },
  "language_info": {
   "codemirror_mode": {
    "name": "ipython",
    "version": 3
   },
   "file_extension": ".py",
   "mimetype": "text/x-python",
   "name": "python",
   "nbconvert_exporter": "python",
   "pygments_lexer": "ipython3",
   "version": "3.11.4"
  }
 },
 "nbformat": 4,
 "nbformat_minor": 2
}
